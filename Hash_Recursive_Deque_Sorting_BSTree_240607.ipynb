{
 "cells": [
  {
   "cell_type": "markdown",
   "id": "e32ba133-5a6e-428d-a4f6-79fcf57e13da",
   "metadata": {},
   "source": [
    "## Hash : 해시 테이블\n",
    "- 해시 충돌의 대처 방법\n",
    "    - 체인법 : 원소의 해시 값이 일치하는 경우, 리스트로 관리\n",
    "    - 오픈 주소법(오픈 어드레싱) : 빈 버킷을 찾을 때까지 해시를 반복 (n+1)... 등\n",
    "\n",
    "- 해시 테이블의 사용 사례\n",
    "    - 데이터베이스 인덱싱, 캐싱, 집합 연산, 중복 제거 등에 사용\n",
    "    - 해시 테이블은 빠른 검색, 삽입, 삭제가 필요할 때 유용하다."
   ]
  },
  {
   "cell_type": "code",
   "execution_count": 1,
   "id": "b8ccc86b-4a07-4530-bdef-9dc11d51d0e3",
   "metadata": {},
   "outputs": [],
   "source": [
    "# 체인법의 예\n",
    "\n",
    "class HashTable:\n",
    "    def __init__(self):\n",
    "        self.table = [[] for _ in range(10)]      # 해시 테이블의 크기를 정의\n",
    "\n",
    "    def _hash(self, key):\n",
    "        return hash(key) % len(self.table)        # 해시 함수의 정의 : 키 / 테이블 크기의 나머지 값\n",
    "\n",
    "    def insert(self, key, value):\n",
    "        index = self._hash(key)                   # 삽입 함수의 구현\n",
    "        self.table[index].append((key, value))    # 체인법 : 해시 충돌을 방지하기 위하여 (key, value)를 동일한 index에 apppend 처리\n",
    "\n",
    "    def search(self, key):                        # 검색(찾기) 함수의 구현\n",
    "        index = self._hash(key)                   # 입력된 키 값을 해시 함수를 거처 인덱스 계산\n",
    "        for k, v in self.table[index]:            # 해당 인덱스에 여러 개의 (key, value)가 리스트로 저장되어 있는 경우를 가정\n",
    "            if k == key:\n",
    "                return v                          # 체인된 리스트를 순회하며 일치하는 key 값이 있는 경우 value를 반환\n",
    "        return None\n",
    "\n",
    "student_table = HashTable()\n",
    "\n",
    "student_table.insert(11, \"Jane\")\n",
    "student_table.insert(21, \"John\")                  # Jane과 John은 동일한 index에 저장된다. Hash 연산에서 결과 1 이므로,\n",
    "student_table.insert(2, \"Michael\")          "
   ]
  },
  {
   "cell_type": "code",
   "execution_count": 2,
   "id": "554776ca-4cd9-4948-a4a3-b3e186d3f365",
   "metadata": {},
   "outputs": [
    {
     "data": {
      "text/plain": [
       "[[],\n",
       " [(11, 'Jane'), (21, 'John')],\n",
       " [(2, 'Michael')],\n",
       " [],\n",
       " [],\n",
       " [],\n",
       " [],\n",
       " [],\n",
       " [],\n",
       " []]"
      ]
     },
     "execution_count": 2,
     "metadata": {},
     "output_type": "execute_result"
    }
   ],
   "source": [
    "student_table.table"
   ]
  },
  {
   "cell_type": "code",
   "execution_count": 3,
   "id": "e31a703c-294c-4fa3-8567-9e5ae93722b0",
   "metadata": {},
   "outputs": [
    {
     "data": {
      "text/plain": [
       "'John'"
      ]
     },
     "execution_count": 3,
     "metadata": {},
     "output_type": "execute_result"
    }
   ],
   "source": [
    "# 동일한 index에 하나의 리스트로 연결되어(Chinded) 있으나,\n",
    "# 검색하는데 문제는 없다. (240523)\n",
    "\n",
    "student_table.search(21)"
   ]
  },
  {
   "cell_type": "code",
   "execution_count": 5,
   "id": "4ec4bd18-cc2b-4e25-9d4c-85282b10f902",
   "metadata": {},
   "outputs": [
    {
     "data": {
      "text/plain": [
       "(21, 'John')"
      ]
     },
     "execution_count": 5,
     "metadata": {},
     "output_type": "execute_result"
    }
   ],
   "source": [
    "# 연결된 리스트를 추출하는 방법\n",
    "\n",
    "student_table.table[1][1]"
   ]
  },
  {
   "cell_type": "markdown",
   "id": "ecde0c4f-adee-4f5c-9f20-e26333b8ce48",
   "metadata": {},
   "source": [
    "### 스택과 큐 : 복잡도(Complexity - Time/Space)\n",
    "- 파이썬에서는 덱(Deque)을 주로 사용\n",
    "- 내장 모듈인 collections에 있으며, 스태과 큐를 합쳐놓은 듯한 자료 구조\n",
    "- 덱은 Double Embeded QUEue의 약자, 리스트에서 가장 앞에 있는 데이터를 꺼내기 위해서는 pop(0)를 사용\n",
    "- deque에서는 popleft() 함수를 사용, 이 함수를 사용해도 pop(0)처럼 비효율적이지 않고 O(1)의 시간 복잡도(Time Complexity)를 가진다."
   ]
  },
  {
   "cell_type": "code",
   "execution_count": 7,
   "id": "6e7f6185-f336-4f05-9577-0929c64ea476",
   "metadata": {},
   "outputs": [
    {
     "name": "stdout",
     "output_type": "stream",
     "text": [
      "deque([2, 1])\n",
      "1\n",
      "2\n"
     ]
    }
   ],
   "source": [
    "from collections import deque\n",
    "\n",
    "dq = deque()       # 덱 생성\n",
    "\n",
    "# 앞/뒤로 데이터를 추가하고 \n",
    "# 앞/뒤로 데이터를 꺼내기\n",
    "\n",
    "dq.append(1)        # dq에 뒤로 데이터 넣기\n",
    "dq.appendleft(2)    # dq에 앞으로 데이터 넣기\n",
    "\n",
    "print(dq)\n",
    "\n",
    "print(dq.pop())\n",
    "print(dq.popleft())"
   ]
  },
  {
   "cell_type": "code",
   "execution_count": 8,
   "id": "6a17d972-9db6-4ad7-b73c-18fc8e77878b",
   "metadata": {},
   "outputs": [
    {
     "ename": "IndexError",
     "evalue": "pop from an empty deque",
     "output_type": "error",
     "traceback": [
      "\u001b[1;31m---------------------------------------------------------------------------\u001b[0m",
      "\u001b[1;31mIndexError\u001b[0m                                Traceback (most recent call last)",
      "Cell \u001b[1;32mIn[8], line 3\u001b[0m\n\u001b[0;32m      1\u001b[0m \u001b[38;5;66;03m# 위 명령에서 덱에서 모든 원소를 꺼내어 비어 있는 상태 : 에러 메세지 출력\u001b[39;00m\n\u001b[1;32m----> 3\u001b[0m \u001b[38;5;28mprint\u001b[39m(dq\u001b[38;5;241m.\u001b[39mpop())\n\u001b[0;32m      4\u001b[0m \u001b[38;5;28mprint\u001b[39m(dq\u001b[38;5;241m.\u001b[39mpopleft())\n",
      "\u001b[1;31mIndexError\u001b[0m: pop from an empty deque"
     ]
    }
   ],
   "source": [
    "# 위 명령에서 덱에서 모든 원소를 꺼내어 비어 있는 상태 : 에러 메세지 출력\n",
    "\n",
    "print(dq.pop())\n",
    "print(dq.popleft())"
   ]
  },
  {
   "cell_type": "markdown",
   "id": "10d11b99-26b4-42c7-8201-49ff91c48933",
   "metadata": {},
   "source": [
    "### deque는 일반적인 리스트가 아니다.\n",
    "- 리스트 객체도 비슷한 연산을 지원하지만, 빠른 고정 길이 연산에 최적화되어 있다.\n",
    "- 기본 데이터의 크기와 위치를 변경하는 팝과 삽인 연산에 O(n)의 메모리 이동 비용이 발생한다."
   ]
  },
  {
   "cell_type": "code",
   "execution_count": 9,
   "id": "ec7fd6f7-7fb0-4f39-be85-4fbd236c95f5",
   "metadata": {},
   "outputs": [
    {
     "name": "stdout",
     "output_type": "stream",
     "text": [
      "deque([0, 1, 2, 3, 4, 5, 6, 7, 8, 9])\n"
     ]
    }
   ],
   "source": [
    "dq_2 = deque()\n",
    "\n",
    "for i in range(10):\n",
    "    dq_2.append(i)\n",
    "\n",
    "print(dq_2)"
   ]
  },
  {
   "cell_type": "code",
   "execution_count": 11,
   "id": "921fda61-ec58-44af-812b-be135ddbc762",
   "metadata": {},
   "outputs": [
    {
     "name": "stdout",
     "output_type": "stream",
     "text": [
      "0\n",
      "1\n",
      "2\n",
      "3\n",
      "4\n",
      "5\n",
      "6\n",
      "7\n",
      "8\n",
      "9\n"
     ]
    }
   ],
   "source": [
    "for i in range(10):\n",
    "    print(dq_2.popleft())"
   ]
  },
  {
   "cell_type": "code",
   "execution_count": 13,
   "id": "9ffd7675-f0a2-461e-bffe-9b5100cf9d8e",
   "metadata": {},
   "outputs": [
    {
     "name": "stdout",
     "output_type": "stream",
     "text": [
      "deque([])\n"
     ]
    }
   ],
   "source": [
    "print(dq_2)    # 모든 요소를 다 꺼낸 상태로 덱은 비어있다."
   ]
  },
  {
   "cell_type": "code",
   "execution_count": 14,
   "id": "39bafca9-3b90-4676-837f-2f76cf7f0fe6",
   "metadata": {},
   "outputs": [
    {
     "name": "stdout",
     "output_type": "stream",
     "text": [
      "deque([9, 8, 7, 6, 5, 4, 3, 2, 1, 0, 10, 9, 8, 7, 6, 5, 4, 3, 2, 1])\n"
     ]
    }
   ],
   "source": [
    "# 앞/뒤로 데이터 채우기\n",
    "\n",
    "for i in range (10):\n",
    "    dq_2.appendleft(i)\n",
    "    dq_2.append(10-i)\n",
    "\n",
    "print(dq_2)"
   ]
  },
  {
   "cell_type": "markdown",
   "id": "3eb0a7d2-0e79-4dbc-a060-e2bb849414f8",
   "metadata": {},
   "source": [
    "### dqque를 이용하여 리스트 회전하기"
   ]
  },
  {
   "cell_type": "code",
   "execution_count": 15,
   "id": "c25ef4cf-6dd7-4784-9951-0a80704cd4bd",
   "metadata": {},
   "outputs": [
    {
     "data": {
      "text/plain": [
       "deque([9, 10, 1, 2, 3, 4, 5, 6, 7, 8])"
      ]
     },
     "execution_count": 15,
     "metadata": {},
     "output_type": "execute_result"
    }
   ],
   "source": [
    "from collections import deque\n",
    "\n",
    "list_test = [1, 2, 3, 4, 5, 6, 7, 8, 9, 10]\n",
    "\n",
    "dq_test = deque(list_test)      # 리스트를 덱으로 정의\n",
    "dq_test.rotate(2)               # 2칸 만큼 회전(시계방향, 양수  입력)\n",
    "\n",
    "dq_test"
   ]
  },
  {
   "cell_type": "code",
   "execution_count": 16,
   "id": "b9a54475-dd2d-48cc-a27b-7390e08f4540",
   "metadata": {},
   "outputs": [
    {
     "name": "stdout",
     "output_type": "stream",
     "text": [
      "3\n"
     ]
    },
    {
     "data": {
      "text/plain": [
       "[1, 2, 4, 5]"
      ]
     },
     "execution_count": 16,
     "metadata": {},
     "output_type": "execute_result"
    }
   ],
   "source": [
    "# 응용 : 리스트의 가운데 있는 숫자 '3'을 꺼내는 방법\n",
    "# 리스트의 형태는 그대로 유지하고,\n",
    "# Time/Space Complexity를 최소화 하는 방법 : 회전\n",
    "\n",
    "from collections import deque\n",
    "\n",
    "test = [1, 2, 3, 4, 5]       # 한 가운데 있는 '3'을 꺼내는 문제\n",
    "dq = deque(test)\n",
    "\n",
    "dq.rotate(3)\n",
    "print(dq.popleft())          # 회전 후, 리스트 맨 앞의 요소 꺼내기\n",
    "\n",
    "dq.rotate(-2)                # 원래 모양으로 변경, 반대로 회전. 단, 1개의 요소를 꺼냈으므로 반시계 방향으로 (n-1 = -2)만큼 회전\n",
    "test = list(dq)              # 리스트 형태로 원복\n",
    "\n",
    "test"
   ]
  },
  {
   "cell_type": "code",
   "execution_count": null,
   "id": "45bb4179-8015-49ed-891f-2b509c03f17a",
   "metadata": {},
   "outputs": [],
   "source": [
    "# 한 가운데 '3'이 제거된 리스트를 출력함 (240522)"
   ]
  },
  {
   "cell_type": "markdown",
   "id": "61b65109-be42-45d5-9fbf-49db8013dcd5",
   "metadata": {},
   "source": [
    "### 재귀 함수"
   ]
  },
  {
   "cell_type": "code",
   "execution_count": 17,
   "id": "d02b11dd-2175-44ab-b36e-fc46248a943b",
   "metadata": {},
   "outputs": [
    {
     "data": {
      "text/plain": [
       "120"
      ]
     },
     "execution_count": 17,
     "metadata": {},
     "output_type": "execute_result"
    }
   ],
   "source": [
    "# Factorial\n",
    "# math.factorial()\n",
    "\n",
    "def factorial(n):\n",
    "    if n > 0:\n",
    "        return n * factorial(n-1)\n",
    "    else:\n",
    "        return 1\n",
    "\n",
    "factorial(5)"
   ]
  },
  {
   "cell_type": "code",
   "execution_count": 18,
   "id": "dcb34111-b905-4e5c-b6ba-a4eb71892f95",
   "metadata": {},
   "outputs": [
    {
     "name": "stdout",
     "output_type": "stream",
     "text": [
      "n=  5\n",
      "n=  4\n",
      "n=  3\n",
      "n=  2\n",
      "n=  1\n",
      "n=  0\n",
      "factorual -ing =  1\n",
      "factorual -ing =  2\n",
      "factorual -ing =  6\n",
      "factorual -ing =  24\n",
      "factorual -ing =  120\n"
     ]
    },
    {
     "data": {
      "text/plain": [
       "120"
      ]
     },
     "execution_count": 18,
     "metadata": {},
     "output_type": "execute_result"
    }
   ],
   "source": [
    "# 재귀 알고리즘의 실시간 모니터링\n",
    "\n",
    "def factorial(n):\n",
    "    print(\"n= \", n)\n",
    "    \n",
    "    if n > 0:\n",
    "        a = n * factorial(n-1)\n",
    "        print(\"factorual -ing = \", a)\n",
    "        return a\n",
    "    else:\n",
    "        return 1\n",
    "\n",
    "factorial(5)"
   ]
  },
  {
   "cell_type": "code",
   "execution_count": null,
   "id": "29e49652-284f-4404-a8a5-bd8d9ab1d04d",
   "metadata": {},
   "outputs": [],
   "source": [
    "# Factoral 계산 결과 (a) 출력 확인 -> 왜 이 순서대로 출력되는가? (240523)"
   ]
  },
  {
   "cell_type": "code",
   "execution_count": 19,
   "id": "99573986-220c-4c23-848b-44669f1d3f2c",
   "metadata": {},
   "outputs": [
    {
     "name": "stdout",
     "output_type": "stream",
     "text": [
      "num1 =  112 num2 =  189\n",
      "num1 =  189 num2 =  112\n",
      "num1 =  112 num2 =  77\n",
      "num1 =  77 num2 =  35\n",
      "num1 =  35 num2 =  7\n"
     ]
    },
    {
     "data": {
      "text/plain": [
       "7"
      ]
     },
     "execution_count": 19,
     "metadata": {},
     "output_type": "execute_result"
    }
   ],
   "source": [
    "# gcd 재귀 함수 : 유클리드 호제법\n",
    "\n",
    "def GCD_recursion(num1, num2):\n",
    "\n",
    "    if num2 == 0:\n",
    "        return num1\n",
    "\n",
    "    else:\n",
    "        print(\"num1 = \", num1, \"num2 = \", num2)\n",
    "        return GCD_recursion(num2, num1%num2)        \n",
    "\n",
    "GCD_recursion(112, 189)   # 입력 순서가 바뀌어도 상관없다. % 연산의 결과 (240523)"
   ]
  },
  {
   "cell_type": "code",
   "execution_count": 20,
   "id": "13f3f4b0-5f93-4a18-afa8-ad22c97d452a",
   "metadata": {},
   "outputs": [
    {
     "data": {
      "text/plain": [
       "2"
      ]
     },
     "execution_count": 20,
     "metadata": {},
     "output_type": "execute_result"
    }
   ],
   "source": [
    "12%5"
   ]
  },
  {
   "cell_type": "code",
   "execution_count": 21,
   "id": "799ed01a-6949-43d2-8100-4f87feaebdbe",
   "metadata": {},
   "outputs": [
    {
     "data": {
      "text/plain": [
       "5"
      ]
     },
     "execution_count": 21,
     "metadata": {},
     "output_type": "execute_result"
    }
   ],
   "source": [
    "5%12"
   ]
  },
  {
   "cell_type": "code",
   "execution_count": 22,
   "id": "1708d0e1-aa97-44d5-aa79-a65829e97349",
   "metadata": {},
   "outputs": [
    {
     "name": "stdout",
     "output_type": "stream",
     "text": [
      "num1 =  189 num2 =  112\n",
      "num1 =  112 num2 =  77\n",
      "num1 =  77 num2 =  35\n",
      "num1 =  35 num2 =  7\n"
     ]
    },
    {
     "data": {
      "text/plain": [
       "7"
      ]
     },
     "execution_count": 22,
     "metadata": {},
     "output_type": "execute_result"
    }
   ],
   "source": [
    "def GCD_recursion(num1, num2):\n",
    "\n",
    "    if num2 == 0:\n",
    "        return num1\n",
    "\n",
    "    else:\n",
    "        print(\"num1 = \", num1, \"num2 = \", num2)\n",
    "        return GCD_recursion(num2, num1%num2)        \n",
    "\n",
    "GCD_recursion(189, 112)   # 입력 순서가 바뀌어도 상관없다. % 연산의 결과 (240523)"
   ]
  },
  {
   "cell_type": "code",
   "execution_count": 1,
   "id": "5065f154-341d-4415-bc7c-70695e64f6d0",
   "metadata": {},
   "outputs": [
    {
     "data": {
      "text/plain": [
       "[7, 11, 16, 23, 28, 32]"
      ]
     },
     "execution_count": 1,
     "metadata": {},
     "output_type": "execute_result"
    }
   ],
   "source": [
    "# 응용 : 회전하는 덱으로 로또 번호 추출하기\n",
    "\n",
    "from collections import  deque\n",
    "import random\n",
    "\n",
    "list = []*45     # 랜덤 회전으로 선택할 1~45 사이의 숫자 리스트\n",
    "\n",
    "for i in range(45):\n",
    "    list.append(i+1)\n",
    "\n",
    "# 기 회차 당첨 번호 지우기\n",
    "list.remove(2)\n",
    "list.remove(19)\n",
    "list.remove(26)\n",
    "list.remove(31)\n",
    "list.remove(38)\n",
    "list.remove(34)\n",
    "\n",
    "\n",
    "dq = deque(list)\n",
    "\n",
    "lotto = []*6       # 6개의 로또 번호를 저장할 리스트\n",
    "\n",
    "for i in range(6):\n",
    "    dq.rotate(random.randint(0, 45))   # 0~45 사이의 랜덤 회전\n",
    "    a = dq.popleft()                   # 회전 후, 맨 앞의 숫자 꺼내기\n",
    "    lotto.append(a)\n",
    "\n",
    "lotto.sort()                           # 선택된 6개의 숫자를 정렬\n",
    "lotto"
   ]
  },
  {
   "cell_type": "markdown",
   "id": "03189559-cb33-42b6-9384-b465d003e2ed",
   "metadata": {},
   "source": [
    "### 재귀함수 : 하노이 탑 문제"
   ]
  },
  {
   "cell_type": "code",
   "execution_count": 4,
   "id": "32750734-a5a2-48c5-a77f-51b5d5ec2896",
   "metadata": {},
   "outputs": [
    {
     "name": "stdout",
     "output_type": "stream",
     "text": [
      "1의 맨 위에 있는 판을 3로 이동\n",
      "1의 맨 위에 있는 판을 2로 이동\n",
      "3의 맨 위에 있는 판을 2로 이동\n",
      "1의 맨 위에 있는 판을 3로 이동\n",
      "2의 맨 위에 있는 판을 1로 이동\n",
      "2의 맨 위에 있는 판을 3로 이동\n",
      "1의 맨 위에 있는 판을 3로 이동\n"
     ]
    }
   ],
   "source": [
    "def hanoi(x, start, aux, end):\n",
    "    global answer     # 글로벌 변수 : 함수를 탈출해도 변수 값은 유지\n",
    "\n",
    "    # 종료 조건 정의\n",
    "    if x == 1:\n",
    "        answer.append([start, end])   # 조각의 이동 경로를 기록\n",
    "        return   \n",
    "\n",
    "    # x-1개를 보조에 먼저 옮기기\n",
    "    hanoi(x-1, start, end, aux)\n",
    "\n",
    "    # 남은 1개를 목표에 옯기기\n",
    "    answer.append([start, end])\n",
    "\n",
    "    # 보조의 x-1개를 목표로 옮기기\n",
    "    hanoi(x-1, aux, start, end)\n",
    "\n",
    "answer = []     # 글로벌 함수의 초기화\n",
    "\n",
    "n = 3\n",
    "hanoi(n, 1, 2, 3)   # 총 갯수, 시작위치, 보조위치, 끝 위치\n",
    "\n",
    "for a in enumerate(answer):\n",
    "    # print(a[1][0])   # 연번 + (start, target) 출력\n",
    "    print(f'{a[1][0]}의 맨 위에 있는 판을 {a[1][1]}로 이동')\n",
    "    # 직관적으로 이해하기 위해 문장 형식으로 출력(240529)"
   ]
  },
  {
   "cell_type": "markdown",
   "id": "00f4305b-d9d5-4dbb-92e8-2bf3032cfe72",
   "metadata": {},
   "source": [
    "### 정렬 1 : Bubble Sorting (240529)"
   ]
  },
  {
   "cell_type": "code",
   "execution_count": 2,
   "id": "7199dae5-248f-4fd0-9bee-0e0d10bf1324",
   "metadata": {},
   "outputs": [
    {
     "name": "stdout",
     "output_type": "stream",
     "text": [
      "The start of 0th Pass.\n",
      "[9, 10, 4, 2, 3, 6, 5, 7, 1, 8, 0]\n",
      "[9, 4, 10, 2, 3, 6, 5, 7, 1, 8, 0]\n",
      "[9, 4, 2, 10, 3, 6, 5, 7, 1, 8, 0]\n",
      "[9, 4, 2, 3, 10, 6, 5, 7, 1, 8, 0]\n",
      "[9, 4, 2, 3, 6, 10, 5, 7, 1, 8, 0]\n",
      "[9, 4, 2, 3, 6, 5, 10, 7, 1, 8, 0]\n",
      "[9, 4, 2, 3, 6, 5, 7, 10, 1, 8, 0]\n",
      "[9, 4, 2, 3, 6, 5, 7, 1, 10, 8, 0]\n",
      "[9, 4, 2, 3, 6, 5, 7, 1, 8, 10, 0]\n",
      "[9, 4, 2, 3, 6, 5, 7, 1, 8, 0, 10]\n",
      "The start of 1th Pass.\n",
      "[4, 9, 2, 3, 6, 5, 7, 1, 8, 0, 10]\n",
      "[4, 2, 9, 3, 6, 5, 7, 1, 8, 0, 10]\n",
      "[4, 2, 3, 9, 6, 5, 7, 1, 8, 0, 10]\n",
      "[4, 2, 3, 6, 9, 5, 7, 1, 8, 0, 10]\n",
      "[4, 2, 3, 6, 5, 9, 7, 1, 8, 0, 10]\n",
      "[4, 2, 3, 6, 5, 7, 9, 1, 8, 0, 10]\n",
      "[4, 2, 3, 6, 5, 7, 1, 9, 8, 0, 10]\n",
      "[4, 2, 3, 6, 5, 7, 1, 8, 9, 0, 10]\n",
      "[4, 2, 3, 6, 5, 7, 1, 8, 0, 9, 10]\n",
      "[4, 2, 3, 6, 5, 7, 1, 8, 0, 9, 10]\n",
      "The start of 2th Pass.\n",
      "[2, 4, 3, 6, 5, 7, 1, 8, 0, 9, 10]\n",
      "[2, 3, 4, 6, 5, 7, 1, 8, 0, 9, 10]\n",
      "[2, 3, 4, 6, 5, 7, 1, 8, 0, 9, 10]\n",
      "[2, 3, 4, 5, 6, 7, 1, 8, 0, 9, 10]\n",
      "[2, 3, 4, 5, 6, 7, 1, 8, 0, 9, 10]\n",
      "[2, 3, 4, 5, 6, 1, 7, 8, 0, 9, 10]\n",
      "[2, 3, 4, 5, 6, 1, 7, 8, 0, 9, 10]\n",
      "[2, 3, 4, 5, 6, 1, 7, 0, 8, 9, 10]\n",
      "[2, 3, 4, 5, 6, 1, 7, 0, 8, 9, 10]\n",
      "[2, 3, 4, 5, 6, 1, 7, 0, 8, 9, 10]\n",
      "The start of 3th Pass.\n",
      "[2, 3, 4, 5, 6, 1, 7, 0, 8, 9, 10]\n",
      "[2, 3, 4, 5, 6, 1, 7, 0, 8, 9, 10]\n",
      "[2, 3, 4, 5, 6, 1, 7, 0, 8, 9, 10]\n",
      "[2, 3, 4, 5, 6, 1, 7, 0, 8, 9, 10]\n",
      "[2, 3, 4, 5, 1, 6, 7, 0, 8, 9, 10]\n",
      "[2, 3, 4, 5, 1, 6, 7, 0, 8, 9, 10]\n",
      "[2, 3, 4, 5, 1, 6, 0, 7, 8, 9, 10]\n",
      "[2, 3, 4, 5, 1, 6, 0, 7, 8, 9, 10]\n",
      "[2, 3, 4, 5, 1, 6, 0, 7, 8, 9, 10]\n",
      "[2, 3, 4, 5, 1, 6, 0, 7, 8, 9, 10]\n",
      "The start of 4th Pass.\n",
      "[2, 3, 4, 5, 1, 6, 0, 7, 8, 9, 10]\n",
      "[2, 3, 4, 5, 1, 6, 0, 7, 8, 9, 10]\n",
      "[2, 3, 4, 5, 1, 6, 0, 7, 8, 9, 10]\n",
      "[2, 3, 4, 1, 5, 6, 0, 7, 8, 9, 10]\n",
      "[2, 3, 4, 1, 5, 6, 0, 7, 8, 9, 10]\n",
      "[2, 3, 4, 1, 5, 0, 6, 7, 8, 9, 10]\n",
      "[2, 3, 4, 1, 5, 0, 6, 7, 8, 9, 10]\n",
      "[2, 3, 4, 1, 5, 0, 6, 7, 8, 9, 10]\n",
      "[2, 3, 4, 1, 5, 0, 6, 7, 8, 9, 10]\n",
      "[2, 3, 4, 1, 5, 0, 6, 7, 8, 9, 10]\n",
      "The start of 5th Pass.\n",
      "[2, 3, 4, 1, 5, 0, 6, 7, 8, 9, 10]\n",
      "[2, 3, 4, 1, 5, 0, 6, 7, 8, 9, 10]\n",
      "[2, 3, 1, 4, 5, 0, 6, 7, 8, 9, 10]\n",
      "[2, 3, 1, 4, 5, 0, 6, 7, 8, 9, 10]\n",
      "[2, 3, 1, 4, 0, 5, 6, 7, 8, 9, 10]\n",
      "[2, 3, 1, 4, 0, 5, 6, 7, 8, 9, 10]\n",
      "[2, 3, 1, 4, 0, 5, 6, 7, 8, 9, 10]\n",
      "[2, 3, 1, 4, 0, 5, 6, 7, 8, 9, 10]\n",
      "[2, 3, 1, 4, 0, 5, 6, 7, 8, 9, 10]\n",
      "[2, 3, 1, 4, 0, 5, 6, 7, 8, 9, 10]\n",
      "The start of 6th Pass.\n",
      "[2, 3, 1, 4, 0, 5, 6, 7, 8, 9, 10]\n",
      "[2, 1, 3, 4, 0, 5, 6, 7, 8, 9, 10]\n",
      "[2, 1, 3, 4, 0, 5, 6, 7, 8, 9, 10]\n",
      "[2, 1, 3, 0, 4, 5, 6, 7, 8, 9, 10]\n",
      "[2, 1, 3, 0, 4, 5, 6, 7, 8, 9, 10]\n",
      "[2, 1, 3, 0, 4, 5, 6, 7, 8, 9, 10]\n",
      "[2, 1, 3, 0, 4, 5, 6, 7, 8, 9, 10]\n",
      "[2, 1, 3, 0, 4, 5, 6, 7, 8, 9, 10]\n",
      "[2, 1, 3, 0, 4, 5, 6, 7, 8, 9, 10]\n",
      "[2, 1, 3, 0, 4, 5, 6, 7, 8, 9, 10]\n",
      "The start of 7th Pass.\n",
      "[1, 2, 3, 0, 4, 5, 6, 7, 8, 9, 10]\n",
      "[1, 2, 3, 0, 4, 5, 6, 7, 8, 9, 10]\n",
      "[1, 2, 0, 3, 4, 5, 6, 7, 8, 9, 10]\n",
      "[1, 2, 0, 3, 4, 5, 6, 7, 8, 9, 10]\n",
      "[1, 2, 0, 3, 4, 5, 6, 7, 8, 9, 10]\n",
      "[1, 2, 0, 3, 4, 5, 6, 7, 8, 9, 10]\n",
      "[1, 2, 0, 3, 4, 5, 6, 7, 8, 9, 10]\n",
      "[1, 2, 0, 3, 4, 5, 6, 7, 8, 9, 10]\n",
      "[1, 2, 0, 3, 4, 5, 6, 7, 8, 9, 10]\n",
      "[1, 2, 0, 3, 4, 5, 6, 7, 8, 9, 10]\n",
      "The start of 8th Pass.\n",
      "[1, 2, 0, 3, 4, 5, 6, 7, 8, 9, 10]\n",
      "[1, 0, 2, 3, 4, 5, 6, 7, 8, 9, 10]\n",
      "[1, 0, 2, 3, 4, 5, 6, 7, 8, 9, 10]\n",
      "[1, 0, 2, 3, 4, 5, 6, 7, 8, 9, 10]\n",
      "[1, 0, 2, 3, 4, 5, 6, 7, 8, 9, 10]\n",
      "[1, 0, 2, 3, 4, 5, 6, 7, 8, 9, 10]\n",
      "[1, 0, 2, 3, 4, 5, 6, 7, 8, 9, 10]\n",
      "[1, 0, 2, 3, 4, 5, 6, 7, 8, 9, 10]\n",
      "[1, 0, 2, 3, 4, 5, 6, 7, 8, 9, 10]\n",
      "[1, 0, 2, 3, 4, 5, 6, 7, 8, 9, 10]\n",
      "The start of 9th Pass.\n",
      "[0, 1, 2, 3, 4, 5, 6, 7, 8, 9, 10]\n",
      "[0, 1, 2, 3, 4, 5, 6, 7, 8, 9, 10]\n",
      "[0, 1, 2, 3, 4, 5, 6, 7, 8, 9, 10]\n",
      "[0, 1, 2, 3, 4, 5, 6, 7, 8, 9, 10]\n",
      "[0, 1, 2, 3, 4, 5, 6, 7, 8, 9, 10]\n",
      "[0, 1, 2, 3, 4, 5, 6, 7, 8, 9, 10]\n",
      "[0, 1, 2, 3, 4, 5, 6, 7, 8, 9, 10]\n",
      "[0, 1, 2, 3, 4, 5, 6, 7, 8, 9, 10]\n",
      "[0, 1, 2, 3, 4, 5, 6, 7, 8, 9, 10]\n",
      "[0, 1, 2, 3, 4, 5, 6, 7, 8, 9, 10]\n"
     ]
    }
   ],
   "source": [
    "# 코드 직접 작성\n",
    "\n",
    "list = [10, 9, 4, 2, 3, 6, 5, 7, 1, 8, 0]\n",
    "n = len(list)\n",
    "\n",
    "for j in range(n-1):\n",
    "    print(f'The start of {j}th Pass.')\n",
    "\n",
    "    for i in range(n-1):\n",
    "        \n",
    "        if list[i] > list[i+1]:\n",
    "            temp = list[i+1]     # 자리 교환 방법 (옛날 방법)\n",
    "            list[i+1] = list[i]\n",
    "            list[i] = temp\n",
    "        \n",
    "        print(list)"
   ]
  },
  {
   "cell_type": "code",
   "execution_count": 4,
   "id": "dacff39e-f39d-4ff6-bb75-95a41db85644",
   "metadata": {},
   "outputs": [
    {
     "name": "stdout",
     "output_type": "stream",
     "text": [
      "The start of 0th Pass.\n",
      "[2, 4, 3, 6, 9, 10, 5, 7, 1, 8]\n",
      "[2, 3, 4, 6, 9, 10, 5, 7, 1, 8]\n",
      "[2, 3, 4, 6, 9, 10, 5, 7, 1, 8]\n",
      "[2, 3, 4, 6, 9, 10, 5, 7, 1, 8]\n",
      "[2, 3, 4, 6, 9, 10, 5, 7, 1, 8]\n",
      "[2, 3, 4, 6, 9, 5, 10, 7, 1, 8]\n",
      "[2, 3, 4, 6, 9, 5, 7, 10, 1, 8]\n",
      "[2, 3, 4, 6, 9, 5, 7, 1, 10, 8]\n",
      "[2, 3, 4, 6, 9, 5, 7, 1, 8, 10]\n",
      "The start of 1th Pass.\n",
      "[2, 3, 4, 6, 9, 5, 7, 1, 8, 10]\n",
      "[2, 3, 4, 6, 9, 5, 7, 1, 8, 10]\n",
      "[2, 3, 4, 6, 9, 5, 7, 1, 8, 10]\n",
      "[2, 3, 4, 6, 9, 5, 7, 1, 8, 10]\n",
      "[2, 3, 4, 6, 5, 9, 7, 1, 8, 10]\n",
      "[2, 3, 4, 6, 5, 7, 9, 1, 8, 10]\n",
      "[2, 3, 4, 6, 5, 7, 1, 9, 8, 10]\n",
      "[2, 3, 4, 6, 5, 7, 1, 8, 9, 10]\n",
      "[2, 3, 4, 6, 5, 7, 1, 8, 9, 10]\n",
      "The start of 2th Pass.\n",
      "[2, 3, 4, 6, 5, 7, 1, 8, 9, 10]\n",
      "[2, 3, 4, 6, 5, 7, 1, 8, 9, 10]\n",
      "[2, 3, 4, 6, 5, 7, 1, 8, 9, 10]\n",
      "[2, 3, 4, 5, 6, 7, 1, 8, 9, 10]\n",
      "[2, 3, 4, 5, 6, 7, 1, 8, 9, 10]\n",
      "[2, 3, 4, 5, 6, 1, 7, 8, 9, 10]\n",
      "[2, 3, 4, 5, 6, 1, 7, 8, 9, 10]\n",
      "[2, 3, 4, 5, 6, 1, 7, 8, 9, 10]\n",
      "[2, 3, 4, 5, 6, 1, 7, 8, 9, 10]\n",
      "The start of 3th Pass.\n",
      "[2, 3, 4, 5, 6, 1, 7, 8, 9, 10]\n",
      "[2, 3, 4, 5, 6, 1, 7, 8, 9, 10]\n",
      "[2, 3, 4, 5, 6, 1, 7, 8, 9, 10]\n",
      "[2, 3, 4, 5, 6, 1, 7, 8, 9, 10]\n",
      "[2, 3, 4, 5, 1, 6, 7, 8, 9, 10]\n",
      "[2, 3, 4, 5, 1, 6, 7, 8, 9, 10]\n",
      "[2, 3, 4, 5, 1, 6, 7, 8, 9, 10]\n",
      "[2, 3, 4, 5, 1, 6, 7, 8, 9, 10]\n",
      "[2, 3, 4, 5, 1, 6, 7, 8, 9, 10]\n",
      "The start of 4th Pass.\n",
      "[2, 3, 4, 5, 1, 6, 7, 8, 9, 10]\n",
      "[2, 3, 4, 5, 1, 6, 7, 8, 9, 10]\n",
      "[2, 3, 4, 5, 1, 6, 7, 8, 9, 10]\n",
      "[2, 3, 4, 1, 5, 6, 7, 8, 9, 10]\n",
      "[2, 3, 4, 1, 5, 6, 7, 8, 9, 10]\n",
      "[2, 3, 4, 1, 5, 6, 7, 8, 9, 10]\n",
      "[2, 3, 4, 1, 5, 6, 7, 8, 9, 10]\n",
      "[2, 3, 4, 1, 5, 6, 7, 8, 9, 10]\n",
      "[2, 3, 4, 1, 5, 6, 7, 8, 9, 10]\n",
      "The start of 5th Pass.\n",
      "[2, 3, 4, 1, 5, 6, 7, 8, 9, 10]\n",
      "[2, 3, 4, 1, 5, 6, 7, 8, 9, 10]\n",
      "[2, 3, 1, 4, 5, 6, 7, 8, 9, 10]\n",
      "[2, 3, 1, 4, 5, 6, 7, 8, 9, 10]\n",
      "[2, 3, 1, 4, 5, 6, 7, 8, 9, 10]\n",
      "[2, 3, 1, 4, 5, 6, 7, 8, 9, 10]\n",
      "[2, 3, 1, 4, 5, 6, 7, 8, 9, 10]\n",
      "[2, 3, 1, 4, 5, 6, 7, 8, 9, 10]\n",
      "[2, 3, 1, 4, 5, 6, 7, 8, 9, 10]\n",
      "The start of 6th Pass.\n",
      "[2, 3, 1, 4, 5, 6, 7, 8, 9, 10]\n",
      "[2, 1, 3, 4, 5, 6, 7, 8, 9, 10]\n",
      "[2, 1, 3, 4, 5, 6, 7, 8, 9, 10]\n",
      "[2, 1, 3, 4, 5, 6, 7, 8, 9, 10]\n",
      "[2, 1, 3, 4, 5, 6, 7, 8, 9, 10]\n",
      "[2, 1, 3, 4, 5, 6, 7, 8, 9, 10]\n",
      "[2, 1, 3, 4, 5, 6, 7, 8, 9, 10]\n",
      "[2, 1, 3, 4, 5, 6, 7, 8, 9, 10]\n",
      "[2, 1, 3, 4, 5, 6, 7, 8, 9, 10]\n",
      "The start of 7th Pass.\n",
      "[1, 2, 3, 4, 5, 6, 7, 8, 9, 10]\n",
      "[1, 2, 3, 4, 5, 6, 7, 8, 9, 10]\n",
      "[1, 2, 3, 4, 5, 6, 7, 8, 9, 10]\n",
      "[1, 2, 3, 4, 5, 6, 7, 8, 9, 10]\n",
      "[1, 2, 3, 4, 5, 6, 7, 8, 9, 10]\n",
      "[1, 2, 3, 4, 5, 6, 7, 8, 9, 10]\n",
      "[1, 2, 3, 4, 5, 6, 7, 8, 9, 10]\n",
      "[1, 2, 3, 4, 5, 6, 7, 8, 9, 10]\n",
      "[1, 2, 3, 4, 5, 6, 7, 8, 9, 10]\n",
      "The start of 8th Pass.\n",
      "[1, 2, 3, 4, 5, 6, 7, 8, 9, 10]\n",
      "[1, 2, 3, 4, 5, 6, 7, 8, 9, 10]\n",
      "[1, 2, 3, 4, 5, 6, 7, 8, 9, 10]\n",
      "[1, 2, 3, 4, 5, 6, 7, 8, 9, 10]\n",
      "[1, 2, 3, 4, 5, 6, 7, 8, 9, 10]\n",
      "[1, 2, 3, 4, 5, 6, 7, 8, 9, 10]\n",
      "[1, 2, 3, 4, 5, 6, 7, 8, 9, 10]\n",
      "[1, 2, 3, 4, 5, 6, 7, 8, 9, 10]\n",
      "[1, 2, 3, 4, 5, 6, 7, 8, 9, 10]\n"
     ]
    }
   ],
   "source": [
    "# 파이썬 만의 독특한 자리 교환 방법\n",
    "\n",
    "# list = [10, 9, 4, 2, 3, 6, 5, 7, 1, 8, 0]\n",
    "list = [4, 2, 3, 6, 9, 10, 5, 7, 1, 8]\n",
    "\n",
    "n = len(list)\n",
    "\n",
    "for j in range(n-1):\n",
    "    print(f'The start of {j}th Pass.')\n",
    "\n",
    "    for i in range(n-1):\n",
    "        \n",
    "        if list[i] > list[i+1]:\n",
    "            list[i], list[i+1] = list[i+1], list[i]   # 파이썬 만의 독특한 자리 교환 방법\n",
    "        \n",
    "        print(list)\n"
   ]
  },
  {
   "cell_type": "markdown",
   "id": "e3063e64-fe93-4089-9d80-94882c2dabcb",
   "metadata": {},
   "source": [
    "### 버블 정렬의 종료 조건\n",
    "- 패스에서 단 한번의 교환도 일어나지 않는 경우"
   ]
  },
  {
   "cell_type": "code",
   "execution_count": 28,
   "id": "c76adab5-753e-4528-9e40-b118d63cda82",
   "metadata": {},
   "outputs": [
    {
     "name": "stdout",
     "output_type": "stream",
     "text": [
      "10\n",
      "The start of 0th Pass.\n",
      "[2, 4, 3, 6, 9, 10, 5, 7, 1, 8]\n",
      "[2, 3, 4, 6, 9, 10, 5, 7, 1, 8]\n",
      "[2, 3, 4, 6, 9, 10, 5, 7, 1, 8]\n",
      "[2, 3, 4, 6, 9, 10, 5, 7, 1, 8]\n",
      "[2, 3, 4, 6, 9, 10, 5, 7, 1, 8]\n",
      "[2, 3, 4, 6, 9, 5, 10, 7, 1, 8]\n",
      "[2, 3, 4, 6, 9, 5, 7, 10, 1, 8]\n",
      "[2, 3, 4, 6, 9, 5, 7, 1, 10, 8]\n",
      "[2, 3, 4, 6, 9, 5, 7, 1, 8, 10]\n",
      "6\n",
      "The start of 1th Pass.\n",
      "[2, 3, 4, 6, 9, 5, 7, 1, 8, 10]\n",
      "[2, 3, 4, 6, 9, 5, 7, 1, 8, 10]\n",
      "[2, 3, 4, 6, 9, 5, 7, 1, 8, 10]\n",
      "[2, 3, 4, 6, 9, 5, 7, 1, 8, 10]\n",
      "[2, 3, 4, 6, 5, 9, 7, 1, 8, 10]\n",
      "[2, 3, 4, 6, 5, 7, 9, 1, 8, 10]\n",
      "[2, 3, 4, 6, 5, 7, 1, 9, 8, 10]\n",
      "[2, 3, 4, 6, 5, 7, 1, 8, 9, 10]\n",
      "[2, 3, 4, 6, 5, 7, 1, 8, 9, 10]\n",
      "4\n",
      "The start of 2th Pass.\n",
      "[2, 3, 4, 6, 5, 7, 1, 8, 9, 10]\n",
      "[2, 3, 4, 6, 5, 7, 1, 8, 9, 10]\n",
      "[2, 3, 4, 6, 5, 7, 1, 8, 9, 10]\n",
      "[2, 3, 4, 5, 6, 7, 1, 8, 9, 10]\n",
      "[2, 3, 4, 5, 6, 7, 1, 8, 9, 10]\n",
      "[2, 3, 4, 5, 6, 1, 7, 8, 9, 10]\n",
      "[2, 3, 4, 5, 6, 1, 7, 8, 9, 10]\n",
      "[2, 3, 4, 5, 6, 1, 7, 8, 9, 10]\n",
      "[2, 3, 4, 5, 6, 1, 7, 8, 9, 10]\n",
      "2\n",
      "The start of 3th Pass.\n",
      "[2, 3, 4, 5, 6, 1, 7, 8, 9, 10]\n",
      "[2, 3, 4, 5, 6, 1, 7, 8, 9, 10]\n",
      "[2, 3, 4, 5, 6, 1, 7, 8, 9, 10]\n",
      "[2, 3, 4, 5, 6, 1, 7, 8, 9, 10]\n",
      "[2, 3, 4, 5, 1, 6, 7, 8, 9, 10]\n",
      "[2, 3, 4, 5, 1, 6, 7, 8, 9, 10]\n",
      "[2, 3, 4, 5, 1, 6, 7, 8, 9, 10]\n",
      "[2, 3, 4, 5, 1, 6, 7, 8, 9, 10]\n",
      "[2, 3, 4, 5, 1, 6, 7, 8, 9, 10]\n",
      "1\n",
      "The start of 4th Pass.\n",
      "[2, 3, 4, 5, 1, 6, 7, 8, 9, 10]\n",
      "[2, 3, 4, 5, 1, 6, 7, 8, 9, 10]\n",
      "[2, 3, 4, 5, 1, 6, 7, 8, 9, 10]\n",
      "[2, 3, 4, 1, 5, 6, 7, 8, 9, 10]\n",
      "[2, 3, 4, 1, 5, 6, 7, 8, 9, 10]\n",
      "[2, 3, 4, 1, 5, 6, 7, 8, 9, 10]\n",
      "[2, 3, 4, 1, 5, 6, 7, 8, 9, 10]\n",
      "[2, 3, 4, 1, 5, 6, 7, 8, 9, 10]\n",
      "[2, 3, 4, 1, 5, 6, 7, 8, 9, 10]\n",
      "1\n",
      "The start of 5th Pass.\n",
      "[2, 3, 4, 1, 5, 6, 7, 8, 9, 10]\n",
      "[2, 3, 4, 1, 5, 6, 7, 8, 9, 10]\n",
      "[2, 3, 1, 4, 5, 6, 7, 8, 9, 10]\n",
      "[2, 3, 1, 4, 5, 6, 7, 8, 9, 10]\n",
      "[2, 3, 1, 4, 5, 6, 7, 8, 9, 10]\n",
      "[2, 3, 1, 4, 5, 6, 7, 8, 9, 10]\n",
      "[2, 3, 1, 4, 5, 6, 7, 8, 9, 10]\n",
      "[2, 3, 1, 4, 5, 6, 7, 8, 9, 10]\n",
      "[2, 3, 1, 4, 5, 6, 7, 8, 9, 10]\n",
      "1\n",
      "The start of 6th Pass.\n",
      "[2, 3, 1, 4, 5, 6, 7, 8, 9, 10]\n",
      "[2, 1, 3, 4, 5, 6, 7, 8, 9, 10]\n",
      "[2, 1, 3, 4, 5, 6, 7, 8, 9, 10]\n",
      "[2, 1, 3, 4, 5, 6, 7, 8, 9, 10]\n",
      "[2, 1, 3, 4, 5, 6, 7, 8, 9, 10]\n",
      "[2, 1, 3, 4, 5, 6, 7, 8, 9, 10]\n",
      "[2, 1, 3, 4, 5, 6, 7, 8, 9, 10]\n",
      "[2, 1, 3, 4, 5, 6, 7, 8, 9, 10]\n",
      "[2, 1, 3, 4, 5, 6, 7, 8, 9, 10]\n",
      "1\n",
      "The start of 7th Pass.\n",
      "[1, 2, 3, 4, 5, 6, 7, 8, 9, 10]\n",
      "[1, 2, 3, 4, 5, 6, 7, 8, 9, 10]\n",
      "[1, 2, 3, 4, 5, 6, 7, 8, 9, 10]\n",
      "[1, 2, 3, 4, 5, 6, 7, 8, 9, 10]\n",
      "[1, 2, 3, 4, 5, 6, 7, 8, 9, 10]\n",
      "[1, 2, 3, 4, 5, 6, 7, 8, 9, 10]\n",
      "[1, 2, 3, 4, 5, 6, 7, 8, 9, 10]\n",
      "[1, 2, 3, 4, 5, 6, 7, 8, 9, 10]\n",
      "[1, 2, 3, 4, 5, 6, 7, 8, 9, 10]\n",
      "1\n",
      "The start of 8th Pass.\n",
      "[1, 2, 3, 4, 5, 6, 7, 8, 9, 10]\n",
      "[1, 2, 3, 4, 5, 6, 7, 8, 9, 10]\n",
      "[1, 2, 3, 4, 5, 6, 7, 8, 9, 10]\n",
      "[1, 2, 3, 4, 5, 6, 7, 8, 9, 10]\n",
      "[1, 2, 3, 4, 5, 6, 7, 8, 9, 10]\n",
      "[1, 2, 3, 4, 5, 6, 7, 8, 9, 10]\n",
      "[1, 2, 3, 4, 5, 6, 7, 8, 9, 10]\n",
      "[1, 2, 3, 4, 5, 6, 7, 8, 9, 10]\n",
      "[1, 2, 3, 4, 5, 6, 7, 8, 9, 10]\n",
      "No exchange!\n"
     ]
    }
   ],
   "source": [
    "# list = [10, 9, 4, 2, 3, 6, 5, 7, 1, 8, 0]\n",
    "list = [4, 2, 3, 6, 9, 10, 5, 7, 1, 8]\n",
    "\n",
    "n = len(list)\n",
    "print(n)\n",
    "\n",
    "for j in range(n-1):\n",
    "    print(f'The start of {j}th Pass.')\n",
    "    count = 0                          # 원소 교환이 발생하는 횟수 \n",
    "    \n",
    "    for i in range(n-1):\n",
    "        \n",
    "        if list[i] > list[i+1]:\n",
    "            list[i], list[i+1] = list[i+1], list[i]   # 파이썬 만의 독특한 자리 교환 방법\n",
    "            count = count+1    # 원소의 자리 교환이 발생할 때마다 1씩 증가\n",
    "\n",
    "        print(list)\n",
    "               \n",
    "    if count == 0:\n",
    "        print(\"No exchange!\")\n",
    "        break\n",
    "            \n",
    "    print(count)\n",
    "        \n",
    "\n",
    "        "
   ]
  },
  {
   "cell_type": "code",
   "execution_count": null,
   "id": "5e856436-4e38-43bb-9973-ad51e4aba069",
   "metadata": {},
   "outputs": [],
   "source": [
    "# 패스 7에서 교환이 발생하지 않았는데 왜 '1'값이 뜨는가? (240531)"
   ]
  },
  {
   "cell_type": "code",
   "execution_count": 1,
   "id": "c6b7de31-1731-4337-9178-7841edf68799",
   "metadata": {},
   "outputs": [
    {
     "name": "stdout",
     "output_type": "stream",
     "text": [
      "11\n",
      "The start of 0th Pass.\n",
      "[0, 1, 2, 3, 4, 5, 6, 7, 8, 10, 9]\n",
      "[0, 1, 2, 3, 4, 5, 6, 7, 8, 10, 9]\n",
      "[0, 1, 2, 3, 4, 5, 6, 7, 8, 10, 9]\n",
      "[0, 1, 2, 3, 4, 5, 6, 7, 8, 10, 9]\n",
      "[0, 1, 2, 3, 4, 5, 6, 7, 8, 10, 9]\n",
      "[0, 1, 2, 3, 4, 5, 6, 7, 8, 10, 9]\n",
      "[0, 1, 2, 3, 4, 5, 6, 7, 8, 10, 9]\n",
      "[0, 1, 2, 3, 4, 5, 6, 7, 8, 10, 9]\n",
      "[0, 1, 2, 3, 4, 5, 6, 7, 8, 10, 9]\n",
      "[0, 1, 2, 3, 4, 5, 6, 7, 8, 9, 10]\n",
      "1\n",
      "The start of 1th Pass.\n",
      "[0, 1, 2, 3, 4, 5, 6, 7, 8, 9, 10]\n",
      "[0, 1, 2, 3, 4, 5, 6, 7, 8, 9, 10]\n",
      "[0, 1, 2, 3, 4, 5, 6, 7, 8, 9, 10]\n",
      "[0, 1, 2, 3, 4, 5, 6, 7, 8, 9, 10]\n",
      "[0, 1, 2, 3, 4, 5, 6, 7, 8, 9, 10]\n",
      "[0, 1, 2, 3, 4, 5, 6, 7, 8, 9, 10]\n",
      "[0, 1, 2, 3, 4, 5, 6, 7, 8, 9, 10]\n",
      "[0, 1, 2, 3, 4, 5, 6, 7, 8, 9, 10]\n",
      "[0, 1, 2, 3, 4, 5, 6, 7, 8, 9, 10]\n",
      "[0, 1, 2, 3, 4, 5, 6, 7, 8, 9, 10]\n",
      "No exchange!\n"
     ]
    }
   ],
   "source": [
    "# list = [10, 9, 4, 2, 3, 6, 5, 7, 1, 8, 0]\n",
    "# list = [4, 2, 3, 6, 9, 10, 5, 7, 1, 8]\n",
    "list = [0, 1, 2, 3, 4, 5, 6, 7, 8, 10, 9]\n",
    "\n",
    "n = len(list)\n",
    "print(n)\n",
    "\n",
    "for j in range(n-1):\n",
    "    print(f'The start of {j}th Pass.')\n",
    "    count = 0                          # 원소 교환이 발생하는 횟수 \n",
    "    \n",
    "    for i in range(n-1):\n",
    "        \n",
    "        if list[i] > list[i+1]:\n",
    "            list[i], list[i+1] = list[i+1], list[i]   # 파이썬 만의 독특한 자리 교환 방법\n",
    "            count = count+1    # 원소의 자리 교환이 발생할 때마다 1씩 증가\n",
    "\n",
    "        print(list)\n",
    "               \n",
    "    if count == 0:\n",
    "        print(\"No exchange!\")\n",
    "        break\n",
    "            \n",
    "    print(count)"
   ]
  },
  {
   "cell_type": "code",
   "execution_count": null,
   "id": "394f9651-2a27-4b8f-9278-139f5c705bad",
   "metadata": {},
   "outputs": [],
   "source": [
    "# 9th Pass의 경우, 시작과 동시에 교환이 발생 -> Count 증가\n",
    "# 비교 횟수를 더 줄일 수 있는 버블 정렬의 개선 방안 있는가?"
   ]
  },
  {
   "cell_type": "code",
   "execution_count": null,
   "id": "fd7700d7-723f-4745-b325-676dd09dc897",
   "metadata": {},
   "outputs": [],
   "source": [
    "# 필수 sort(정렬) 알고리즘 : 삽입, 선택, 버블, 셀, 퀵, 머지(병합)\n",
    "\n",
    "'''\n",
    "- 기초지만 성능이 좀 떨어지는(정석) : 선택, 삽입, 버블 정렬\n",
    "- 개선되서 성능이 좋은 : 셀, 퀵 정렬(퀵은 일반적인 경우에 거의 다른 nlogn 보다 빠름\n",
    "- 성능 좋고 다른 곳에서도 응용 많이 되는 것 : 머지(병합), 힙\n",
    "'''"
   ]
  },
  {
   "cell_type": "markdown",
   "id": "64d94c16-d1d8-4637-b68b-5855ea7db0c6",
   "metadata": {},
   "source": [
    "### 퀵 정렬\n",
    "- 문제를 더 작은 문제로 쪼개서 해결하는 분할 정복(divide and conquer) 알고리즘\n",
    "- 속도가 빠르다.\n",
    "- 합병 정렬과 달리 추가 메모리 공간이 필요없다.\n",
    "- 불안정 정렬이다. (의미?)\n",
    "- 반할(divide) -> 정복(conquer) -> 결합(merge)"
   ]
  },
  {
   "cell_type": "code",
   "execution_count": null,
   "id": "eeeb27f1-e2d0-4e91-b6ee-e80f860b23b0",
   "metadata": {},
   "outputs": [],
   "source": [
    "# 피벗 - 배열에서 한 원소를 선택한다.\n",
    "# 피벗보다 작은 값 - low 리스트에 저장\n",
    "# 피벗보다 큰 값 - high 리스트에 저장\n",
    "\n",
    "# 각각의 분할된 리스트를 같은 방법으로 low와 high로 분할\n",
    "# 위의 과정을 반복 ---> 재귀 함수 사용"
   ]
  },
  {
   "cell_type": "code",
   "execution_count": 3,
   "id": "0680dd6e-6300-4256-8c40-cabef12beca5",
   "metadata": {},
   "outputs": [
    {
     "data": {
      "text/plain": [
       "[2, 16, 24, 26, 32, 31, 35]"
      ]
     },
     "execution_count": 3,
     "metadata": {},
     "output_type": "execute_result"
    }
   ],
   "source": [
    "list = [24, 26, 2, 16, 32, 31, 35]\n",
    "\n",
    "pivot = list[0]   # 첫번째 원소를 피벗으로 정한다.\n",
    "\n",
    "low = []       # 피벗보다 작인 원소를 저장하기 위한 빈 리스트 선언\n",
    "high = []      # 피벗보다 큰 원소를 저장하기 위한 빈 리스트 선언\n",
    "\n",
    "for val in list[1:]:       # 피벗으로 선택된 맨 앞을 리스트를 제외하고 탐색\n",
    "    if val < pivot:\n",
    "        low.append(val)\n",
    "\n",
    "    else:\n",
    "        high.append(val)\n",
    "\n",
    "sorted_list = low + [pivot] + high\n",
    "sorted_list"
   ]
  },
  {
   "cell_type": "code",
   "execution_count": 8,
   "id": "261fb5ae-87ee-41a3-9794-7f20a576e952",
   "metadata": {},
   "outputs": [
    {
     "name": "stdout",
     "output_type": "stream",
     "text": [
      "[2, 16] + [24] + [26, 32, 31, 35]\n",
      "[] + [2] + [16]\n",
      "[] + [26] + [32, 31, 35]\n",
      "[31] + [32] + [35]\n"
     ]
    },
    {
     "data": {
      "text/plain": [
       "[2, 16, 24, 26, 31, 32, 35]"
      ]
     },
     "execution_count": 8,
     "metadata": {},
     "output_type": "execute_result"
    }
   ],
   "source": [
    "# 정렬이 완료되지 않았다. (240531)\n",
    "\n",
    "# 위의 알고리즘을 함수로 정의하고 -> return에서 재귀함수가 되도록 만든다.\n",
    "# 위의 과정을 계속해서 반복하게 만든다.\n",
    "\n",
    "def qsort(list):\n",
    "    if len(list) < 2:      # 분할된 리스트를 더 쪼갤 수 없는 경우, 리스트를 반환 (종료조건)\n",
    "        return list\n",
    "\n",
    "    pivot = list[0]\n",
    "    low = []\n",
    "    high = []\n",
    "\n",
    "    for val in list[1:]:\n",
    "        if val < pivot:\n",
    "            low.append(val)\n",
    "\n",
    "        else:\n",
    "            high.append(val)\n",
    "\n",
    "    print(f'{low} + {[pivot]} + {high}')   # 알고리즘의 진행과정을 실시간 모니터링\n",
    "\n",
    "    return qsort(low) + [pivot] + qsort(high)   # 재귀함수로 low, high를 입력으로 반복\n",
    "\n",
    "list = [24, 26, 2, 16, 32, 31, 35]\n",
    "qsort(list)"
   ]
  },
  {
   "cell_type": "code",
   "execution_count": null,
   "id": "b6f78a0a-3837-46e2-9f69-643063a58fce",
   "metadata": {},
   "outputs": [],
   "source": [
    "# 재귀함수의 실사긴 모니터링(출력) 결과 이해 안됨\n",
    "# 왜 리스트의 출력 결과와 위와 같은가? (240602)"
   ]
  },
  {
   "cell_type": "markdown",
   "id": "cedd6e29-ff52-48fb-bda3-f75382922f24",
   "metadata": {},
   "source": [
    "#### 이진탐색 트리(BSTree)\n",
    "- 모든 왼쪽 서브 트리의 노드는 루트 노드보다 작다.\n",
    "- 모든 오른쪽 서브 트리의 노드는 루트 노드보다 크다.\n",
    "- 왼쪽과 오른쪽 서브 트리도 모두 이진 탐색 트리다.\n",
    "- 중복 노드는 없다."
   ]
  },
  {
   "cell_type": "markdown",
   "id": "5e43e29a-8ae3-4377-8172-6bc5094b8a86",
   "metadata": {},
   "source": [
    "#### 특정값을 찾는 메서드 만들기 : Contain method\n",
    "- 찾는 값과 현재 노드의 값을 비교한다.\n",
    "- 작으면 왼쪽 노드로 이동하고, 크면 오른쪽 노드로 이동한다.\n",
    "- 이동한 노드의 값과 비교하여 같은 값이면 True를 반환하고, 그렇지 않으면 위의 과정을 반복한다.\n",
    "- 리프(Leaf) 노드에 도달했는데 찾는 값이 없으면 False를 반환한다."
   ]
  },
  {
   "cell_type": "code",
   "execution_count": 1,
   "id": "a0e20137-0250-4d16-a543-5ffc97b6703f",
   "metadata": {},
   "outputs": [],
   "source": [
    "# BSTree 클래스의 정의\n",
    "\n",
    "class Node:\n",
    "    def __init__(self, data):\n",
    "        self.data = data\n",
    "        self.left = None\n",
    "        self.right = None\n",
    "\n",
    "class BSTree:\n",
    "    def __init__(self):\n",
    "        self.root = None"
   ]
  },
  {
   "cell_type": "code",
   "execution_count": 2,
   "id": "a0d1621d-f759-4aa2-aeef-cc8611a6d31a",
   "metadata": {},
   "outputs": [],
   "source": [
    "# BSTree 클래스의 정의 + Contain method\n",
    "\n",
    "class Node:\n",
    "    def __init__(self, data):\n",
    "        self.data = data\n",
    "        self.left = None\n",
    "        self.right = None\n",
    "\n",
    "class BSTree:\n",
    "    def __init__(self):             # 클래스에서 디폴트로 선언하는 __init__ 메서드\n",
    "        self.root = None\n",
    "\n",
    "    # 탐색 알고리즘\n",
    "    def __contains__(self, data):  # 클래스에서 데이터가 입력되는 경우 실행하는 기본 메서드\n",
    "        node = self.root           # 출발은 root에서 시작\n",
    "\n",
    "        while node:\n",
    "            if node.data == data:  # 그 노드의 데이터가 찾고자 하는 데이터와 일치하면 True\n",
    "                return True\n",
    "\n",
    "            elif node.data > data: # 그 노드의 데이터가 찾고자 하는 데이터 보다 크다면, 왼쪽 하위 노드로 이동\n",
    "                node = node.left\n",
    "\n",
    "            else:\n",
    "                node = node.right  # 그 노드의 데이터가 찾고자 하는 데이터 보다 작다면, 오른쪽 하위 노드로 이동\n",
    "\n",
    "        return False   # 검색 결과가 없다면 False를 출력\n",
    "\n",
    "    def inorder(self):\n",
    "        def _inorder(node):    # 이중 함수 형태 : 이해 안됨(240607)\n",
    "            if not node:\n",
    "                return\n",
    "            _inorder(node.left)\n",
    "            res.append(node.data)  # 탐색 결과를 순서대로 리스트로 정의\n",
    "            _inorder(node.right)\n",
    "        res = []\n",
    "        _inorder(self.root)\n",
    "        return res"
   ]
  },
  {
   "cell_type": "code",
   "execution_count": 5,
   "id": "535259d1-65fd-4792-b554-d3c7f42dbccb",
   "metadata": {},
   "outputs": [],
   "source": [
    "# 임의의 이진탐색트리를 정의하고,\n",
    "# 데이터 입력\n",
    "\n",
    "bst = BSTree()\n",
    "\n",
    "bst.root = Node(6)\n",
    "bst.root.left = Node(5)\n",
    "bst.root.right = Node(9)\n",
    "\n",
    "bst.root.left.left = Node(2)\n",
    "bst.root.left.right = Node(4)\n",
    "\n",
    "bst.root.right.left = Node(7)\n",
    "bst.root.right.right = Node(8)"
   ]
  },
  {
   "cell_type": "code",
   "execution_count": 6,
   "id": "ba54ec05-59eb-438c-9825-7354c801f848",
   "metadata": {},
   "outputs": [
    {
     "data": {
      "text/plain": [
       "[2, 5, 4, 6, 7, 9, 8]"
      ]
     },
     "execution_count": 6,
     "metadata": {},
     "output_type": "execute_result"
    }
   ],
   "source": [
    "bst.inorder()\n",
    "\n",
    "# 중위 순회 결과 출력"
   ]
  },
  {
   "cell_type": "code",
   "execution_count": 8,
   "id": "0ab88dde-af34-4ac8-a9c4-fd183c2d85bd",
   "metadata": {},
   "outputs": [
    {
     "name": "stdout",
     "output_type": "stream",
     "text": [
      "2 is found.\n",
      "3 in NOT found.\n",
      "6 is found.\n",
      "9 is found.\n"
     ]
    }
   ],
   "source": [
    "# 임의의 원소를 검색하는 알고리즘\n",
    "# 2,3, 6, 9 검색\n",
    "\n",
    "for x in (2, 3, 6, 9):      # __contains__ 메서드를 호출 (240607)\n",
    "    if x in bst:\n",
    "        print(f'{x} is found.')\n",
    "    else:\n",
    "        print(f'{x} in NOT found.')"
   ]
  },
  {
   "cell_type": "code",
   "execution_count": 9,
   "id": "f58d6ab3-f053-4759-8399-b4a7ec793a0b",
   "metadata": {},
   "outputs": [
    {
     "name": "stdout",
     "output_type": "stream",
     "text": [
      "False\n"
     ]
    }
   ],
   "source": [
    "# bst 객체에 저장된 값을 출력하는 방법\n",
    "# __contains__() 메서드를 직접 호출하여 결과 출력(True / False)\n",
    "# 값 '1'이 이진 검색 트리에 존재하는가? : False\n",
    "\n",
    "print(bst.__contains__(1))"
   ]
  },
  {
   "cell_type": "markdown",
   "id": "5a5427b0-3966-4a0c-b08d-a661b18020f2",
   "metadata": {},
   "source": [
    "#### 삽입 알고리즘 : insert method\n",
    "- root 노드가 비어 있으면, root 노드에 값을 추가한다.\n",
    "- 삽입할 값과 현재 노드 값을 비교한다.\n",
    "- 삽입할 값이 작으면 왼쪽 노드를 확인하고 비어 있으면 추가, 아니면 왼쪽으로 이동\n",
    "- 삽입할 값이 크면 오른쪽 노드를 확인하고 비어 있으면 추가, 아니면 오른쪽 노드로 이동"
   ]
  },
  {
   "cell_type": "code",
   "execution_count": 10,
   "id": "b2f225e1-803e-4937-bebd-cae058f91673",
   "metadata": {},
   "outputs": [],
   "source": [
    "# BSTree 클래스의 정의 + Contain method + Insert method\n",
    "\n",
    "class Node:\n",
    "    def __init__(self, data):\n",
    "        self.data = data\n",
    "        self.left = None\n",
    "        self.right = None\n",
    "\n",
    "class BSTree:\n",
    "    def __init__(self):             # 클래스에서 디폴트로 선언하는 __init__ 메서드\n",
    "        self.root = None\n",
    "\n",
    "    # 탐색 알고리즘\n",
    "    def __contains__(self, data):  # 클래스에서 데이터가 입력되는 경우 실행하는 기본 메서드\n",
    "        node = self.root           # 출발은 root에서 시작\n",
    "\n",
    "        while node:\n",
    "            if node.data == data:  # 그 노드의 데이터가 찾고자 하는 데이터와 일치하면 True\n",
    "                return True\n",
    "\n",
    "            elif node.data > data: # 그 노드의 데이터가 찾고자 하는 데이터 보다 크다면, 왼쪽 하위 노드로 이동\n",
    "                node = node.left\n",
    "\n",
    "            else:\n",
    "                node = node.right  # 그 노드의 데이터가 찾고자 하는 데이터 보다 작다면, 오른쪽 하위 노드로 이동\n",
    "\n",
    "        return False   # 검색 결과가 없다면 False를 출력\n",
    "\n",
    "    def inorder(self):\n",
    "        def _inorder(node):    # 이중 함수 형태 : 이해 안됨(240607)\n",
    "            if not node:\n",
    "                return\n",
    "            _inorder(node.left)\n",
    "            res.append(node.data)  # 탐색 결과를 순서대로 리스트로 정의\n",
    "            _inorder(node.right)\n",
    "        res = []\n",
    "        _inorder(self.root)\n",
    "        return res\n",
    "\n",
    "    def insert(self, data):\n",
    "        if self.root is None:      # 만일 root 노드가 비어있다면 채운다.\n",
    "            self.root = Node(data)   \n",
    "            return\n",
    "        node = self.root\n",
    "\n",
    "        while True:\n",
    "            if node.data > data:           # 노드 데이터를 비교했을 때, 데이터 크기가 작고,\n",
    "                if node.left is None:      # 왼쪽 노드가 비어 있다면,\n",
    "                    node.left = Node(data) # 노드 클래스를 왼쪽 노드에 저장\n",
    "                    return\n",
    "                else:                      # 왼쪽 노드가 비어 있지 않다면, \n",
    "                    node = node.left       # 노드 왼쪽으로 이동 후 반복\n",
    "\n",
    "            else:    # 노드 데이트를 비교했을 때, 데이터 크기가 크고,\n",
    "                if node.right is None:     # 오른쪽 노드가 비어 있다면,\n",
    "                    node.right = Node(data) # 오른쪽에 노드 클래스를 저장\n",
    "                    return\n",
    "                else:    # 비어 있지 않다면,\n",
    "                    node = node.right       # 노드 오른쪽으로 이동 후 반복\n",
    "            "
   ]
  },
  {
   "cell_type": "code",
   "execution_count": 11,
   "id": "767a82ab-90c6-4999-b16a-14ad1d045c20",
   "metadata": {},
   "outputs": [],
   "source": [
    "# 임의의 이진탐색트리를 정의하고,\n",
    "# 데이터를 입력\n",
    "\n",
    "bst = BSTree()\n",
    "\n",
    "for x in (6, 4, 9, 2, 5, 7, 8):\n",
    "    bst.insert(x)"
   ]
  },
  {
   "cell_type": "code",
   "execution_count": 12,
   "id": "7a1ab59e-9664-4f98-bc4b-9de67deb5e6a",
   "metadata": {},
   "outputs": [
    {
     "name": "stdout",
     "output_type": "stream",
     "text": [
      "6\n"
     ]
    }
   ],
   "source": [
    "print(bst.root.data)   #루트"
   ]
  },
  {
   "cell_type": "code",
   "execution_count": 13,
   "id": "93894653-79b7-4e15-b74c-1da53fbf7daa",
   "metadata": {},
   "outputs": [
    {
     "name": "stdout",
     "output_type": "stream",
     "text": [
      "4\n"
     ]
    }
   ],
   "source": [
    "print(bst.root.left.data)  # 2층 왼쪽 데이터"
   ]
  },
  {
   "cell_type": "code",
   "execution_count": 15,
   "id": "8120f519-b5d5-41d5-b90c-709b2b64f36b",
   "metadata": {},
   "outputs": [
    {
     "name": "stdout",
     "output_type": "stream",
     "text": [
      "9\n"
     ]
    }
   ],
   "source": [
    "print(bst.root.right.data)  # 2층 오른쪽 데이터"
   ]
  },
  {
   "cell_type": "code",
   "execution_count": 16,
   "id": "15e38a88-ef46-4af0-90b5-01a70082c01d",
   "metadata": {},
   "outputs": [
    {
     "name": "stdout",
     "output_type": "stream",
     "text": [
      "2\n"
     ]
    }
   ],
   "source": [
    "print(bst.root.left.left.data)  # 3층 첫번째 데이터"
   ]
  },
  {
   "cell_type": "code",
   "execution_count": 17,
   "id": "d2a75924-e202-49d0-b780-188b9e396a56",
   "metadata": {},
   "outputs": [
    {
     "name": "stdout",
     "output_type": "stream",
     "text": [
      "5\n"
     ]
    }
   ],
   "source": [
    "print(bst.root.left.right.data)  # 3층 두번째 데이터"
   ]
  },
  {
   "cell_type": "code",
   "execution_count": 18,
   "id": "2d724327-8f0d-428e-a53a-7f477f044a9a",
   "metadata": {},
   "outputs": [
    {
     "name": "stdout",
     "output_type": "stream",
     "text": [
      "7\n"
     ]
    }
   ],
   "source": [
    "print(bst.root.right.left.data)  # 3층 세번째 데이터"
   ]
  },
  {
   "cell_type": "code",
   "execution_count": 19,
   "id": "7f42cc5b-3041-4b65-9d07-a7a1efa40870",
   "metadata": {},
   "outputs": [
    {
     "ename": "AttributeError",
     "evalue": "'NoneType' object has no attribute 'data'",
     "output_type": "error",
     "traceback": [
      "\u001b[1;31m---------------------------------------------------------------------------\u001b[0m",
      "\u001b[1;31mAttributeError\u001b[0m                            Traceback (most recent call last)",
      "Cell \u001b[1;32mIn[19], line 1\u001b[0m\n\u001b[1;32m----> 1\u001b[0m \u001b[38;5;28mprint\u001b[39m(bst\u001b[38;5;241m.\u001b[39mroot\u001b[38;5;241m.\u001b[39mright\u001b[38;5;241m.\u001b[39mright\u001b[38;5;241m.\u001b[39mdata)\n",
      "\u001b[1;31mAttributeError\u001b[0m: 'NoneType' object has no attribute 'data'"
     ]
    }
   ],
   "source": [
    "print(bst.root.right.right.data)  # 3층 네번째 데이터 ---> 8은 어디에 저장되어 있는가?"
   ]
  },
  {
   "cell_type": "code",
   "execution_count": 20,
   "id": "e3722321-1ce3-4b8d-b3b1-6128f95b0776",
   "metadata": {},
   "outputs": [
    {
     "name": "stdout",
     "output_type": "stream",
     "text": [
      "8\n"
     ]
    }
   ],
   "source": [
    "print(bst.root.right.left.right.data)  # 3층 세번째 데이터의 하위 오른쪽 데이터"
   ]
  },
  {
   "cell_type": "code",
   "execution_count": null,
   "id": "cfac0eb3-e21d-4405-a091-66697ee4dac5",
   "metadata": {},
   "outputs": [],
   "source": [
    "# 8은 상위노드 7보다 크므로 -> 오른쪽에 배치"
   ]
  },
  {
   "cell_type": "code",
   "execution_count": 21,
   "id": "daffc6e4-8a4c-4b28-8390-50a6b2a46a4d",
   "metadata": {},
   "outputs": [
    {
     "name": "stdout",
     "output_type": "stream",
     "text": [
      "6 is found.\n",
      "4 is found.\n",
      "9 is found.\n",
      "2 is found.\n",
      "5 is found.\n",
      "7 is found.\n",
      "8 is found.\n"
     ]
    }
   ],
   "source": [
    "for x in (6, 4, 9, 2, 5, 7, 8):   # __contains__ 메서드를 호출하여 원소의 존재 여부 확인\n",
    "    if x in bst:\n",
    "        print(f'{x} is found.')\n",
    "    else:\n",
    "        print(f'{x} is NOT found.')"
   ]
  },
  {
   "cell_type": "code",
   "execution_count": null,
   "id": "81b8af4b-5733-47d7-b431-b5856853fead",
   "metadata": {},
   "outputs": [],
   "source": [
    "# 아이디어 : 트리의 위치를 출력할 방법은?"
   ]
  },
  {
   "cell_type": "markdown",
   "id": "4bc75c6a-d5a0-4127-8c56-8f47ec2d2b25",
   "metadata": {},
   "source": [
    "#### 노드 삭제 알고리즘 : del method\n",
    "- 삭제할 노드가 리프 노드인 경우\n",
    "- 삭제할 노드의 자식이 하나일 때\n",
    "- 삭제할 노드의 자식이 둘일 때\n",
    "- 삭제 후 트리 구조를 재구성하는 문제가 있다.(240607)"
   ]
  },
  {
   "cell_type": "code",
   "execution_count": null,
   "id": "001badbe-ad9d-45b0-b569-570453f01d11",
   "metadata": {},
   "outputs": [],
   "source": []
  }
 ],
 "metadata": {
  "kernelspec": {
   "display_name": "base",
   "language": "python",
   "name": "base"
  },
  "language_info": {
   "codemirror_mode": {
    "name": "ipython",
    "version": 3
   },
   "file_extension": ".py",
   "mimetype": "text/x-python",
   "name": "python",
   "nbconvert_exporter": "python",
   "pygments_lexer": "ipython3",
   "version": "3.11.7"
  }
 },
 "nbformat": 4,
 "nbformat_minor": 5
}
