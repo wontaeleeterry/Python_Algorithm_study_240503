{
 "cells": [
  {
   "cell_type": "markdown",
   "id": "e32ba133-5a6e-428d-a4f6-79fcf57e13da",
   "metadata": {},
   "source": [
    "## Hash : 해시 테이블\n",
    "- 해시 충돌의 대처 방법\n",
    "    - 체인법 : 원소의 해시 값이 일치하는 경우, 리스트로 관리\n",
    "    - 오픈 주소법(오픈 어드레싱) : 빈 버킷을 찾을 때까지 해시를 반복 (n+1)... 등\n",
    "\n",
    "- 해시 테이블의 사용 사례\n",
    "    - 데이터베이스 인덱싱, 캐싱, 집합 연산, 중복 제거 등에 사용\n",
    "    - 해시 테이블은 빠른 검색, 삽입, 삭제가 필요할 때 유용하다."
   ]
  },
  {
   "cell_type": "code",
   "execution_count": 1,
   "id": "b8ccc86b-4a07-4530-bdef-9dc11d51d0e3",
   "metadata": {},
   "outputs": [],
   "source": [
    "# 체인법의 예\n",
    "\n",
    "class HashTable:\n",
    "    def __init__(self):\n",
    "        self.table = [[] for _ in range(10)]      # 해시 테이블의 크기를 정의\n",
    "\n",
    "    def _hash(self, key):\n",
    "        return hash(key) % len(self.table)        # 해시 함수의 정의 : 키 / 테이블 크기의 나머지 값\n",
    "\n",
    "    def insert(self, key, value):\n",
    "        index = self._hash(key)                   # 삽입 함수의 구현\n",
    "        self.table[index].append((key, value))    # 체인법 : 해시 충돌을 방지하기 위하여 (key, value)를 동일한 index에 apppend 처리\n",
    "\n",
    "    def search(self, key):                        # 검색(찾기) 함수의 구현\n",
    "        index = self._hash(key)                   # 입력된 키 값을 해시 함수를 거처 인덱스 계산\n",
    "        for k, v in self.table[index]:            # 해당 인덱스에 여러 개의 (key, value)가 리스트로 저장되어 있는 경우를 가정\n",
    "            if k == key:\n",
    "                return v                          # 체인된 리스트를 순회하며 일치하는 key 값이 있는 경우 value를 반환\n",
    "        return None\n",
    "\n",
    "student_table = HashTable()\n",
    "\n",
    "student_table.insert(11, \"Jane\")\n",
    "student_table.insert(21, \"John\")                  # Jane과 John은 동일한 index에 저장된다. Hash 연산에서 결과 1 이므로,\n",
    "student_table.insert(2, \"Michael\")          "
   ]
  },
  {
   "cell_type": "code",
   "execution_count": 2,
   "id": "554776ca-4cd9-4948-a4a3-b3e186d3f365",
   "metadata": {},
   "outputs": [
    {
     "data": {
      "text/plain": [
       "[[],\n",
       " [(11, 'Jane'), (21, 'John')],\n",
       " [(2, 'Michael')],\n",
       " [],\n",
       " [],\n",
       " [],\n",
       " [],\n",
       " [],\n",
       " [],\n",
       " []]"
      ]
     },
     "execution_count": 2,
     "metadata": {},
     "output_type": "execute_result"
    }
   ],
   "source": [
    "student_table.table"
   ]
  },
  {
   "cell_type": "code",
   "execution_count": 3,
   "id": "e31a703c-294c-4fa3-8567-9e5ae93722b0",
   "metadata": {},
   "outputs": [
    {
     "data": {
      "text/plain": [
       "'John'"
      ]
     },
     "execution_count": 3,
     "metadata": {},
     "output_type": "execute_result"
    }
   ],
   "source": [
    "# 동일한 index에 하나의 리스트로 연결되어(Chinded) 있으나,\n",
    "# 검색하는데 문제는 없다. (240523)\n",
    "\n",
    "student_table.search(21)"
   ]
  },
  {
   "cell_type": "code",
   "execution_count": 5,
   "id": "4ec4bd18-cc2b-4e25-9d4c-85282b10f902",
   "metadata": {},
   "outputs": [
    {
     "data": {
      "text/plain": [
       "(21, 'John')"
      ]
     },
     "execution_count": 5,
     "metadata": {},
     "output_type": "execute_result"
    }
   ],
   "source": [
    "# 연결된 리스트를 추출하는 방법\n",
    "\n",
    "student_table.table[1][1]"
   ]
  },
  {
   "cell_type": "markdown",
   "id": "ecde0c4f-adee-4f5c-9f20-e26333b8ce48",
   "metadata": {},
   "source": [
    "### 스택과 큐 : 복잡도(Complexity - Time/Space)\n",
    "- 파이썬에서는 덱(Deque)을 주로 사용\n",
    "- 내장 모듈인 collections에 있으며, 스태과 큐를 합쳐놓은 듯한 자료 구조\n",
    "- 덱은 Double Embeded QUEue의 약자, 리스트에서 가장 앞에 있는 데이터를 꺼내기 위해서는 pop(0)를 사용\n",
    "- deque에서는 popleft() 함수를 사용, 이 함수를 사용해도 pop(0)처럼 비효율적이지 않고 O(1)의 시간 복잡도(Time Complexity)를 가진다."
   ]
  },
  {
   "cell_type": "code",
   "execution_count": 7,
   "id": "6e7f6185-f336-4f05-9577-0929c64ea476",
   "metadata": {},
   "outputs": [
    {
     "name": "stdout",
     "output_type": "stream",
     "text": [
      "deque([2, 1])\n",
      "1\n",
      "2\n"
     ]
    }
   ],
   "source": [
    "from collections import deque\n",
    "\n",
    "dq = deque()       # 덱 생성\n",
    "\n",
    "# 앞/뒤로 데이터를 추가하고 \n",
    "# 앞/뒤로 데이터를 꺼내기\n",
    "\n",
    "dq.append(1)        # dq에 뒤로 데이터 넣기\n",
    "dq.appendleft(2)    # dq에 앞으로 데이터 넣기\n",
    "\n",
    "print(dq)\n",
    "\n",
    "print(dq.pop())\n",
    "print(dq.popleft())"
   ]
  },
  {
   "cell_type": "code",
   "execution_count": 8,
   "id": "6a17d972-9db6-4ad7-b73c-18fc8e77878b",
   "metadata": {},
   "outputs": [
    {
     "ename": "IndexError",
     "evalue": "pop from an empty deque",
     "output_type": "error",
     "traceback": [
      "\u001b[1;31m---------------------------------------------------------------------------\u001b[0m",
      "\u001b[1;31mIndexError\u001b[0m                                Traceback (most recent call last)",
      "Cell \u001b[1;32mIn[8], line 3\u001b[0m\n\u001b[0;32m      1\u001b[0m \u001b[38;5;66;03m# 위 명령에서 덱에서 모든 원소를 꺼내어 비어 있는 상태 : 에러 메세지 출력\u001b[39;00m\n\u001b[1;32m----> 3\u001b[0m \u001b[38;5;28mprint\u001b[39m(dq\u001b[38;5;241m.\u001b[39mpop())\n\u001b[0;32m      4\u001b[0m \u001b[38;5;28mprint\u001b[39m(dq\u001b[38;5;241m.\u001b[39mpopleft())\n",
      "\u001b[1;31mIndexError\u001b[0m: pop from an empty deque"
     ]
    }
   ],
   "source": [
    "# 위 명령에서 덱에서 모든 원소를 꺼내어 비어 있는 상태 : 에러 메세지 출력\n",
    "\n",
    "print(dq.pop())\n",
    "print(dq.popleft())"
   ]
  },
  {
   "cell_type": "markdown",
   "id": "10d11b99-26b4-42c7-8201-49ff91c48933",
   "metadata": {},
   "source": [
    "### deque는 일반적인 리스트가 아니다.\n",
    "- 리스트 객체도 비슷한 연산을 지원하지만, 빠른 고정 길이 연산에 최적화되어 있다.\n",
    "- 기본 데이터의 크기와 위치를 변경하는 팝과 삽인 연산에 O(n)의 메모리 이동 비용이 발생한다."
   ]
  },
  {
   "cell_type": "code",
   "execution_count": 9,
   "id": "ec7fd6f7-7fb0-4f39-be85-4fbd236c95f5",
   "metadata": {},
   "outputs": [
    {
     "name": "stdout",
     "output_type": "stream",
     "text": [
      "deque([0, 1, 2, 3, 4, 5, 6, 7, 8, 9])\n"
     ]
    }
   ],
   "source": [
    "dq_2 = deque()\n",
    "\n",
    "for i in range(10):\n",
    "    dq_2.append(i)\n",
    "\n",
    "print(dq_2)"
   ]
  },
  {
   "cell_type": "code",
   "execution_count": 11,
   "id": "921fda61-ec58-44af-812b-be135ddbc762",
   "metadata": {},
   "outputs": [
    {
     "name": "stdout",
     "output_type": "stream",
     "text": [
      "0\n",
      "1\n",
      "2\n",
      "3\n",
      "4\n",
      "5\n",
      "6\n",
      "7\n",
      "8\n",
      "9\n"
     ]
    }
   ],
   "source": [
    "for i in range(10):\n",
    "    print(dq_2.popleft())"
   ]
  },
  {
   "cell_type": "code",
   "execution_count": 13,
   "id": "9ffd7675-f0a2-461e-bffe-9b5100cf9d8e",
   "metadata": {},
   "outputs": [
    {
     "name": "stdout",
     "output_type": "stream",
     "text": [
      "deque([])\n"
     ]
    }
   ],
   "source": [
    "print(dq_2)    # 모든 요소를 다 꺼낸 상태로 덱은 비어있다."
   ]
  },
  {
   "cell_type": "code",
   "execution_count": 14,
   "id": "39bafca9-3b90-4676-837f-2f76cf7f0fe6",
   "metadata": {},
   "outputs": [
    {
     "name": "stdout",
     "output_type": "stream",
     "text": [
      "deque([9, 8, 7, 6, 5, 4, 3, 2, 1, 0, 10, 9, 8, 7, 6, 5, 4, 3, 2, 1])\n"
     ]
    }
   ],
   "source": [
    "# 앞/뒤로 데이터 채우기\n",
    "\n",
    "for i in range (10):\n",
    "    dq_2.appendleft(i)\n",
    "    dq_2.append(10-i)\n",
    "\n",
    "print(dq_2)"
   ]
  },
  {
   "cell_type": "markdown",
   "id": "3eb0a7d2-0e79-4dbc-a060-e2bb849414f8",
   "metadata": {},
   "source": [
    "### dqque를 이용하여 리스트 회전하기"
   ]
  },
  {
   "cell_type": "code",
   "execution_count": 15,
   "id": "c25ef4cf-6dd7-4784-9951-0a80704cd4bd",
   "metadata": {},
   "outputs": [
    {
     "data": {
      "text/plain": [
       "deque([9, 10, 1, 2, 3, 4, 5, 6, 7, 8])"
      ]
     },
     "execution_count": 15,
     "metadata": {},
     "output_type": "execute_result"
    }
   ],
   "source": [
    "from collections import deque\n",
    "\n",
    "list_test = [1, 2, 3, 4, 5, 6, 7, 8, 9, 10]\n",
    "\n",
    "dq_test = deque(list_test)      # 리스트를 덱으로 정의\n",
    "dq_test.rotate(2)               # 2칸 만큼 회전(시계방향, 양수  입력)\n",
    "\n",
    "dq_test"
   ]
  },
  {
   "cell_type": "code",
   "execution_count": 16,
   "id": "b9a54475-dd2d-48cc-a27b-7390e08f4540",
   "metadata": {},
   "outputs": [
    {
     "name": "stdout",
     "output_type": "stream",
     "text": [
      "3\n"
     ]
    },
    {
     "data": {
      "text/plain": [
       "[1, 2, 4, 5]"
      ]
     },
     "execution_count": 16,
     "metadata": {},
     "output_type": "execute_result"
    }
   ],
   "source": [
    "# 응용 : 리스트의 가운데 있는 숫자 '3'을 꺼내는 방법\n",
    "# 리스트의 형태는 그대로 유지하고,\n",
    "# Time/Space Complexity를 최소화 하는 방법 : 회전\n",
    "\n",
    "from collections import deque\n",
    "\n",
    "test = [1, 2, 3, 4, 5]       # 한 가운데 있는 '3'을 꺼내는 문제\n",
    "dq = deque(test)\n",
    "\n",
    "dq.rotate(3)\n",
    "print(dq.popleft())          # 회전 후, 리스트 맨 앞의 요소 꺼내기\n",
    "\n",
    "dq.rotate(-2)                # 원래 모양으로 변경, 반대로 회전. 단, 1개의 요소를 꺼냈으므로 반시계 방향으로 (n-1 = -2)만큼 회전\n",
    "test = list(dq)              # 리스트 형태로 원복\n",
    "\n",
    "test"
   ]
  },
  {
   "cell_type": "code",
   "execution_count": null,
   "id": "45bb4179-8015-49ed-891f-2b509c03f17a",
   "metadata": {},
   "outputs": [],
   "source": [
    "# 한 가운데 '3'이 제거된 리스트를 출력함 (240522)"
   ]
  },
  {
   "cell_type": "markdown",
   "id": "61b65109-be42-45d5-9fbf-49db8013dcd5",
   "metadata": {},
   "source": [
    "### 재귀 함수"
   ]
  },
  {
   "cell_type": "code",
   "execution_count": 17,
   "id": "d02b11dd-2175-44ab-b36e-fc46248a943b",
   "metadata": {},
   "outputs": [
    {
     "data": {
      "text/plain": [
       "120"
      ]
     },
     "execution_count": 17,
     "metadata": {},
     "output_type": "execute_result"
    }
   ],
   "source": [
    "# Factorial\n",
    "# math.factorial()\n",
    "\n",
    "def factorial(n):\n",
    "    if n > 0:\n",
    "        return n * factorial(n-1)\n",
    "    else:\n",
    "        return 1\n",
    "\n",
    "factorial(5)"
   ]
  },
  {
   "cell_type": "code",
   "execution_count": 18,
   "id": "dcb34111-b905-4e5c-b6ba-a4eb71892f95",
   "metadata": {},
   "outputs": [
    {
     "name": "stdout",
     "output_type": "stream",
     "text": [
      "n=  5\n",
      "n=  4\n",
      "n=  3\n",
      "n=  2\n",
      "n=  1\n",
      "n=  0\n",
      "factorual -ing =  1\n",
      "factorual -ing =  2\n",
      "factorual -ing =  6\n",
      "factorual -ing =  24\n",
      "factorual -ing =  120\n"
     ]
    },
    {
     "data": {
      "text/plain": [
       "120"
      ]
     },
     "execution_count": 18,
     "metadata": {},
     "output_type": "execute_result"
    }
   ],
   "source": [
    "# 재귀 알고리즘의 실시간 모니터링\n",
    "\n",
    "def factorial(n):\n",
    "    print(\"n= \", n)\n",
    "    \n",
    "    if n > 0:\n",
    "        a = n * factorial(n-1)\n",
    "        print(\"factorual -ing = \", a)\n",
    "        return a\n",
    "    else:\n",
    "        return 1\n",
    "\n",
    "factorial(5)"
   ]
  },
  {
   "cell_type": "code",
   "execution_count": null,
   "id": "29e49652-284f-4404-a8a5-bd8d9ab1d04d",
   "metadata": {},
   "outputs": [],
   "source": [
    "# Factoral 계산 결과 (a) 출력 확인 -> 왜 이 순서대로 출력되는가? (240523)"
   ]
  },
  {
   "cell_type": "code",
   "execution_count": 19,
   "id": "99573986-220c-4c23-848b-44669f1d3f2c",
   "metadata": {},
   "outputs": [
    {
     "name": "stdout",
     "output_type": "stream",
     "text": [
      "num1 =  112 num2 =  189\n",
      "num1 =  189 num2 =  112\n",
      "num1 =  112 num2 =  77\n",
      "num1 =  77 num2 =  35\n",
      "num1 =  35 num2 =  7\n"
     ]
    },
    {
     "data": {
      "text/plain": [
       "7"
      ]
     },
     "execution_count": 19,
     "metadata": {},
     "output_type": "execute_result"
    }
   ],
   "source": [
    "# gcd 재귀 함수 : 유클리드 호제법\n",
    "\n",
    "def GCD_recursion(num1, num2):\n",
    "\n",
    "    if num2 == 0:\n",
    "        return num1\n",
    "\n",
    "    else:\n",
    "        print(\"num1 = \", num1, \"num2 = \", num2)\n",
    "        return GCD_recursion(num2, num1%num2)        \n",
    "\n",
    "GCD_recursion(112, 189)   # 입력 순서가 바뀌어도 상관없다. % 연산의 결과 (240523)"
   ]
  },
  {
   "cell_type": "code",
   "execution_count": 20,
   "id": "13f3f4b0-5f93-4a18-afa8-ad22c97d452a",
   "metadata": {},
   "outputs": [
    {
     "data": {
      "text/plain": [
       "2"
      ]
     },
     "execution_count": 20,
     "metadata": {},
     "output_type": "execute_result"
    }
   ],
   "source": [
    "12%5"
   ]
  },
  {
   "cell_type": "code",
   "execution_count": 21,
   "id": "799ed01a-6949-43d2-8100-4f87feaebdbe",
   "metadata": {},
   "outputs": [
    {
     "data": {
      "text/plain": [
       "5"
      ]
     },
     "execution_count": 21,
     "metadata": {},
     "output_type": "execute_result"
    }
   ],
   "source": [
    "5%12"
   ]
  },
  {
   "cell_type": "code",
   "execution_count": 22,
   "id": "1708d0e1-aa97-44d5-aa79-a65829e97349",
   "metadata": {},
   "outputs": [
    {
     "name": "stdout",
     "output_type": "stream",
     "text": [
      "num1 =  189 num2 =  112\n",
      "num1 =  112 num2 =  77\n",
      "num1 =  77 num2 =  35\n",
      "num1 =  35 num2 =  7\n"
     ]
    },
    {
     "data": {
      "text/plain": [
       "7"
      ]
     },
     "execution_count": 22,
     "metadata": {},
     "output_type": "execute_result"
    }
   ],
   "source": [
    "def GCD_recursion(num1, num2):\n",
    "\n",
    "    if num2 == 0:\n",
    "        return num1\n",
    "\n",
    "    else:\n",
    "        print(\"num1 = \", num1, \"num2 = \", num2)\n",
    "        return GCD_recursion(num2, num1%num2)        \n",
    "\n",
    "GCD_recursion(189, 112)   # 입력 순서가 바뀌어도 상관없다. % 연산의 결과 (240523)"
   ]
  },
  {
   "cell_type": "code",
   "execution_count": 1,
   "id": "5065f154-341d-4415-bc7c-70695e64f6d0",
   "metadata": {},
   "outputs": [
    {
     "data": {
      "text/plain": [
       "[7, 11, 16, 23, 28, 32]"
      ]
     },
     "execution_count": 1,
     "metadata": {},
     "output_type": "execute_result"
    }
   ],
   "source": [
    "# 응용 : 회전하는 덱으로 로또 번호 추출하기\n",
    "\n",
    "from collections import  deque\n",
    "import random\n",
    "\n",
    "list = []*45     # 랜덤 회전으로 선택할 1~45 사이의 숫자 리스트\n",
    "\n",
    "for i in range(45):\n",
    "    list.append(i+1)\n",
    "\n",
    "# 기 회차 당첨 번호 지우기\n",
    "list.remove(2)\n",
    "list.remove(19)\n",
    "list.remove(26)\n",
    "list.remove(31)\n",
    "list.remove(38)\n",
    "list.remove(34)\n",
    "\n",
    "\n",
    "dq = deque(list)\n",
    "\n",
    "lotto = []*6       # 6개의 로또 번호를 저장할 리스트\n",
    "\n",
    "for i in range(6):\n",
    "    dq.rotate(random.randint(0, 45))   # 0~45 사이의 랜덤 회전\n",
    "    a = dq.popleft()                   # 회전 후, 맨 앞의 숫자 꺼내기\n",
    "    lotto.append(a)\n",
    "\n",
    "lotto.sort()                           # 선택된 6개의 숫자를 정렬\n",
    "lotto"
   ]
  },
  {
   "cell_type": "markdown",
   "id": "03189559-cb33-42b6-9384-b465d003e2ed",
   "metadata": {},
   "source": [
    "### 재귀함수 : 하노이 탑 문제"
   ]
  },
  {
   "cell_type": "code",
   "execution_count": 4,
   "id": "32750734-a5a2-48c5-a77f-51b5d5ec2896",
   "metadata": {},
   "outputs": [
    {
     "name": "stdout",
     "output_type": "stream",
     "text": [
      "1의 맨 위에 있는 판을 3로 이동\n",
      "1의 맨 위에 있는 판을 2로 이동\n",
      "3의 맨 위에 있는 판을 2로 이동\n",
      "1의 맨 위에 있는 판을 3로 이동\n",
      "2의 맨 위에 있는 판을 1로 이동\n",
      "2의 맨 위에 있는 판을 3로 이동\n",
      "1의 맨 위에 있는 판을 3로 이동\n"
     ]
    }
   ],
   "source": [
    "def hanoi(x, start, aux, end):\n",
    "    global answer     # 글로벌 변수 : 함수를 탈출해도 변수 값은 유지\n",
    "\n",
    "    # 종료 조건 정의\n",
    "    if x == 1:\n",
    "        answer.append([start, end])   # 조각의 이동 경로를 기록\n",
    "        return   \n",
    "\n",
    "    # x-1개를 보조에 먼저 옮기기\n",
    "    hanoi(x-1, start, end, aux)\n",
    "\n",
    "    # 남은 1개를 목표에 옯기기\n",
    "    answer.append([start, end])\n",
    "\n",
    "    # 보조의 x-1개를 목표로 옮기기\n",
    "    hanoi(x-1, aux, start, end)\n",
    "\n",
    "answer = []     # 글로벌 함수의 초기화\n",
    "\n",
    "n = 3\n",
    "hanoi(n, 1, 2, 3)   # 총 갯수, 시작위치, 보조위치, 끝 위치\n",
    "\n",
    "for a in enumerate(answer):\n",
    "    # print(a[1][0])   # 연번 + (start, target) 출력\n",
    "    print(f'{a[1][0]}의 맨 위에 있는 판을 {a[1][1]}로 이동')\n",
    "    # 직관적으로 이해하기 위해 문장 형식으로 출력(240529)"
   ]
  },
  {
   "cell_type": "markdown",
   "id": "00f4305b-d9d5-4dbb-92e8-2bf3032cfe72",
   "metadata": {},
   "source": [
    "### 정렬 1 : Bubble Sorting (240529)"
   ]
  },
  {
   "cell_type": "code",
   "execution_count": 2,
   "id": "7199dae5-248f-4fd0-9bee-0e0d10bf1324",
   "metadata": {},
   "outputs": [
    {
     "name": "stdout",
     "output_type": "stream",
     "text": [
      "The start of 0th Pass.\n",
      "[9, 10, 4, 2, 3, 6, 5, 7, 1, 8, 0]\n",
      "[9, 4, 10, 2, 3, 6, 5, 7, 1, 8, 0]\n",
      "[9, 4, 2, 10, 3, 6, 5, 7, 1, 8, 0]\n",
      "[9, 4, 2, 3, 10, 6, 5, 7, 1, 8, 0]\n",
      "[9, 4, 2, 3, 6, 10, 5, 7, 1, 8, 0]\n",
      "[9, 4, 2, 3, 6, 5, 10, 7, 1, 8, 0]\n",
      "[9, 4, 2, 3, 6, 5, 7, 10, 1, 8, 0]\n",
      "[9, 4, 2, 3, 6, 5, 7, 1, 10, 8, 0]\n",
      "[9, 4, 2, 3, 6, 5, 7, 1, 8, 10, 0]\n",
      "[9, 4, 2, 3, 6, 5, 7, 1, 8, 0, 10]\n",
      "The start of 1th Pass.\n",
      "[4, 9, 2, 3, 6, 5, 7, 1, 8, 0, 10]\n",
      "[4, 2, 9, 3, 6, 5, 7, 1, 8, 0, 10]\n",
      "[4, 2, 3, 9, 6, 5, 7, 1, 8, 0, 10]\n",
      "[4, 2, 3, 6, 9, 5, 7, 1, 8, 0, 10]\n",
      "[4, 2, 3, 6, 5, 9, 7, 1, 8, 0, 10]\n",
      "[4, 2, 3, 6, 5, 7, 9, 1, 8, 0, 10]\n",
      "[4, 2, 3, 6, 5, 7, 1, 9, 8, 0, 10]\n",
      "[4, 2, 3, 6, 5, 7, 1, 8, 9, 0, 10]\n",
      "[4, 2, 3, 6, 5, 7, 1, 8, 0, 9, 10]\n",
      "[4, 2, 3, 6, 5, 7, 1, 8, 0, 9, 10]\n",
      "The start of 2th Pass.\n",
      "[2, 4, 3, 6, 5, 7, 1, 8, 0, 9, 10]\n",
      "[2, 3, 4, 6, 5, 7, 1, 8, 0, 9, 10]\n",
      "[2, 3, 4, 6, 5, 7, 1, 8, 0, 9, 10]\n",
      "[2, 3, 4, 5, 6, 7, 1, 8, 0, 9, 10]\n",
      "[2, 3, 4, 5, 6, 7, 1, 8, 0, 9, 10]\n",
      "[2, 3, 4, 5, 6, 1, 7, 8, 0, 9, 10]\n",
      "[2, 3, 4, 5, 6, 1, 7, 8, 0, 9, 10]\n",
      "[2, 3, 4, 5, 6, 1, 7, 0, 8, 9, 10]\n",
      "[2, 3, 4, 5, 6, 1, 7, 0, 8, 9, 10]\n",
      "[2, 3, 4, 5, 6, 1, 7, 0, 8, 9, 10]\n",
      "The start of 3th Pass.\n",
      "[2, 3, 4, 5, 6, 1, 7, 0, 8, 9, 10]\n",
      "[2, 3, 4, 5, 6, 1, 7, 0, 8, 9, 10]\n",
      "[2, 3, 4, 5, 6, 1, 7, 0, 8, 9, 10]\n",
      "[2, 3, 4, 5, 6, 1, 7, 0, 8, 9, 10]\n",
      "[2, 3, 4, 5, 1, 6, 7, 0, 8, 9, 10]\n",
      "[2, 3, 4, 5, 1, 6, 7, 0, 8, 9, 10]\n",
      "[2, 3, 4, 5, 1, 6, 0, 7, 8, 9, 10]\n",
      "[2, 3, 4, 5, 1, 6, 0, 7, 8, 9, 10]\n",
      "[2, 3, 4, 5, 1, 6, 0, 7, 8, 9, 10]\n",
      "[2, 3, 4, 5, 1, 6, 0, 7, 8, 9, 10]\n",
      "The start of 4th Pass.\n",
      "[2, 3, 4, 5, 1, 6, 0, 7, 8, 9, 10]\n",
      "[2, 3, 4, 5, 1, 6, 0, 7, 8, 9, 10]\n",
      "[2, 3, 4, 5, 1, 6, 0, 7, 8, 9, 10]\n",
      "[2, 3, 4, 1, 5, 6, 0, 7, 8, 9, 10]\n",
      "[2, 3, 4, 1, 5, 6, 0, 7, 8, 9, 10]\n",
      "[2, 3, 4, 1, 5, 0, 6, 7, 8, 9, 10]\n",
      "[2, 3, 4, 1, 5, 0, 6, 7, 8, 9, 10]\n",
      "[2, 3, 4, 1, 5, 0, 6, 7, 8, 9, 10]\n",
      "[2, 3, 4, 1, 5, 0, 6, 7, 8, 9, 10]\n",
      "[2, 3, 4, 1, 5, 0, 6, 7, 8, 9, 10]\n",
      "The start of 5th Pass.\n",
      "[2, 3, 4, 1, 5, 0, 6, 7, 8, 9, 10]\n",
      "[2, 3, 4, 1, 5, 0, 6, 7, 8, 9, 10]\n",
      "[2, 3, 1, 4, 5, 0, 6, 7, 8, 9, 10]\n",
      "[2, 3, 1, 4, 5, 0, 6, 7, 8, 9, 10]\n",
      "[2, 3, 1, 4, 0, 5, 6, 7, 8, 9, 10]\n",
      "[2, 3, 1, 4, 0, 5, 6, 7, 8, 9, 10]\n",
      "[2, 3, 1, 4, 0, 5, 6, 7, 8, 9, 10]\n",
      "[2, 3, 1, 4, 0, 5, 6, 7, 8, 9, 10]\n",
      "[2, 3, 1, 4, 0, 5, 6, 7, 8, 9, 10]\n",
      "[2, 3, 1, 4, 0, 5, 6, 7, 8, 9, 10]\n",
      "The start of 6th Pass.\n",
      "[2, 3, 1, 4, 0, 5, 6, 7, 8, 9, 10]\n",
      "[2, 1, 3, 4, 0, 5, 6, 7, 8, 9, 10]\n",
      "[2, 1, 3, 4, 0, 5, 6, 7, 8, 9, 10]\n",
      "[2, 1, 3, 0, 4, 5, 6, 7, 8, 9, 10]\n",
      "[2, 1, 3, 0, 4, 5, 6, 7, 8, 9, 10]\n",
      "[2, 1, 3, 0, 4, 5, 6, 7, 8, 9, 10]\n",
      "[2, 1, 3, 0, 4, 5, 6, 7, 8, 9, 10]\n",
      "[2, 1, 3, 0, 4, 5, 6, 7, 8, 9, 10]\n",
      "[2, 1, 3, 0, 4, 5, 6, 7, 8, 9, 10]\n",
      "[2, 1, 3, 0, 4, 5, 6, 7, 8, 9, 10]\n",
      "The start of 7th Pass.\n",
      "[1, 2, 3, 0, 4, 5, 6, 7, 8, 9, 10]\n",
      "[1, 2, 3, 0, 4, 5, 6, 7, 8, 9, 10]\n",
      "[1, 2, 0, 3, 4, 5, 6, 7, 8, 9, 10]\n",
      "[1, 2, 0, 3, 4, 5, 6, 7, 8, 9, 10]\n",
      "[1, 2, 0, 3, 4, 5, 6, 7, 8, 9, 10]\n",
      "[1, 2, 0, 3, 4, 5, 6, 7, 8, 9, 10]\n",
      "[1, 2, 0, 3, 4, 5, 6, 7, 8, 9, 10]\n",
      "[1, 2, 0, 3, 4, 5, 6, 7, 8, 9, 10]\n",
      "[1, 2, 0, 3, 4, 5, 6, 7, 8, 9, 10]\n",
      "[1, 2, 0, 3, 4, 5, 6, 7, 8, 9, 10]\n",
      "The start of 8th Pass.\n",
      "[1, 2, 0, 3, 4, 5, 6, 7, 8, 9, 10]\n",
      "[1, 0, 2, 3, 4, 5, 6, 7, 8, 9, 10]\n",
      "[1, 0, 2, 3, 4, 5, 6, 7, 8, 9, 10]\n",
      "[1, 0, 2, 3, 4, 5, 6, 7, 8, 9, 10]\n",
      "[1, 0, 2, 3, 4, 5, 6, 7, 8, 9, 10]\n",
      "[1, 0, 2, 3, 4, 5, 6, 7, 8, 9, 10]\n",
      "[1, 0, 2, 3, 4, 5, 6, 7, 8, 9, 10]\n",
      "[1, 0, 2, 3, 4, 5, 6, 7, 8, 9, 10]\n",
      "[1, 0, 2, 3, 4, 5, 6, 7, 8, 9, 10]\n",
      "[1, 0, 2, 3, 4, 5, 6, 7, 8, 9, 10]\n",
      "The start of 9th Pass.\n",
      "[0, 1, 2, 3, 4, 5, 6, 7, 8, 9, 10]\n",
      "[0, 1, 2, 3, 4, 5, 6, 7, 8, 9, 10]\n",
      "[0, 1, 2, 3, 4, 5, 6, 7, 8, 9, 10]\n",
      "[0, 1, 2, 3, 4, 5, 6, 7, 8, 9, 10]\n",
      "[0, 1, 2, 3, 4, 5, 6, 7, 8, 9, 10]\n",
      "[0, 1, 2, 3, 4, 5, 6, 7, 8, 9, 10]\n",
      "[0, 1, 2, 3, 4, 5, 6, 7, 8, 9, 10]\n",
      "[0, 1, 2, 3, 4, 5, 6, 7, 8, 9, 10]\n",
      "[0, 1, 2, 3, 4, 5, 6, 7, 8, 9, 10]\n",
      "[0, 1, 2, 3, 4, 5, 6, 7, 8, 9, 10]\n"
     ]
    }
   ],
   "source": [
    "# 코드 직접 작성\n",
    "\n",
    "list = [10, 9, 4, 2, 3, 6, 5, 7, 1, 8, 0]\n",
    "n = len(list)\n",
    "\n",
    "for j in range(n-1):\n",
    "    print(f'The start of {j}th Pass.')\n",
    "\n",
    "    for i in range(n-1):\n",
    "        \n",
    "        if list[i] > list[i+1]:\n",
    "            temp = list[i+1]     # 자리 교환 방법 (옛날 방법)\n",
    "            list[i+1] = list[i]\n",
    "            list[i] = temp\n",
    "        \n",
    "        print(list)"
   ]
  },
  {
   "cell_type": "code",
   "execution_count": 2,
   "id": "dacff39e-f39d-4ff6-bb75-95a41db85644",
   "metadata": {},
   "outputs": [
    {
     "name": "stdout",
     "output_type": "stream",
     "text": [
      "The start of 0th Pass.\n",
      "[9, 10, 4, 2, 3, 6, 5, 7, 1, 8, 0]\n",
      "[9, 4, 10, 2, 3, 6, 5, 7, 1, 8, 0]\n",
      "[9, 4, 2, 10, 3, 6, 5, 7, 1, 8, 0]\n",
      "[9, 4, 2, 3, 10, 6, 5, 7, 1, 8, 0]\n",
      "[9, 4, 2, 3, 6, 10, 5, 7, 1, 8, 0]\n",
      "[9, 4, 2, 3, 6, 5, 10, 7, 1, 8, 0]\n",
      "[9, 4, 2, 3, 6, 5, 7, 10, 1, 8, 0]\n",
      "[9, 4, 2, 3, 6, 5, 7, 1, 10, 8, 0]\n",
      "[9, 4, 2, 3, 6, 5, 7, 1, 8, 10, 0]\n",
      "[9, 4, 2, 3, 6, 5, 7, 1, 8, 0, 10]\n",
      "The start of 1th Pass.\n",
      "[4, 9, 2, 3, 6, 5, 7, 1, 8, 0, 10]\n",
      "[4, 2, 9, 3, 6, 5, 7, 1, 8, 0, 10]\n",
      "[4, 2, 3, 9, 6, 5, 7, 1, 8, 0, 10]\n",
      "[4, 2, 3, 6, 9, 5, 7, 1, 8, 0, 10]\n",
      "[4, 2, 3, 6, 5, 9, 7, 1, 8, 0, 10]\n",
      "[4, 2, 3, 6, 5, 7, 9, 1, 8, 0, 10]\n",
      "[4, 2, 3, 6, 5, 7, 1, 9, 8, 0, 10]\n",
      "[4, 2, 3, 6, 5, 7, 1, 8, 9, 0, 10]\n",
      "[4, 2, 3, 6, 5, 7, 1, 8, 0, 9, 10]\n",
      "[4, 2, 3, 6, 5, 7, 1, 8, 0, 9, 10]\n",
      "The start of 2th Pass.\n",
      "[2, 4, 3, 6, 5, 7, 1, 8, 0, 9, 10]\n",
      "[2, 3, 4, 6, 5, 7, 1, 8, 0, 9, 10]\n",
      "[2, 3, 4, 6, 5, 7, 1, 8, 0, 9, 10]\n",
      "[2, 3, 4, 5, 6, 7, 1, 8, 0, 9, 10]\n",
      "[2, 3, 4, 5, 6, 7, 1, 8, 0, 9, 10]\n",
      "[2, 3, 4, 5, 6, 1, 7, 8, 0, 9, 10]\n",
      "[2, 3, 4, 5, 6, 1, 7, 8, 0, 9, 10]\n",
      "[2, 3, 4, 5, 6, 1, 7, 0, 8, 9, 10]\n",
      "[2, 3, 4, 5, 6, 1, 7, 0, 8, 9, 10]\n",
      "[2, 3, 4, 5, 6, 1, 7, 0, 8, 9, 10]\n",
      "The start of 3th Pass.\n",
      "[2, 3, 4, 5, 6, 1, 7, 0, 8, 9, 10]\n",
      "[2, 3, 4, 5, 6, 1, 7, 0, 8, 9, 10]\n",
      "[2, 3, 4, 5, 6, 1, 7, 0, 8, 9, 10]\n",
      "[2, 3, 4, 5, 6, 1, 7, 0, 8, 9, 10]\n",
      "[2, 3, 4, 5, 1, 6, 7, 0, 8, 9, 10]\n",
      "[2, 3, 4, 5, 1, 6, 7, 0, 8, 9, 10]\n",
      "[2, 3, 4, 5, 1, 6, 0, 7, 8, 9, 10]\n",
      "[2, 3, 4, 5, 1, 6, 0, 7, 8, 9, 10]\n",
      "[2, 3, 4, 5, 1, 6, 0, 7, 8, 9, 10]\n",
      "[2, 3, 4, 5, 1, 6, 0, 7, 8, 9, 10]\n",
      "The start of 4th Pass.\n",
      "[2, 3, 4, 5, 1, 6, 0, 7, 8, 9, 10]\n",
      "[2, 3, 4, 5, 1, 6, 0, 7, 8, 9, 10]\n",
      "[2, 3, 4, 5, 1, 6, 0, 7, 8, 9, 10]\n",
      "[2, 3, 4, 1, 5, 6, 0, 7, 8, 9, 10]\n",
      "[2, 3, 4, 1, 5, 6, 0, 7, 8, 9, 10]\n",
      "[2, 3, 4, 1, 5, 0, 6, 7, 8, 9, 10]\n",
      "[2, 3, 4, 1, 5, 0, 6, 7, 8, 9, 10]\n",
      "[2, 3, 4, 1, 5, 0, 6, 7, 8, 9, 10]\n",
      "[2, 3, 4, 1, 5, 0, 6, 7, 8, 9, 10]\n",
      "[2, 3, 4, 1, 5, 0, 6, 7, 8, 9, 10]\n",
      "The start of 5th Pass.\n",
      "[2, 3, 4, 1, 5, 0, 6, 7, 8, 9, 10]\n",
      "[2, 3, 4, 1, 5, 0, 6, 7, 8, 9, 10]\n",
      "[2, 3, 1, 4, 5, 0, 6, 7, 8, 9, 10]\n",
      "[2, 3, 1, 4, 5, 0, 6, 7, 8, 9, 10]\n",
      "[2, 3, 1, 4, 0, 5, 6, 7, 8, 9, 10]\n",
      "[2, 3, 1, 4, 0, 5, 6, 7, 8, 9, 10]\n",
      "[2, 3, 1, 4, 0, 5, 6, 7, 8, 9, 10]\n",
      "[2, 3, 1, 4, 0, 5, 6, 7, 8, 9, 10]\n",
      "[2, 3, 1, 4, 0, 5, 6, 7, 8, 9, 10]\n",
      "[2, 3, 1, 4, 0, 5, 6, 7, 8, 9, 10]\n",
      "The start of 6th Pass.\n",
      "[2, 3, 1, 4, 0, 5, 6, 7, 8, 9, 10]\n",
      "[2, 1, 3, 4, 0, 5, 6, 7, 8, 9, 10]\n",
      "[2, 1, 3, 4, 0, 5, 6, 7, 8, 9, 10]\n",
      "[2, 1, 3, 0, 4, 5, 6, 7, 8, 9, 10]\n",
      "[2, 1, 3, 0, 4, 5, 6, 7, 8, 9, 10]\n",
      "[2, 1, 3, 0, 4, 5, 6, 7, 8, 9, 10]\n",
      "[2, 1, 3, 0, 4, 5, 6, 7, 8, 9, 10]\n",
      "[2, 1, 3, 0, 4, 5, 6, 7, 8, 9, 10]\n",
      "[2, 1, 3, 0, 4, 5, 6, 7, 8, 9, 10]\n",
      "[2, 1, 3, 0, 4, 5, 6, 7, 8, 9, 10]\n",
      "The start of 7th Pass.\n",
      "[1, 2, 3, 0, 4, 5, 6, 7, 8, 9, 10]\n",
      "[1, 2, 3, 0, 4, 5, 6, 7, 8, 9, 10]\n",
      "[1, 2, 0, 3, 4, 5, 6, 7, 8, 9, 10]\n",
      "[1, 2, 0, 3, 4, 5, 6, 7, 8, 9, 10]\n",
      "[1, 2, 0, 3, 4, 5, 6, 7, 8, 9, 10]\n",
      "[1, 2, 0, 3, 4, 5, 6, 7, 8, 9, 10]\n",
      "[1, 2, 0, 3, 4, 5, 6, 7, 8, 9, 10]\n",
      "[1, 2, 0, 3, 4, 5, 6, 7, 8, 9, 10]\n",
      "[1, 2, 0, 3, 4, 5, 6, 7, 8, 9, 10]\n",
      "[1, 2, 0, 3, 4, 5, 6, 7, 8, 9, 10]\n",
      "The start of 8th Pass.\n",
      "[1, 2, 0, 3, 4, 5, 6, 7, 8, 9, 10]\n",
      "[1, 0, 2, 3, 4, 5, 6, 7, 8, 9, 10]\n",
      "[1, 0, 2, 3, 4, 5, 6, 7, 8, 9, 10]\n",
      "[1, 0, 2, 3, 4, 5, 6, 7, 8, 9, 10]\n",
      "[1, 0, 2, 3, 4, 5, 6, 7, 8, 9, 10]\n",
      "[1, 0, 2, 3, 4, 5, 6, 7, 8, 9, 10]\n",
      "[1, 0, 2, 3, 4, 5, 6, 7, 8, 9, 10]\n",
      "[1, 0, 2, 3, 4, 5, 6, 7, 8, 9, 10]\n",
      "[1, 0, 2, 3, 4, 5, 6, 7, 8, 9, 10]\n",
      "[1, 0, 2, 3, 4, 5, 6, 7, 8, 9, 10]\n",
      "The start of 9th Pass.\n",
      "[0, 1, 2, 3, 4, 5, 6, 7, 8, 9, 10]\n",
      "[0, 1, 2, 3, 4, 5, 6, 7, 8, 9, 10]\n",
      "[0, 1, 2, 3, 4, 5, 6, 7, 8, 9, 10]\n",
      "[0, 1, 2, 3, 4, 5, 6, 7, 8, 9, 10]\n",
      "[0, 1, 2, 3, 4, 5, 6, 7, 8, 9, 10]\n",
      "[0, 1, 2, 3, 4, 5, 6, 7, 8, 9, 10]\n",
      "[0, 1, 2, 3, 4, 5, 6, 7, 8, 9, 10]\n",
      "[0, 1, 2, 3, 4, 5, 6, 7, 8, 9, 10]\n",
      "[0, 1, 2, 3, 4, 5, 6, 7, 8, 9, 10]\n",
      "[0, 1, 2, 3, 4, 5, 6, 7, 8, 9, 10]\n"
     ]
    }
   ],
   "source": [
    "# 파이썬 만의 독특한 자리 교환 방법\n",
    "\n",
    "list = [10, 9, 4, 2, 3, 6, 5, 7, 1, 8, 0]\n",
    "n = len(list)\n",
    "\n",
    "for j in range(n-1):\n",
    "    print(f'The start of {j}th Pass.')\n",
    "\n",
    "    for i in range(n-1):\n",
    "        \n",
    "        if list[i] > list[i+1]:\n",
    "            list[i], list[i+1] = list[i+1], list[i]   # 파이썬 만의 독특한 자리 교환 방법\n",
    "        \n",
    "        print(list)\n"
   ]
  },
  {
   "cell_type": "code",
   "execution_count": null,
   "id": "5d273590-9504-41cc-b671-e4207aec9774",
   "metadata": {},
   "outputs": [],
   "source": []
  }
 ],
 "metadata": {
  "kernelspec": {
   "display_name": "base",
   "language": "python",
   "name": "base"
  },
  "language_info": {
   "codemirror_mode": {
    "name": "ipython",
    "version": 3
   },
   "file_extension": ".py",
   "mimetype": "text/x-python",
   "name": "python",
   "nbconvert_exporter": "python",
   "pygments_lexer": "ipython3",
   "version": "3.11.7"
  }
 },
 "nbformat": 4,
 "nbformat_minor": 5
}
