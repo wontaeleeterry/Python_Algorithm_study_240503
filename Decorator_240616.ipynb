{
 "cells": [
  {
   "cell_type": "markdown",
   "id": "2bc50749-9561-4f1c-8a24-bcf7ff074d91",
   "metadata": {},
   "source": [
    "#### Decorator"
   ]
  },
  {
   "cell_type": "code",
   "execution_count": 1,
   "id": "4fd5fc60-f184-43e8-863e-6d591f698972",
   "metadata": {},
   "outputs": [
    {
     "name": "stdout",
     "output_type": "stream",
     "text": [
      "hello\n",
      "world\n"
     ]
    }
   ],
   "source": [
    "# 파이썬에서 Decorator에 대한 이해(240614)\n",
    "# ChatGPT 응답 정리\n",
    "\n",
    "def my_decorator(func):   # 데코레이터 메서드 - 꾸며지는 메서드(func)를 입력으로\n",
    "    #### 내부 함수\n",
    "    def wrapper():        # 내부 함수(inner method) - 신규 행동(hello를 출력)하고 원래 함수(func)를 호출\n",
    "        print(\"hello\")\n",
    "        func()            # 꾸며지는(being decorated) 메서드 - 함수 호출 전에 특정 행동을 하고,\n",
    "    \n",
    "    #####\n",
    "    return wrapper        # 내부 함수(wrapper)를 반환\n",
    "\n",
    "# Decorator의 활용\n",
    "\n",
    "@my_decorator\n",
    "def say_world():\n",
    "    print(\"world\")\n",
    "\n",
    "# Decorator method 호출\n",
    "say_world()"
   ]
  },
  {
   "cell_type": "code",
   "execution_count": null,
   "id": "34b56483-98b1-45bc-9298-d2d9995d8181",
   "metadata": {},
   "outputs": [],
   "source": [
    "# 데코레이터의 의미\n",
    "# say_world = my_decorator(say_world)\n",
    "\n",
    "# say_world 메서드가 호출되면,\n",
    "# wrapper 메서드가 호출되어 \"hello\"가 출력된다.\n",
    "# 그 다음에 원래 메서드인 say_world 메서드가 호출된다."
   ]
  },
  {
   "cell_type": "code",
   "execution_count": null,
   "id": "c399e7d4-91a3-4788-af62-c38a7ad75cf9",
   "metadata": {},
   "outputs": [],
   "source": [
    "# wrapper 메서드의 역할\n",
    "'''\n",
    "원 함수에 새로운 행동(behavior)을 추가할 수 있는 기능\n",
    "-> 함수 자체를 수정할 필요가 없다.\n",
    "\n",
    "The wrapper function allows you to add new behavior before and/or after the execution \n",
    "of the original function without modifying the function itself. \n",
    "\n",
    "This is useful for logging, access control, instrumentation, caching, and more.\n",
    "'''"
   ]
  },
  {
   "cell_type": "code",
   "execution_count": 2,
   "id": "ca3a7e0e-4fc6-49bf-9a87-c6b8eaf15f4e",
   "metadata": {},
   "outputs": [
    {
     "name": "stdout",
     "output_type": "stream",
     "text": [
      "Before calling the function\n",
      "Hello, Alice!\n",
      "After calling the function\n"
     ]
    }
   ],
   "source": [
    "# 더 일반적인 예,\n",
    "\n",
    "def my_decorator(func):\n",
    "    def wrapper(*args, **kwargs):\n",
    "        print(\"Before calling the function\")\n",
    "        result = func(*args, **kwargs)\n",
    "        print(\"After calling the function\")\n",
    "        return result\n",
    "    return wrapper\n",
    "\n",
    "@my_decorator\n",
    "def say_hello(name):\n",
    "    print(f\"Hello, {name}!\")\n",
    "\n",
    "# Call the decorated function\n",
    "say_hello(\"Alice\")\n"
   ]
  },
  {
   "cell_type": "markdown",
   "id": "77d18781-d470-4792-bb25-892225750354",
   "metadata": {},
   "source": [
    "#### 코드 테스트에서 Decorator 활용"
   ]
  },
  {
   "cell_type": "code",
   "execution_count": 4,
   "id": "31acc065-0393-4826-8d38-f81e81c56786",
   "metadata": {},
   "outputs": [
    {
     "name": "stderr",
     "output_type": "stream",
     "text": [
      "INFO:root:Starting test: test_addition\n",
      "INFO:root:Finished test: test_addition in 0.0000 seconds\n",
      "INFO:root:Starting test: test_subtraction\n",
      "INFO:root:Finished test: test_subtraction in 0.0000 seconds\n",
      "INFO:root:Starting test: test_multiplication\n",
      "INFO:root:Finished test: test_multiplication in 0.0000 seconds\n",
      "INFO:root:Starting test: test_division\n",
      "INFO:root:Finished test: test_division in 0.0000 seconds\n"
     ]
    }
   ],
   "source": [
    "# 데코레이터를 각각의 테스트 함수의 로그인/아숫에 적용할 수 있다.\n",
    "# 또한 각 테스트에 소요되는 시간을 측정할 수 있다.\n",
    "\n",
    "import time\n",
    "import logging\n",
    "\n",
    "# Setting up logging\n",
    "logging.basicConfig(level=logging.INFO)\n",
    "\n",
    "def test_logger(func):\n",
    "    def wrapper(*args, **kwargs):\n",
    "        logging.info(f\"Starting test: {func.__name__}\")\n",
    "        start_time = time.time()\n",
    "        \n",
    "        result = func(*args, **kwargs)\n",
    "        \n",
    "        end_time = time.time()\n",
    "        elapsed_time = end_time - start_time\n",
    "        logging.info(f\"Finished test: {func.__name__} in {elapsed_time:.4f} seconds\")\n",
    "        \n",
    "        return result\n",
    "    return wrapper    \n",
    "\n",
    "# 테스트 하려는 함수를 수정할 필요없이,\n",
    "# wrapper에 시간을 측정하는 함수를 정의해놓고,\n",
    "# 입력받은 함수의 시작과 종료 시점의 시각을 측정하여,\n",
    "# 함수의 소요 시간을 측정할 수 있다.\n",
    "\n",
    "@test_logger\n",
    "def test_addition():\n",
    "    assert 1 + 1 == 2\n",
    "\n",
    "@test_logger\n",
    "def test_subtraction():\n",
    "    assert 2 - 1 == 1\n",
    "\n",
    "@test_logger\n",
    "def test_multiplication():\n",
    "    assert 2 * 2 == 4\n",
    "\n",
    "@test_logger\n",
    "def test_division():\n",
    "    assert 4 / 2 == 2\n",
    "\n",
    "# Running the test functions\n",
    "test_addition()\n",
    "test_subtraction()\n",
    "test_multiplication()\n",
    "test_division()"
   ]
  },
  {
   "cell_type": "code",
   "execution_count": null,
   "id": "3a4b1b8e-86ab-49ce-a9fa-06589a9299bd",
   "metadata": {},
   "outputs": [],
   "source": [
    "# 파이썬 도장 : https://dojang.io/mod/page/view.php?id=2472\n",
    "\n",
    "# 데코레이터는 함수를 감싸는 형태로 구성\n",
    "# 기존 함수를 수정하지 않으면서 추가 기능을 구현할 때 사용\n",
    "\n",
    "# 데코레이터는 여러개 지정도 가능하다.\n",
    "\n",
    "@decorator1\n",
    "@decorator2\n",
    "def 함수이름():\n",
    "    코드\n",
    "\n",
    "# 데코레이터가 실행되는 순서는 위에서 아래로"
   ]
  },
  {
   "cell_type": "code",
   "execution_count": 3,
   "id": "9c0c1dcd-4c2d-40ab-947f-73a0a61c4f4d",
   "metadata": {},
   "outputs": [
    {
     "name": "stdout",
     "output_type": "stream",
     "text": [
      "decorator1\n",
      "decorator2\n",
      "hello\n"
     ]
    }
   ],
   "source": [
    "def decorator1(func):\n",
    "    def wrapper():\n",
    "        print('decorator1')\n",
    "        func()\n",
    "    return wrapper\n",
    "\n",
    "def decorator2(func):\n",
    "    def wrapper():\n",
    "        print('decorator2')\n",
    "        func()\n",
    "    return wrapper\n",
    "\n",
    "# 데코레이터를 여러 개 지정\n",
    "@decorator1\n",
    "@decorator2\n",
    "def hello():\n",
    "    print('hello')\n",
    "\n",
    "hello()"
   ]
  },
  {
   "cell_type": "code",
   "execution_count": 7,
   "id": "3eb4c6b1-4040-442e-b592-ec324008e3ea",
   "metadata": {},
   "outputs": [
    {
     "name": "stdout",
     "output_type": "stream",
     "text": [
      "decorator1\n",
      "decorator2\n",
      "hello\n",
      "<function decorator1.<locals>.wrapper at 0x00000271E8CA3C40>\n"
     ]
    }
   ],
   "source": [
    "\n",
    "# @를 사용하지 않는다면,\n",
    "# 아래와 같은 형태로 메서드가 호출되는 것이다.\n",
    "\n",
    "decorated_hello = decorator1(decorator2(hello()))\n",
    "print(decorated_hello)"
   ]
  },
  {
   "cell_type": "markdown",
   "id": "3d387032-4ebc-44aa-b004-adedad00bd56",
   "metadata": {},
   "source": [
    "#### 데코레이터 활용 : Flask (240614)"
   ]
  },
  {
   "cell_type": "code",
   "execution_count": 8,
   "id": "78bac833-e486-431a-bd65-0e3294bc0a59",
   "metadata": {},
   "outputs": [
    {
     "name": "stdout",
     "output_type": "stream",
     "text": [
      "time2024-06-16 17:15:43.693532\n",
      "time2024-06-16 17:15:43.693532\n",
      "David login\n",
      "2024-06-16 17:15:43.693532\n",
      "2024-06-16 17:15:43.693532\n"
     ]
    }
   ],
   "source": [
    "# https://hazel-developer.tistory.com/32\n",
    "\n",
    "# 플라스크로 앱을 시작할 때 : '@app.route('/')' 이 부분에 대한 것\n",
    "# 함수에서 함수 자체를 인자로 받아서 명령을 실행한 뒤 다시 함수의 형태로 반환하는 경우\n",
    "\n",
    "import datetime\n",
    "# 시간을 측정하는 데코레이터 작성\n",
    "\n",
    "def datetime_decorator(func):\n",
    "    def wrapper():\n",
    "        print('time' + str(datetime.datetime.now()))   # 함수 앞에서 실행할 내용\n",
    "        func()   # 함수의 실행\n",
    "        print(datetime.datetime.now())\n",
    "\n",
    "    return wrapper\n",
    "\n",
    "@datetime_decorator\n",
    "@datetime_decorator    # 한 함수에 여러개의 데코레이터를 지정 가능\n",
    "def logger_login_david():\n",
    "    print('David login')\n",
    "\n",
    "# 함수 호출\n",
    "logger_login_david()"
   ]
  },
  {
   "cell_type": "markdown",
   "id": "58e75a69-1392-4751-be4d-12da23bf5ce7",
   "metadata": {},
   "source": [
    "### 데코레이터 응용 : 메서드 수정에 활용\n",
    "- 메서드의 구조가 복잡하여 수정하기 어려운 경우\n",
    "- 또는 어떤 이유로 기존의 메서드를 수정하지 않고 다른 방식으로 고쳐 사용하는 경우를 가정"
   ]
  },
  {
   "cell_type": "code",
   "execution_count": 9,
   "id": "4bd427f4-0196-4a34-951c-4ad228bc0ba7",
   "metadata": {},
   "outputs": [
    {
     "data": {
      "text/plain": [
       "0.75"
      ]
     },
     "execution_count": 9,
     "metadata": {},
     "output_type": "execute_result"
    }
   ],
   "source": [
    "def cal_exam(a, b):\n",
    "    c = a/b\n",
    "    return c\n",
    "\n",
    "cal_exam(3, 4)"
   ]
  },
  {
   "cell_type": "code",
   "execution_count": 11,
   "id": "08393eb9-8a34-4dd6-8882-726424d4dd60",
   "metadata": {},
   "outputs": [
    {
     "name": "stdout",
     "output_type": "stream",
     "text": [
      "75.0\n"
     ]
    }
   ],
   "source": [
    "def cal_deco(func):\n",
    "    def wrapper(*args):\n",
    "        result = round(func(*args)*100, 2)   # 나누기 연산을 -> 백분율로 바꾸고 소숫점 둘째자리까지 출력\n",
    "        return result\n",
    "    return wrapper\n",
    "\n",
    "@cal_deco\n",
    "def cal_exam(a, b):\n",
    "    c = a/b\n",
    "    return c\n",
    "\n",
    "print(cal_exam(3, 4))\n"
   ]
  },
  {
   "cell_type": "markdown",
   "id": "c58a40b1-bee7-4fa2-8451-3465d4a44f37",
   "metadata": {},
   "source": [
    "#### 함수 인자 : 함수로 전달되는 정보\n",
    "- 유연성 제공 : 다른 인자를 넣어 같은 함수를 다양한 상황에서 사용 가능\n",
    "- 코드 재사용 : 같은 함수를 다른 값으로 여러번 사용하여 코드를 간결하게 유지\n",
    "- 매개 변수 : 함수를 정의할 때 사용되는 변수의 이름\n",
    "- 함수 인자 : 함수를 호출할 때 실제로 전달되는 값"
   ]
  },
  {
   "cell_type": "markdown",
   "id": "2f9492ed-8a88-43d6-8f21-c1f2b720f145",
   "metadata": {},
   "source": [
    "#### args란 무엇인가\n",
    "- 파이썬 함수에 사용되는 가변 인자(variable argument)\n",
    "- 함수에 임의의 갯수의 인자를 전달할 수 있게 해준다.\n",
    "- def func(*args):\n",
    "- '*' 기호는 여러 개의 인자를 받을 수 있음을 나타낸다."
   ]
  },
  {
   "cell_type": "code",
   "execution_count": 19,
   "id": "11826e1d-d58a-4ad9-808d-f854b145936b",
   "metadata": {},
   "outputs": [
    {
     "name": "stdout",
     "output_type": "stream",
     "text": [
      "45\n"
     ]
    }
   ],
   "source": [
    "def sum_numbers(*args):\n",
    "    return sum(args)\n",
    "\n",
    "# 함수 호출\n",
    "print(sum_numbers(10, 15, 20))"
   ]
  },
  {
   "cell_type": "markdown",
   "id": "539d3bcc-e8b1-4d1d-a6ed-d096c746ead3",
   "metadata": {},
   "source": [
    "#### kwargs란 무엇인가\n",
    "- 키워드 인자(keyword argments)의 집합을 나타내는데 사용\n",
    "- def func(**kwargs):"
   ]
  },
  {
   "cell_type": "code",
   "execution_count": 17,
   "id": "857533ef-6f6d-4adc-b317-21f8278d1673",
   "metadata": {},
   "outputs": [
    {
     "name": "stdout",
     "output_type": "stream",
     "text": [
      "name : David\n",
      "ages : 20\n"
     ]
    }
   ],
   "source": [
    "def greet_me(**kwargs):\n",
    "    for key, value in kwargs.items():\n",
    "        print(f'{key} : {value}')\n",
    "\n",
    "# 함수 호출\n",
    "greet_me(name='David', ages='20')"
   ]
  },
  {
   "cell_type": "markdown",
   "id": "6706d099-dd3f-4f24-b513-73f94141fb23",
   "metadata": {},
   "source": [
    "#### 데코레이터의 중요성 / 필요성\n",
    "- 분석, 로깅, 인스투루먼테이션\n",
    "- 카운트나 기타 지표를 기록할 때\n",
    "- 유효성 검사와 런타임 검사\n",
    "- 프레임워크 제작 : Flask에서 데코레이터를 사용하여 HTTP 요청을 처리하는 함수로 URL 라우팅\n",
    "- 재사용 불가능한 코드의 재사용"
   ]
  },
  {
   "cell_type": "code",
   "execution_count": null,
   "id": "7da2f3e2-bf5f-4638-b202-4ff77dfac35e",
   "metadata": {},
   "outputs": [],
   "source": [
    "# 파이썬 데코레이터를 작성하는 방법을 배워야 하는 5기지 이유(한빛출판 네트워크)\n",
    "# https://m.hanbit.co.kr/channel/category/category_view.html?cms_code=CMS5689111564\n",
    "\n",
    "# 규모가 큰 애플리케이션에서 현재 무슨 일이 벌어지고 있는지 구체적으로 측정하고\n",
    "# 다양한 활동을 정량화하는 지표를 기록해야 할 때\n",
    "# 데코레이터를 이용하여 그러한 중요 이벤트를 전용 메서드에 캡슐화하여\n",
    "# 요구 사항을 가독성 높은 방법을 처리 가능함"
   ]
  },
  {
   "cell_type": "code",
   "execution_count": null,
   "id": "b77d7a20-80f2-480d-a886-c54dbd92eda1",
   "metadata": {},
   "outputs": [],
   "source": [
    "# 분석, 로깅, 인스트루먼테이션\n",
    "\n",
    "from myapp.log import logger\n",
    "\n",
    "def log_order_event(func):\n",
    "\n",
    "    def wrapper(*args, **kwargs):\n",
    "        logger.info(\"Ordering: %s\", func.__name__)\n",
    "        order = func(*args, **kwargs)\n",
    "        logger.debug(\"Order result: %s\", order.result)\n",
    "        return order\n",
    "\n",
    "    return wrapper\n",
    "\n",
    "@log_order_event\n",
    "def order_pizza(*toppings):\n",
    "    # let's get some pizza!"
   ]
  },
  {
   "cell_type": "code",
   "execution_count": null,
   "id": "bc6c652c-9191-47ca-b356-89a317d1fc3f",
   "metadata": {},
   "outputs": [],
   "source": [
    "# 유효성 검사와 런타임 검사\n",
    "\n",
    "# 입출력되는 데이터에 대해 세련된 맞춤법 검사를 강제할 수 있음\n",
    "# 예를 들어 딕셔너리에 summary라는 필드가 있을 때,\n",
    "# 이 필드가 80자를 넘지 않아야 한다는 제약조건을 만들고자 할 때\n",
    "\n",
    "def validate_summary(func):\n",
    "    def wrapper(*args, **kwargs):\n",
    "        data = func(*args, **kwargs)\n",
    "        if len(data[\"summmary\"])>80:\n",
    "            raise ValueError(\"Summary too long\")\n",
    "        return data\n",
    "    return wrapper\n",
    "\n",
    "@validate_summary\n",
    "def fetch_customer_data():\n",
    "    #...\n",
    "\n",
    "@validate_summary\n",
    "def query_orders(criteria):\n",
    "    #..."
   ]
  }
 ],
 "metadata": {
  "kernelspec": {
   "display_name": "base",
   "language": "python",
   "name": "base"
  },
  "language_info": {
   "codemirror_mode": {
    "name": "ipython",
    "version": 3
   },
   "file_extension": ".py",
   "mimetype": "text/x-python",
   "name": "python",
   "nbconvert_exporter": "python",
   "pygments_lexer": "ipython3",
   "version": "3.11.7"
  }
 },
 "nbformat": 4,
 "nbformat_minor": 5
}
