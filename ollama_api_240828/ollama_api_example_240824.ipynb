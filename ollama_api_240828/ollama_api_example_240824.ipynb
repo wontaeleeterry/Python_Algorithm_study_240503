{
 "cells": [
  {
   "cell_type": "code",
   "execution_count": null,
   "id": "df889844-c684-4020-be41-70366020a589",
   "metadata": {},
   "outputs": [],
   "source": [
    "'''\n",
    "*참고 사이트 : https://drfirst.tistory.com/entry/llama3-%EC%9D%98-%EB%AA%A8%EB%8D%B8%EC%9D%84-api%EB%A1%9C-%ED%98%B8%EC%B6%9C%ED%95%98%EA%B8%B0-feat-ollama-python\n",
    "\n",
    "ollama run llama3:8b\n",
    "\n",
    "실행하면, localhost 11434 포트가 열린다.\n",
    "웹 브라우저로 확인하면, \"Ollama is running\"\n",
    "'''"
   ]
  },
  {
   "cell_type": "code",
   "execution_count": 1,
   "id": "a85cf7a1-98e9-4a42-8f32-b852cdb42e1f",
   "metadata": {},
   "outputs": [
    {
     "name": "stdout",
     "output_type": "stream",
     "text": [
      "Success\n"
     ]
    }
   ],
   "source": [
    "import requests\n",
    "import json\n",
    "url = \"http://localhost:11434/api/generate\"\n",
    "data = {\n",
    "    \"model\": \"llama3:8b\",\n",
    "    \"prompt\": \"Let me know current US president.\"\n",
    "}\n",
    "\n",
    "headers = {'Content-Type': 'application/json'}\n",
    "\n",
    "response = requests.post(url, json=data, headers=headers)\n",
    "\n",
    "if response.status_code == 200:\n",
    "    print('Success')\n",
    "else:\n",
    "    print(\"Error:\", response.status_code, response.text)"
   ]
  },
  {
   "cell_type": "code",
   "execution_count": 2,
   "id": "25e83ccc-2a6e-4b93-b46d-d4afd84e4d12",
   "metadata": {},
   "outputs": [
    {
     "data": {
      "text/plain": [
       "'{\"model\":\"llama3:8b\",\"created_at\":\"2024-08-30T15:03:03.1490253Z\",\"response\":\"As\",\"done\":false}\\n{\"model\":\"llama3:8b\",\"created_at\":\"2024-08-30T15:03:03.4295224Z\",\"response\":\" of\",\"done\":false}\\n{\"model\":\"llama3:8b\",\"created_at\":\"2024-08-30T15:03:03.6518384Z\",\"response\":\" my\",\"done\":false}\\n{\"model\":\"llama3:8b\",\"created_at\":\"2024-08-30T15:03:03.8375437Z\",\"response\":\" knowledge\",\"done\":false}\\n{\"model\":\"llama3:8b\",\"created_at\":\"2024-08-30T15:03:04.0638246Z\",\"response\":\" cutoff\",\"done\":false}\\n{\"model\":\"llama3:8b\",\"created_at\":\"2024-08-30T15:03:04.2525259Z\",\"response\":\",\",\"done\":false}\\n{\"model\":\"llama3:8b\",\"created_at\":\"2024-08-30T15:03:04.4465091Z\",\"response\":\" the\",\"done\":false}\\n{\"model\":\"llama3:8b\",\"created_at\":\"2024-08-30T15:03:04.6861198Z\",\"response\":\" \",\"done\":false}\\n{\"model\":\"llama3:8b\",\"created_at\":\"2024-08-30T15:03:04.940075Z\",\"response\":\"46\",\"done\":false}\\n{\"model\":\"llama3:8b\",\"created_at\":\"2024-08-30T15:03:05.1365765Z\",\"response\":\"th\",\"done\":false}\\n{\"model\":\"llama3:8b\",\"created_at\":\"2024-08-30T15:03:05.4034267Z\",\"response\":\" and\",\"done\":false}\\n{\"model\":\"llama3:8b\",\"created_at\":\"2024-08-30T15:03:05.6607607Z\",\"response\":\" current\",\"done\":false}\\n{\"model\":\"llama3:8b\",\"created_at\":\"2024-08-30T15:03:05.8998924Z\",\"response\":\" President\",\"done\":false}\\n{\"model\":\"llama3:8b\",\"created_at\":\"2024-08-30T15:03:06.1073499Z\",\"response\":\" of\",\"done\":false}\\n{\"model\":\"llama3:8b\",\"created_at\":\"2024-08-30T15:03:06.2960999Z\",\"response\":\" the\",\"done\":false}\\n{\"model\":\"llama3:8b\",\"created_at\":\"2024-08-30T15:03:06.4851491Z\",\"response\":\" United\",\"done\":false}\\n{\"model\":\"llama3:8b\",\"created_at\":\"2024-08-30T15:03:06.7422807Z\",\"response\":\" States\",\"done\":false}\\n{\"model\":\"llama3:8b\",\"created_at\":\"2024-08-30T15:03:06.9459225Z\",\"response\":\" is\",\"done\":false}\\n{\"model\":\"llama3:8b\",\"created_at\":\"2024-08-30T15:03:07.1503397Z\",\"response\":\" Joe\",\"done\":false}\\n{\"model\":\"llama3:8b\",\"created_at\":\"2024-08-30T15:03:07.390099Z\",\"response\":\" Biden\",\"done\":false}\\n{\"model\":\"llama3:8b\",\"created_at\":\"2024-08-30T15:03:07.6027228Z\",\"response\":\".\",\"done\":false}\\n{\"model\":\"llama3:8b\",\"created_at\":\"2024-08-30T15:03:07.7907074Z\",\"response\":\" He\",\"done\":false}\\n{\"model\":\"llama3:8b\",\"created_at\":\"2024-08-30T15:03:07.969664Z\",\"response\":\" has\",\"done\":false}\\n{\"model\":\"llama3:8b\",\"created_at\":\"2024-08-30T15:03:08.1985473Z\",\"response\":\" been\",\"done\":false}\\n{\"model\":\"llama3:8b\",\"created_at\":\"2024-08-30T15:03:08.3898128Z\",\"response\":\" in\",\"done\":false}\\n{\"model\":\"llama3:8b\",\"created_at\":\"2024-08-30T15:03:08.5865303Z\",\"response\":\" office\",\"done\":false}\\n{\"model\":\"llama3:8b\",\"created_at\":\"2024-08-30T15:03:08.7815648Z\",\"response\":\" since\",\"done\":false}\\n{\"model\":\"llama3:8b\",\"created_at\":\"2024-08-30T15:03:09.0186567Z\",\"response\":\" January\",\"done\":false}\\n{\"model\":\"llama3:8b\",\"created_at\":\"2024-08-30T15:03:09.1758555Z\",\"response\":\" \",\"done\":false}\\n{\"model\":\"llama3:8b\",\"created_at\":\"2024-08-30T15:03:09.344363Z\",\"response\":\"20\",\"done\":false}\\n{\"model\":\"llama3:8b\",\"created_at\":\"2024-08-30T15:03:09.5134105Z\",\"response\":\",\",\"done\":false}\\n{\"model\":\"llama3:8b\",\"created_at\":\"2024-08-30T15:03:09.7194533Z\",\"response\":\" \",\"done\":false}\\n{\"model\":\"llama3:8b\",\"created_at\":\"2024-08-30T15:03:09.9632361Z\",\"response\":\"202\",\"done\":false}\\n{\"model\":\"llama3:8b\",\"created_at\":\"2024-08-30T15:03:10.1874431Z\",\"response\":\"1\",\"done\":false}\\n{\"model\":\"llama3:8b\",\"created_at\":\"2024-08-30T15:03:10.3992668Z\",\"response\":\".\",\"done\":false}\\n{\"model\":\"llama3:8b\",\"created_at\":\"2024-08-30T15:03:10.6462102Z\",\"response\":\" Would\",\"done\":false}\\n{\"model\":\"llama3:8b\",\"created_at\":\"2024-08-30T15:03:10.9213801Z\",\"response\":\" you\",\"done\":false}\\n{\"model\":\"llama3:8b\",\"created_at\":\"2024-08-30T15:03:11.1760443Z\",\"response\":\" like\",\"done\":false}\\n{\"model\":\"llama3:8b\",\"created_at\":\"2024-08-30T15:03:11.4044854Z\",\"response\":\" to\",\"done\":false}\\n{\"model\":\"llama3:8b\",\"created_at\":\"2024-08-30T15:03:11.668551Z\",\"response\":\" know\",\"done\":false}\\n{\"model\":\"llama3:8b\",\"created_at\":\"2024-08-30T15:03:11.8911682Z\",\"response\":\" more\",\"done\":false}\\n{\"model\":\"llama3:8b\",\"created_at\":\"2024-08-30T15:03:12.1057225Z\",\"response\":\" about\",\"done\":false}\\n{\"model\":\"llama3:8b\",\"created_at\":\"2024-08-30T15:03:12.3376684Z\",\"response\":\" his\",\"done\":false}\\n{\"model\":\"llama3:8b\",\"created_at\":\"2024-08-30T15:03:12.5863957Z\",\"response\":\" administration\",\"done\":false}\\n{\"model\":\"llama3:8b\",\"created_at\":\"2024-08-30T15:03:12.8331347Z\",\"response\":\" or\",\"done\":false}\\n{\"model\":\"llama3:8b\",\"created_at\":\"2024-08-30T15:03:13.0603099Z\",\"response\":\" any\",\"done\":false}\\n{\"model\":\"llama3:8b\",\"created_at\":\"2024-08-30T15:03:13.2696072Z\",\"response\":\" specific\",\"done\":false}\\n{\"model\":\"llama3:8b\",\"created_at\":\"2024-08-30T15:03:13.5679574Z\",\"response\":\" policies\",\"done\":false}\\n{\"model\":\"llama3:8b\",\"created_at\":\"2024-08-30T15:03:13.8475417Z\",\"response\":\"?\",\"done\":false}\\n{\"model\":\"llama3:8b\",\"created_at\":\"2024-08-30T15:03:14.0883102Z\",\"response\":\"\",\"done\":true,\"done_reason\":\"stop\",\"context\":[128006,882,128007,271,10267,757,1440,1510,2326,4872,13,128009,128006,78191,128007,271,2170,315,856,6677,45379,11,279,220,2790,339,323,1510,4900,315,279,3723,4273,374,13142,38180,13,1283,706,1027,304,5274,2533,6186,220,508,11,220,2366,16,13,19418,499,1093,311,1440,810,922,813,8735,477,904,3230,10396,30],\"total_duration\":19753175900,\"load_duration\":6329919400,\"prompt_eval_count\":17,\"prompt_eval_duration\":2478082000,\"eval_count\":50,\"eval_duration\":10938979000}\\n'"
      ]
     },
     "execution_count": 2,
     "metadata": {},
     "output_type": "execute_result"
    }
   ],
   "source": [
    "response.content.decode()\n",
    "\n",
    "# response에 전달된 결과물은 parsing 과정을 통해 정리가 필요함."
   ]
  },
  {
   "cell_type": "code",
   "execution_count": 3,
   "id": "bce2f5ae-28e9-4578-8b2f-39b8d123b487",
   "metadata": {},
   "outputs": [
    {
     "name": "stdout",
     "output_type": "stream",
     "text": [
      "{'model': 'llama3:8b', 'created_at': '2024-08-30T15:03:03.1490253Z', 'response': 'As', 'done': False}\n",
      "{'model': 'llama3:8b', 'created_at': '2024-08-30T15:03:03.4295224Z', 'response': ' of', 'done': False}\n",
      "{'model': 'llama3:8b', 'created_at': '2024-08-30T15:03:03.6518384Z', 'response': ' my', 'done': False}\n",
      "{'model': 'llama3:8b', 'created_at': '2024-08-30T15:03:03.8375437Z', 'response': ' knowledge', 'done': False}\n",
      "{'model': 'llama3:8b', 'created_at': '2024-08-30T15:03:04.0638246Z', 'response': ' cutoff', 'done': False}\n",
      "{'model': 'llama3:8b', 'created_at': '2024-08-30T15:03:04.2525259Z', 'response': ',', 'done': False}\n",
      "{'model': 'llama3:8b', 'created_at': '2024-08-30T15:03:04.4465091Z', 'response': ' the', 'done': False}\n",
      "{'model': 'llama3:8b', 'created_at': '2024-08-30T15:03:04.6861198Z', 'response': ' ', 'done': False}\n",
      "{'model': 'llama3:8b', 'created_at': '2024-08-30T15:03:04.940075Z', 'response': '46', 'done': False}\n",
      "{'model': 'llama3:8b', 'created_at': '2024-08-30T15:03:05.1365765Z', 'response': 'th', 'done': False}\n",
      "{'model': 'llama3:8b', 'created_at': '2024-08-30T15:03:05.4034267Z', 'response': ' and', 'done': False}\n",
      "{'model': 'llama3:8b', 'created_at': '2024-08-30T15:03:05.6607607Z', 'response': ' current', 'done': False}\n",
      "{'model': 'llama3:8b', 'created_at': '2024-08-30T15:03:05.8998924Z', 'response': ' President', 'done': False}\n",
      "{'model': 'llama3:8b', 'created_at': '2024-08-30T15:03:06.1073499Z', 'response': ' of', 'done': False}\n",
      "{'model': 'llama3:8b', 'created_at': '2024-08-30T15:03:06.2960999Z', 'response': ' the', 'done': False}\n",
      "{'model': 'llama3:8b', 'created_at': '2024-08-30T15:03:06.4851491Z', 'response': ' United', 'done': False}\n",
      "{'model': 'llama3:8b', 'created_at': '2024-08-30T15:03:06.7422807Z', 'response': ' States', 'done': False}\n",
      "{'model': 'llama3:8b', 'created_at': '2024-08-30T15:03:06.9459225Z', 'response': ' is', 'done': False}\n",
      "{'model': 'llama3:8b', 'created_at': '2024-08-30T15:03:07.1503397Z', 'response': ' Joe', 'done': False}\n",
      "{'model': 'llama3:8b', 'created_at': '2024-08-30T15:03:07.390099Z', 'response': ' Biden', 'done': False}\n",
      "{'model': 'llama3:8b', 'created_at': '2024-08-30T15:03:07.6027228Z', 'response': '.', 'done': False}\n",
      "{'model': 'llama3:8b', 'created_at': '2024-08-30T15:03:07.7907074Z', 'response': ' He', 'done': False}\n",
      "{'model': 'llama3:8b', 'created_at': '2024-08-30T15:03:07.969664Z', 'response': ' has', 'done': False}\n",
      "{'model': 'llama3:8b', 'created_at': '2024-08-30T15:03:08.1985473Z', 'response': ' been', 'done': False}\n",
      "{'model': 'llama3:8b', 'created_at': '2024-08-30T15:03:08.3898128Z', 'response': ' in', 'done': False}\n",
      "{'model': 'llama3:8b', 'created_at': '2024-08-30T15:03:08.5865303Z', 'response': ' office', 'done': False}\n",
      "{'model': 'llama3:8b', 'created_at': '2024-08-30T15:03:08.7815648Z', 'response': ' since', 'done': False}\n",
      "{'model': 'llama3:8b', 'created_at': '2024-08-30T15:03:09.0186567Z', 'response': ' January', 'done': False}\n",
      "{'model': 'llama3:8b', 'created_at': '2024-08-30T15:03:09.1758555Z', 'response': ' ', 'done': False}\n",
      "{'model': 'llama3:8b', 'created_at': '2024-08-30T15:03:09.344363Z', 'response': '20', 'done': False}\n",
      "{'model': 'llama3:8b', 'created_at': '2024-08-30T15:03:09.5134105Z', 'response': ',', 'done': False}\n",
      "{'model': 'llama3:8b', 'created_at': '2024-08-30T15:03:09.7194533Z', 'response': ' ', 'done': False}\n",
      "{'model': 'llama3:8b', 'created_at': '2024-08-30T15:03:09.9632361Z', 'response': '202', 'done': False}\n",
      "{'model': 'llama3:8b', 'created_at': '2024-08-30T15:03:10.1874431Z', 'response': '1', 'done': False}\n",
      "{'model': 'llama3:8b', 'created_at': '2024-08-30T15:03:10.3992668Z', 'response': '.', 'done': False}\n",
      "{'model': 'llama3:8b', 'created_at': '2024-08-30T15:03:10.6462102Z', 'response': ' Would', 'done': False}\n",
      "{'model': 'llama3:8b', 'created_at': '2024-08-30T15:03:10.9213801Z', 'response': ' you', 'done': False}\n",
      "{'model': 'llama3:8b', 'created_at': '2024-08-30T15:03:11.1760443Z', 'response': ' like', 'done': False}\n",
      "{'model': 'llama3:8b', 'created_at': '2024-08-30T15:03:11.4044854Z', 'response': ' to', 'done': False}\n",
      "{'model': 'llama3:8b', 'created_at': '2024-08-30T15:03:11.668551Z', 'response': ' know', 'done': False}\n",
      "{'model': 'llama3:8b', 'created_at': '2024-08-30T15:03:11.8911682Z', 'response': ' more', 'done': False}\n",
      "{'model': 'llama3:8b', 'created_at': '2024-08-30T15:03:12.1057225Z', 'response': ' about', 'done': False}\n",
      "{'model': 'llama3:8b', 'created_at': '2024-08-30T15:03:12.3376684Z', 'response': ' his', 'done': False}\n",
      "{'model': 'llama3:8b', 'created_at': '2024-08-30T15:03:12.5863957Z', 'response': ' administration', 'done': False}\n",
      "{'model': 'llama3:8b', 'created_at': '2024-08-30T15:03:12.8331347Z', 'response': ' or', 'done': False}\n",
      "{'model': 'llama3:8b', 'created_at': '2024-08-30T15:03:13.0603099Z', 'response': ' any', 'done': False}\n",
      "{'model': 'llama3:8b', 'created_at': '2024-08-30T15:03:13.2696072Z', 'response': ' specific', 'done': False}\n",
      "{'model': 'llama3:8b', 'created_at': '2024-08-30T15:03:13.5679574Z', 'response': ' policies', 'done': False}\n",
      "{'model': 'llama3:8b', 'created_at': '2024-08-30T15:03:13.8475417Z', 'response': '?', 'done': False}\n",
      "{'model': 'llama3:8b', 'created_at': '2024-08-30T15:03:14.0883102Z', 'response': '', 'done': True, 'done_reason': 'stop', 'context': [128006, 882, 128007, 271, 10267, 757, 1440, 1510, 2326, 4872, 13, 128009, 128006, 78191, 128007, 271, 2170, 315, 856, 6677, 45379, 11, 279, 220, 2790, 339, 323, 1510, 4900, 315, 279, 3723, 4273, 374, 13142, 38180, 13, 1283, 706, 1027, 304, 5274, 2533, 6186, 220, 508, 11, 220, 2366, 16, 13, 19418, 499, 1093, 311, 1440, 810, 922, 813, 8735, 477, 904, 3230, 10396, 30], 'total_duration': 19753175900, 'load_duration': 6329919400, 'prompt_eval_count': 17, 'prompt_eval_duration': 2478082000, 'eval_count': 50, 'eval_duration': 10938979000}\n",
      "As of my knowledge cutoff, the 46th and current President of the United States is Joe Biden. He has been in office since January 20, 2021. Would you like to know more about his administration or any specific policies?\n"
     ]
    }
   ],
   "source": [
    "# 개별 JSON 객체로 분할\n",
    "json_objects = response.content.decode().strip().split(\"\\n\")\n",
    "\n",
    "# 각 JSON 객체를 Python 사전으로 변환\n",
    "data = [json.loads(obj) for obj in json_objects]\n",
    "res_text = ''\n",
    "\n",
    "# 변환된 데이터 출력\n",
    "for item in data:\n",
    "    print(item)\n",
    "    res_text += item['response']\n",
    "    \n",
    "print(res_text)"
   ]
  },
  {
   "cell_type": "code",
   "execution_count": null,
   "id": "7ec35efb-f807-4bbd-9e1e-2fafb3ae19d4",
   "metadata": {},
   "outputs": [],
   "source": [
    "# 맨 아래에 정리된 응답이 출력된다. (240828)"
   ]
  }
 ],
 "metadata": {
  "kernelspec": {
   "display_name": "base",
   "language": "python",
   "name": "python3"
  },
  "language_info": {
   "codemirror_mode": {
    "name": "ipython",
    "version": 3
   },
   "file_extension": ".py",
   "mimetype": "text/x-python",
   "name": "python",
   "nbconvert_exporter": "python",
   "pygments_lexer": "ipython3",
   "version": "3.11.7"
  }
 },
 "nbformat": 4,
 "nbformat_minor": 5
}
