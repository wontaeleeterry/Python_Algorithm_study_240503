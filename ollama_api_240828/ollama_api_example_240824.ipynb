{
 "cells": [
  {
   "cell_type": "code",
   "execution_count": null,
   "id": "df889844-c684-4020-be41-70366020a589",
   "metadata": {},
   "outputs": [],
   "source": [
    "'''\n",
    "*참고 사이트 : https://drfirst.tistory.com/entry/llama3-%EC%9D%98-%EB%AA%A8%EB%8D%B8%EC%9D%84-api%EB%A1%9C-%ED%98%B8%EC%B6%9C%ED%95%98%EA%B8%B0-feat-ollama-python\n",
    "\n",
    "ollama run llama3:8b\n",
    "\n",
    "실행하면, localhost 11434 포트가 열린다.\n",
    "웹 브라우저로 확인하면, \"Ollama is running\"\n",
    "'''"
   ]
  },
  {
   "cell_type": "code",
   "execution_count": 1,
   "id": "a85cf7a1-98e9-4a42-8f32-b852cdb42e1f",
   "metadata": {},
   "outputs": [
    {
     "name": "stdout",
     "output_type": "stream",
     "text": [
      "Success\n"
     ]
    }
   ],
   "source": [
    "import requests\n",
    "import json\n",
    "url = \"http://localhost:11434/api/generate\"\n",
    "data = {\n",
    "    \"model\": \"llama3:8b\",\n",
    "    \"prompt\": \"Let me know the first US president.\"\n",
    "}\n",
    "\n",
    "headers = {'Content-Type': 'application/json'}\n",
    "\n",
    "response = requests.post(url, json=data, headers=headers)\n",
    "\n",
    "if response.status_code == 200:\n",
    "    print('Success')\n",
    "else:\n",
    "    print(\"Error:\", response.status_code, response.text)"
   ]
  },
  {
   "cell_type": "code",
   "execution_count": 2,
   "id": "25e83ccc-2a6e-4b93-b46d-d4afd84e4d12",
   "metadata": {},
   "outputs": [
    {
     "data": {
      "text/plain": [
       "'{\"model\":\"llama3:8b\",\"created_at\":\"2024-08-28T05:38:20.5455944Z\",\"response\":\"That\",\"done\":false}\\n{\"model\":\"llama3:8b\",\"created_at\":\"2024-08-28T05:38:20.7212789Z\",\"response\":\"\\'s\",\"done\":false}\\n{\"model\":\"llama3:8b\",\"created_at\":\"2024-08-28T05:38:20.9966013Z\",\"response\":\" an\",\"done\":false}\\n{\"model\":\"llama3:8b\",\"created_at\":\"2024-08-28T05:38:21.2150019Z\",\"response\":\" easy\",\"done\":false}\\n{\"model\":\"llama3:8b\",\"created_at\":\"2024-08-28T05:38:21.4140017Z\",\"response\":\" one\",\"done\":false}\\n{\"model\":\"llama3:8b\",\"created_at\":\"2024-08-28T05:38:21.5972164Z\",\"response\":\"!\\\\n\\\\n\",\"done\":false}\\n{\"model\":\"llama3:8b\",\"created_at\":\"2024-08-28T05:38:21.80595Z\",\"response\":\"The\",\"done\":false}\\n{\"model\":\"llama3:8b\",\"created_at\":\"2024-08-28T05:38:22.0010625Z\",\"response\":\" first\",\"done\":false}\\n{\"model\":\"llama3:8b\",\"created_at\":\"2024-08-28T05:38:22.2162257Z\",\"response\":\" President\",\"done\":false}\\n{\"model\":\"llama3:8b\",\"created_at\":\"2024-08-28T05:38:22.405216Z\",\"response\":\" of\",\"done\":false}\\n{\"model\":\"llama3:8b\",\"created_at\":\"2024-08-28T05:38:22.620158Z\",\"response\":\" the\",\"done\":false}\\n{\"model\":\"llama3:8b\",\"created_at\":\"2024-08-28T05:38:22.8311344Z\",\"response\":\" United\",\"done\":false}\\n{\"model\":\"llama3:8b\",\"created_at\":\"2024-08-28T05:38:23.0209402Z\",\"response\":\" States\",\"done\":false}\\n{\"model\":\"llama3:8b\",\"created_at\":\"2024-08-28T05:38:23.2249866Z\",\"response\":\" was\",\"done\":false}\\n{\"model\":\"llama3:8b\",\"created_at\":\"2024-08-28T05:38:23.4444051Z\",\"response\":\" George\",\"done\":false}\\n{\"model\":\"llama3:8b\",\"created_at\":\"2024-08-28T05:38:23.6544651Z\",\"response\":\" Washington\",\"done\":false}\\n{\"model\":\"llama3:8b\",\"created_at\":\"2024-08-28T05:38:23.9052421Z\",\"response\":\".\",\"done\":false}\\n{\"model\":\"llama3:8b\",\"created_at\":\"2024-08-28T05:38:24.1417886Z\",\"response\":\" He\",\"done\":false}\\n{\"model\":\"llama3:8b\",\"created_at\":\"2024-08-28T05:38:24.3580812Z\",\"response\":\" served\",\"done\":false}\\n{\"model\":\"llama3:8b\",\"created_at\":\"2024-08-28T05:38:24.6371833Z\",\"response\":\" from\",\"done\":false}\\n{\"model\":\"llama3:8b\",\"created_at\":\"2024-08-28T05:38:24.8645103Z\",\"response\":\" \",\"done\":false}\\n{\"model\":\"llama3:8b\",\"created_at\":\"2024-08-28T05:38:25.1433946Z\",\"response\":\"178\",\"done\":false}\\n{\"model\":\"llama3:8b\",\"created_at\":\"2024-08-28T05:38:25.3724911Z\",\"response\":\"9\",\"done\":false}\\n{\"model\":\"llama3:8b\",\"created_at\":\"2024-08-28T05:38:25.5587415Z\",\"response\":\" to\",\"done\":false}\\n{\"model\":\"llama3:8b\",\"created_at\":\"2024-08-28T05:38:25.7609094Z\",\"response\":\" \",\"done\":false}\\n{\"model\":\"llama3:8b\",\"created_at\":\"2024-08-28T05:38:25.9688396Z\",\"response\":\"179\",\"done\":false}\\n{\"model\":\"llama3:8b\",\"created_at\":\"2024-08-28T05:38:26.2707043Z\",\"response\":\"7\",\"done\":false}\\n{\"model\":\"llama3:8b\",\"created_at\":\"2024-08-28T05:38:26.5704274Z\",\"response\":\" and\",\"done\":false}\\n{\"model\":\"llama3:8b\",\"created_at\":\"2024-08-28T05:38:26.8771371Z\",\"response\":\" is\",\"done\":false}\\n{\"model\":\"llama3:8b\",\"created_at\":\"2024-08-28T05:38:27.1803252Z\",\"response\":\" often\",\"done\":false}\\n{\"model\":\"llama3:8b\",\"created_at\":\"2024-08-28T05:38:27.4602178Z\",\"response\":\" referred\",\"done\":false}\\n{\"model\":\"llama3:8b\",\"created_at\":\"2024-08-28T05:38:27.7632853Z\",\"response\":\" to\",\"done\":false}\\n{\"model\":\"llama3:8b\",\"created_at\":\"2024-08-28T05:38:28.1249211Z\",\"response\":\" as\",\"done\":false}\\n{\"model\":\"llama3:8b\",\"created_at\":\"2024-08-28T05:38:28.4125378Z\",\"response\":\" the\",\"done\":false}\\n{\"model\":\"llama3:8b\",\"created_at\":\"2024-08-28T05:38:28.6592127Z\",\"response\":\" \\\\\"\",\"done\":false}\\n{\"model\":\"llama3:8b\",\"created_at\":\"2024-08-28T05:38:28.9047375Z\",\"response\":\"Father\",\"done\":false}\\n{\"model\":\"llama3:8b\",\"created_at\":\"2024-08-28T05:38:29.1018111Z\",\"response\":\" of\",\"done\":false}\\n{\"model\":\"llama3:8b\",\"created_at\":\"2024-08-28T05:38:29.3184285Z\",\"response\":\" Our\",\"done\":false}\\n{\"model\":\"llama3:8b\",\"created_at\":\"2024-08-28T05:38:29.5128571Z\",\"response\":\" Country\",\"done\":false}\\n{\"model\":\"llama3:8b\",\"created_at\":\"2024-08-28T05:38:29.8083645Z\",\"response\":\".\\\\\"\",\"done\":false}\\n{\"model\":\"llama3:8b\",\"created_at\":\"2024-08-28T05:38:30.1687173Z\",\"response\":\"\",\"done\":true,\"done_reason\":\"stop\",\"context\":[128006,882,128007,271,10267,757,1440,279,1176,2326,4872,13,128009,128006,78191,128007,271,4897,596,459,4228,832,2268,791,1176,4900,315,279,3723,4273,574,10058,6652,13,1283,10434,505,220,11256,24,311,220,11128,22,323,374,3629,14183,311,439,279,330,62416,315,5751,14438,1210],\"total_duration\":19125793600,\"load_duration\":6760371800,\"prompt_eval_count\":18,\"prompt_eval_duration\":2726529000,\"eval_count\":41,\"eval_duration\":9622828000}\\n'"
      ]
     },
     "execution_count": 2,
     "metadata": {},
     "output_type": "execute_result"
    }
   ],
   "source": [
    "response.content.decode()\n",
    "\n",
    "# response에 전달된 결과물은 parsing 과정을 통해 정리가 필요함."
   ]
  },
  {
   "cell_type": "code",
   "execution_count": 3,
   "id": "bce2f5ae-28e9-4578-8b2f-39b8d123b487",
   "metadata": {},
   "outputs": [
    {
     "name": "stdout",
     "output_type": "stream",
     "text": [
      "{'model': 'llama3:8b', 'created_at': '2024-08-28T05:38:20.5455944Z', 'response': 'That', 'done': False}\n",
      "{'model': 'llama3:8b', 'created_at': '2024-08-28T05:38:20.7212789Z', 'response': \"'s\", 'done': False}\n",
      "{'model': 'llama3:8b', 'created_at': '2024-08-28T05:38:20.9966013Z', 'response': ' an', 'done': False}\n",
      "{'model': 'llama3:8b', 'created_at': '2024-08-28T05:38:21.2150019Z', 'response': ' easy', 'done': False}\n",
      "{'model': 'llama3:8b', 'created_at': '2024-08-28T05:38:21.4140017Z', 'response': ' one', 'done': False}\n",
      "{'model': 'llama3:8b', 'created_at': '2024-08-28T05:38:21.5972164Z', 'response': '!\\n\\n', 'done': False}\n",
      "{'model': 'llama3:8b', 'created_at': '2024-08-28T05:38:21.80595Z', 'response': 'The', 'done': False}\n",
      "{'model': 'llama3:8b', 'created_at': '2024-08-28T05:38:22.0010625Z', 'response': ' first', 'done': False}\n",
      "{'model': 'llama3:8b', 'created_at': '2024-08-28T05:38:22.2162257Z', 'response': ' President', 'done': False}\n",
      "{'model': 'llama3:8b', 'created_at': '2024-08-28T05:38:22.405216Z', 'response': ' of', 'done': False}\n",
      "{'model': 'llama3:8b', 'created_at': '2024-08-28T05:38:22.620158Z', 'response': ' the', 'done': False}\n",
      "{'model': 'llama3:8b', 'created_at': '2024-08-28T05:38:22.8311344Z', 'response': ' United', 'done': False}\n",
      "{'model': 'llama3:8b', 'created_at': '2024-08-28T05:38:23.0209402Z', 'response': ' States', 'done': False}\n",
      "{'model': 'llama3:8b', 'created_at': '2024-08-28T05:38:23.2249866Z', 'response': ' was', 'done': False}\n",
      "{'model': 'llama3:8b', 'created_at': '2024-08-28T05:38:23.4444051Z', 'response': ' George', 'done': False}\n",
      "{'model': 'llama3:8b', 'created_at': '2024-08-28T05:38:23.6544651Z', 'response': ' Washington', 'done': False}\n",
      "{'model': 'llama3:8b', 'created_at': '2024-08-28T05:38:23.9052421Z', 'response': '.', 'done': False}\n",
      "{'model': 'llama3:8b', 'created_at': '2024-08-28T05:38:24.1417886Z', 'response': ' He', 'done': False}\n",
      "{'model': 'llama3:8b', 'created_at': '2024-08-28T05:38:24.3580812Z', 'response': ' served', 'done': False}\n",
      "{'model': 'llama3:8b', 'created_at': '2024-08-28T05:38:24.6371833Z', 'response': ' from', 'done': False}\n",
      "{'model': 'llama3:8b', 'created_at': '2024-08-28T05:38:24.8645103Z', 'response': ' ', 'done': False}\n",
      "{'model': 'llama3:8b', 'created_at': '2024-08-28T05:38:25.1433946Z', 'response': '178', 'done': False}\n",
      "{'model': 'llama3:8b', 'created_at': '2024-08-28T05:38:25.3724911Z', 'response': '9', 'done': False}\n",
      "{'model': 'llama3:8b', 'created_at': '2024-08-28T05:38:25.5587415Z', 'response': ' to', 'done': False}\n",
      "{'model': 'llama3:8b', 'created_at': '2024-08-28T05:38:25.7609094Z', 'response': ' ', 'done': False}\n",
      "{'model': 'llama3:8b', 'created_at': '2024-08-28T05:38:25.9688396Z', 'response': '179', 'done': False}\n",
      "{'model': 'llama3:8b', 'created_at': '2024-08-28T05:38:26.2707043Z', 'response': '7', 'done': False}\n",
      "{'model': 'llama3:8b', 'created_at': '2024-08-28T05:38:26.5704274Z', 'response': ' and', 'done': False}\n",
      "{'model': 'llama3:8b', 'created_at': '2024-08-28T05:38:26.8771371Z', 'response': ' is', 'done': False}\n",
      "{'model': 'llama3:8b', 'created_at': '2024-08-28T05:38:27.1803252Z', 'response': ' often', 'done': False}\n",
      "{'model': 'llama3:8b', 'created_at': '2024-08-28T05:38:27.4602178Z', 'response': ' referred', 'done': False}\n",
      "{'model': 'llama3:8b', 'created_at': '2024-08-28T05:38:27.7632853Z', 'response': ' to', 'done': False}\n",
      "{'model': 'llama3:8b', 'created_at': '2024-08-28T05:38:28.1249211Z', 'response': ' as', 'done': False}\n",
      "{'model': 'llama3:8b', 'created_at': '2024-08-28T05:38:28.4125378Z', 'response': ' the', 'done': False}\n",
      "{'model': 'llama3:8b', 'created_at': '2024-08-28T05:38:28.6592127Z', 'response': ' \"', 'done': False}\n",
      "{'model': 'llama3:8b', 'created_at': '2024-08-28T05:38:28.9047375Z', 'response': 'Father', 'done': False}\n",
      "{'model': 'llama3:8b', 'created_at': '2024-08-28T05:38:29.1018111Z', 'response': ' of', 'done': False}\n",
      "{'model': 'llama3:8b', 'created_at': '2024-08-28T05:38:29.3184285Z', 'response': ' Our', 'done': False}\n",
      "{'model': 'llama3:8b', 'created_at': '2024-08-28T05:38:29.5128571Z', 'response': ' Country', 'done': False}\n",
      "{'model': 'llama3:8b', 'created_at': '2024-08-28T05:38:29.8083645Z', 'response': '.\"', 'done': False}\n",
      "{'model': 'llama3:8b', 'created_at': '2024-08-28T05:38:30.1687173Z', 'response': '', 'done': True, 'done_reason': 'stop', 'context': [128006, 882, 128007, 271, 10267, 757, 1440, 279, 1176, 2326, 4872, 13, 128009, 128006, 78191, 128007, 271, 4897, 596, 459, 4228, 832, 2268, 791, 1176, 4900, 315, 279, 3723, 4273, 574, 10058, 6652, 13, 1283, 10434, 505, 220, 11256, 24, 311, 220, 11128, 22, 323, 374, 3629, 14183, 311, 439, 279, 330, 62416, 315, 5751, 14438, 1210], 'total_duration': 19125793600, 'load_duration': 6760371800, 'prompt_eval_count': 18, 'prompt_eval_duration': 2726529000, 'eval_count': 41, 'eval_duration': 9622828000}\n",
      "That's an easy one!\n",
      "\n",
      "The first President of the United States was George Washington. He served from 1789 to 1797 and is often referred to as the \"Father of Our Country.\"\n"
     ]
    }
   ],
   "source": [
    "# 개별 JSON 객체로 분할\n",
    "json_objects = response.content.decode().strip().split(\"\\n\")\n",
    "\n",
    "# 각 JSON 객체를 Python 사전으로 변환\n",
    "data = [json.loads(obj) for obj in json_objects]\n",
    "res_text = ''\n",
    "\n",
    "# 변환된 데이터 출력\n",
    "for item in data:\n",
    "    print(item)\n",
    "    res_text += item['response']\n",
    "    \n",
    "print(res_text)"
   ]
  },
  {
   "cell_type": "code",
   "execution_count": null,
   "id": "7ec35efb-f807-4bbd-9e1e-2fafb3ae19d4",
   "metadata": {},
   "outputs": [],
   "source": [
    "# 맨 아래에 정리된 응답이 출력된다. (240828)"
   ]
  }
 ],
 "metadata": {
  "kernelspec": {
   "display_name": "base",
   "language": "python",
   "name": "base"
  },
  "language_info": {
   "codemirror_mode": {
    "name": "ipython",
    "version": 3
   },
   "file_extension": ".py",
   "mimetype": "text/x-python",
   "name": "python",
   "nbconvert_exporter": "python",
   "pygments_lexer": "ipython3",
   "version": "3.11.7"
  }
 },
 "nbformat": 4,
 "nbformat_minor": 5
}
