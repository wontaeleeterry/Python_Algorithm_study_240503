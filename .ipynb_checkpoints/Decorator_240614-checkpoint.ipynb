{
 "cells": [
  {
   "cell_type": "markdown",
   "id": "2bc50749-9561-4f1c-8a24-bcf7ff074d91",
   "metadata": {},
   "source": [
    "#### Decorator"
   ]
  },
  {
   "cell_type": "code",
   "execution_count": 1,
   "id": "4fd5fc60-f184-43e8-863e-6d591f698972",
   "metadata": {},
   "outputs": [
    {
     "name": "stdout",
     "output_type": "stream",
     "text": [
      "hello\n",
      "world\n"
     ]
    }
   ],
   "source": [
    "# 파이썬에서 Decorator에 대한 이해(240614)\n",
    "# ChatGPT 응답 정리\n",
    "\n",
    "def my_decorator(func):   # 데코레이터 메서드 - 꾸며지는 메서드(func)를 입력으로\n",
    "    #### 내부 함수\n",
    "    def wrapper():        # 내부 함수(inner method) - 신규 행동(hello를 출력)하고 원래 함수(func)를 호출\n",
    "        print(\"hello\")\n",
    "        func()            # 꾸며지는(being decorated) 메서드 - 함수 호출 전에 특정 행동을 하고,\n",
    "    \n",
    "    #####\n",
    "    return wrapper        # 내부 함수(wrapper)를 반환\n",
    "\n",
    "# Decorator의 활용\n",
    "\n",
    "@my_decorator\n",
    "def say_world():\n",
    "    print(\"world\")\n",
    "\n",
    "# Decorator method 호출\n",
    "say_world()"
   ]
  },
  {
   "cell_type": "code",
   "execution_count": null,
   "id": "34b56483-98b1-45bc-9298-d2d9995d8181",
   "metadata": {},
   "outputs": [],
   "source": [
    "# 데코레이터의 의미\n",
    "# say_world = my_decorator(say_world)\n",
    "\n",
    "# say_world 메서드가 호출되면,\n",
    "# wrapper 메서드가 호출되어 \"hello\"가 출력된다.\n",
    "# 그 다음에 원래 메서드인 say_world 메서드가 호출된다."
   ]
  },
  {
   "cell_type": "code",
   "execution_count": null,
   "id": "c399e7d4-91a3-4788-af62-c38a7ad75cf9",
   "metadata": {},
   "outputs": [],
   "source": [
    "# wrapper 메서드의 역할\n",
    "'''\n",
    "원 함수에 새로운 행동(behavior)을 추가할 수 있는 기능\n",
    "-> 함수 자체를 수정할 필요가 없다.\n",
    "\n",
    "The wrapper function allows you to add new behavior before and/or after the execution \n",
    "of the original function without modifying the function itself. \n",
    "\n",
    "This is useful for logging, access control, instrumentation, caching, and more.\n",
    "'''"
   ]
  },
  {
   "cell_type": "code",
   "execution_count": 2,
   "id": "ca3a7e0e-4fc6-49bf-9a87-c6b8eaf15f4e",
   "metadata": {},
   "outputs": [
    {
     "name": "stdout",
     "output_type": "stream",
     "text": [
      "Before calling the function\n",
      "Hello, Alice!\n",
      "After calling the function\n"
     ]
    }
   ],
   "source": [
    "# 더 일반적인 예,\n",
    "\n",
    "def my_decorator(func):\n",
    "    def wrapper(*args, **kwargs):\n",
    "        print(\"Before calling the function\")\n",
    "        result = func(*args, **kwargs)\n",
    "        print(\"After calling the function\")\n",
    "        return result\n",
    "    return wrapper\n",
    "\n",
    "@my_decorator\n",
    "def say_hello(name):\n",
    "    print(f\"Hello, {name}!\")\n",
    "\n",
    "# Call the decorated function\n",
    "say_hello(\"Alice\")\n"
   ]
  },
  {
   "cell_type": "markdown",
   "id": "77d18781-d470-4792-bb25-892225750354",
   "metadata": {},
   "source": [
    "#### 코드 테스트에서 Decorator 활용"
   ]
  },
  {
   "cell_type": "code",
   "execution_count": 4,
   "id": "31acc065-0393-4826-8d38-f81e81c56786",
   "metadata": {},
   "outputs": [
    {
     "name": "stderr",
     "output_type": "stream",
     "text": [
      "INFO:root:Starting test: test_addition\n",
      "INFO:root:Finished test: test_addition in 0.0000 seconds\n",
      "INFO:root:Starting test: test_subtraction\n",
      "INFO:root:Finished test: test_subtraction in 0.0000 seconds\n",
      "INFO:root:Starting test: test_multiplication\n",
      "INFO:root:Finished test: test_multiplication in 0.0000 seconds\n",
      "INFO:root:Starting test: test_division\n",
      "INFO:root:Finished test: test_division in 0.0000 seconds\n"
     ]
    }
   ],
   "source": [
    "# 데코레이터를 각각의 테스트 함수의 로그인/아숫에 적용할 수 있다.\n",
    "# 또한 각 테스트에 소요되는 시간을 측정할 수 있다.\n",
    "\n",
    "import time\n",
    "import logging\n",
    "\n",
    "# Setting up logging\n",
    "logging.basicConfig(level=logging.INFO)\n",
    "\n",
    "def test_logger(func):\n",
    "    def wrapper(*args, **kwargs):\n",
    "        logging.info(f\"Starting test: {func.__name__}\")\n",
    "        start_time = time.time()\n",
    "        \n",
    "        result = func(*args, **kwargs)\n",
    "        \n",
    "        end_time = time.time()\n",
    "        elapsed_time = end_time - start_time\n",
    "        logging.info(f\"Finished test: {func.__name__} in {elapsed_time:.4f} seconds\")\n",
    "        \n",
    "        return result\n",
    "    return wrapper    \n",
    "\n",
    "# 테스트 하려는 함수를 수정할 필요없이,\n",
    "# wrapper에 시간을 측정하는 함수를 정의해놓고,\n",
    "# 입력받은 함수의 시작과 종료 시점의 시각을 측정하여,\n",
    "# 함수의 소요 시간을 측정할 수 있다.\n",
    "\n",
    "@test_logger\n",
    "def test_addition():\n",
    "    assert 1 + 1 == 2\n",
    "\n",
    "@test_logger\n",
    "def test_subtraction():\n",
    "    assert 2 - 1 == 1\n",
    "\n",
    "@test_logger\n",
    "def test_multiplication():\n",
    "    assert 2 * 2 == 4\n",
    "\n",
    "@test_logger\n",
    "def test_division():\n",
    "    assert 4 / 2 == 2\n",
    "\n",
    "# Running the test functions\n",
    "test_addition()\n",
    "test_subtraction()\n",
    "test_multiplication()\n",
    "test_division()"
   ]
  },
  {
   "cell_type": "code",
   "execution_count": null,
   "id": "3a4b1b8e-86ab-49ce-a9fa-06589a9299bd",
   "metadata": {},
   "outputs": [],
   "source": []
  }
 ],
 "metadata": {
  "kernelspec": {
   "display_name": "base",
   "language": "python",
   "name": "base"
  },
  "language_info": {
   "codemirror_mode": {
    "name": "ipython",
    "version": 3
   },
   "file_extension": ".py",
   "mimetype": "text/x-python",
   "name": "python",
   "nbconvert_exporter": "python",
   "pygments_lexer": "ipython3",
   "version": "3.11.7"
  }
 },
 "nbformat": 4,
 "nbformat_minor": 5
}
