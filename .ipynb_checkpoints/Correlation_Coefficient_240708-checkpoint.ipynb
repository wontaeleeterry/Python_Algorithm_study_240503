{
 "cells": [
  {
   "cell_type": "markdown",
   "id": "5ff843c3-3b73-4151-81ad-77714dc234ea",
   "metadata": {},
   "source": [
    "### 선형모형을 사용하는 목적 (선형 회귀)\n",
    "- 설명변수(x) 값에 대한 반응변수(y) 값을 예측하는 것\n",
    "\n",
    "- 적합한 회귀선이 만들어지고,\n",
    "특정 값이 주어지면 반응변수 값이 예측 가능해진다.\n",
    "-> 그러나 예측 값이 100% 정확하지 않다."
   ]
  },
  {
   "cell_type": "markdown",
   "id": "a36d44f3-3c73-4650-b451-5fe2073eee7d",
   "metadata": {},
   "source": [
    "### 왜 예측 값이 정확하지 않은가?\n",
    "1) 추정된 모형 계수의 불확실성 : 예측된 선형 모델이 정확하지 않다.\n",
    "2) 개별 데이터의 무작위 오차 발생\n",
    "\n",
    "-> 그러므로 예측은 구간 추정으로 하는 것이 적절하다."
   ]
  },
  {
   "cell_type": "markdown",
   "id": "0d2cf718-2f6e-45c0-b930-f2c86b691621",
   "metadata": {},
   "source": [
    "### 설명 변수의 특정 값의 구간 추정 방법\n",
    "- 평균 반응에 대한 신뢰구간(CI)\n",
    "- 개별 반응에 대한 예측구간(PI)\n",
    "\n",
    "대부분의 데이터는 95% 신뢰구간을 벗어나는데,\n",
    "이는 신뢰구간은 개별 값이 아닌 모집단의 평균값에 대한 것이기 때문이다.\n",
    "\n",
    "대신 예측 구간은 대부분의 데이터를 포함한다."
   ]
  },
  {
   "cell_type": "code",
   "execution_count": null,
   "id": "5f4e4037-204c-4280-a3b1-eee4c3b28f01",
   "metadata": {},
   "outputs": [],
   "source": []
  }
 ],
 "metadata": {
  "kernelspec": {
   "display_name": "base",
   "language": "python",
   "name": "base"
  },
  "language_info": {
   "codemirror_mode": {
    "name": "ipython",
    "version": 3
   },
   "file_extension": ".py",
   "mimetype": "text/x-python",
   "name": "python",
   "nbconvert_exporter": "python",
   "pygments_lexer": "ipython3",
   "version": "3.11.7"
  }
 },
 "nbformat": 4,
 "nbformat_minor": 5
}
