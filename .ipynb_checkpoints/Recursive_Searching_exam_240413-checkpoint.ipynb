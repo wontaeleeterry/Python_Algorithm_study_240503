{
 "cells": [
  {
   "cell_type": "markdown",
   "id": "64d4ea2d-59d2-4c92-b689-1bbcc8523aab",
   "metadata": {},
   "source": [
    "#### 도서 : 자료 구조와 함께 배우는 알고리즘 입문 - 목차 참고"
   ]
  },
  {
   "cell_type": "markdown",
   "id": "2bf2fccb-31f1-4fbb-bd64-52b38fb372bb",
   "metadata": {},
   "source": [
    "##### 1) 재귀호출"
   ]
  },
  {
   "cell_type": "code",
   "execution_count": null,
   "id": "41ac120c-bb56-4be9-9ba6-57741270f633",
   "metadata": {},
   "outputs": [],
   "source": [
    "# 재귀호출은 일반적인 상황에서 잘 사용하지 않는다\n",
    "# 반복문으로 구현한 코드보다 재귀호출로 구현한 코드가\n",
    "# 더 직관적이고 이해하기 쉬운 경우가 많다."
   ]
  },
  {
   "cell_type": "code",
   "execution_count": 1,
   "id": "bd6ac703-6522-45db-8645-a26363cd93b1",
   "metadata": {},
   "outputs": [
    {
     "name": "stdout",
     "output_type": "stream",
     "text": [
      "Hello, world 5\n",
      "Hello, world 4\n",
      "Hello, world 3\n",
      "Hello, world 2\n",
      "Hello, world 1\n"
     ]
    }
   ],
   "source": [
    "def hello(count):\n",
    "    if count == 0:    # 종료 조건 만들기 : count가 0이면, 다시 hello 함수를 호출하지 않고 끝냄\n",
    "        return\n",
    "\n",
    "    print(\"Hello, world\", count)\n",
    "\n",
    "    count -= 1       # count를 1씩 감소\n",
    "    hello(count)     # 다시 hello 함수로 돌아가기\n",
    "\n",
    "hello(5)"
   ]
  },
  {
   "cell_type": "code",
   "execution_count": 2,
   "id": "efc82952-6db3-4b25-8696-9c2f5f3bf8f5",
   "metadata": {},
   "outputs": [
    {
     "data": {
      "text/plain": [
       "120"
      ]
     },
     "execution_count": 2,
     "metadata": {},
     "output_type": "execute_result"
    }
   ],
   "source": [
    "# 재귀호출로 팩토리얼 : 5! 계산하기\n",
    "# 코파일럿으로 작성\n",
    "\n",
    "def factorial(num):\n",
    "    if num == 0 or num == 1:\n",
    "        return 1     # 팩토리얼 계산이 성립하지 않는 경우 1을 반환 : 처음부터 0을 입력한 경우 포함\n",
    "\n",
    "    else:\n",
    "        return num*factorial(num-1)  # 자기 자신 함수를 반복 호출\n",
    "\n",
    "factorial(5)"
   ]
  },
  {
   "cell_type": "markdown",
   "id": "b3081c8e-d8c6-4dd4-b004-43f0695cd8d4",
   "metadata": {},
   "source": [
    "##### 2) 스택"
   ]
  },
  {
   "cell_type": "code",
   "execution_count": 5,
   "id": "4e7d8299-8baf-478f-b754-83f388b80cf3",
   "metadata": {},
   "outputs": [
    {
     "name": "stdout",
     "output_type": "stream",
     "text": [
      "deque([2, 1])\n"
     ]
    }
   ],
   "source": [
    "# 스택 : 후입-선출 형태의 자료 구조(컴퓨터의 가장 기본적인 자료 구조)\n",
    "# 파이썬의 리스트 - append() 마지막에 자료 추가, pop() 마지막 데이터 꺼내기\n",
    "# insert() 원하는 위치에 데이터 넣기\n",
    "\n",
    "# 큐 : 선입-선출 형태의 자료 구조\n",
    "# 가장 앞에 있는 것을 먼저 꺼낸다\n",
    "\n",
    "# 덱(Deque) : 스택과 큐를 합쳐놓은 자료 구조\n",
    "\n",
    "from collections import deque\n",
    "\n",
    "dq = deque()   # 덱 생성\n",
    "dq.append(1)   # dq 뒤에 데이터 넣기\n",
    "dq.appendleft(2)  # dq 앞으로 데이터 넣기\n",
    "\n",
    "print(dq)"
   ]
  },
  {
   "cell_type": "code",
   "execution_count": 6,
   "id": "e7579749-65ba-4c2d-81c4-5c20f3ff9b6f",
   "metadata": {},
   "outputs": [
    {
     "name": "stdout",
     "output_type": "stream",
     "text": [
      "1\n",
      "2\n"
     ]
    }
   ],
   "source": [
    "print(dq.pop())  # 맨 뒤의 데이터 꺼내기\n",
    "print(dq.popleft()) # 맨 앞의 데이터 꺼내기"
   ]
  },
  {
   "cell_type": "markdown",
   "id": "97b4d9bc-5fff-4952-af12-3ba6f4ce6516",
   "metadata": {},
   "source": [
    "##### 3) 선형 검색"
   ]
  },
  {
   "cell_type": "code",
   "execution_count": 8,
   "id": "14f47545-7ecd-4a10-964d-800402210ac7",
   "metadata": {},
   "outputs": [
    {
     "name": "stdout",
     "output_type": "stream",
     "text": [
      "0\n",
      "5\n",
      "Linear Search Completed...\n"
     ]
    }
   ],
   "source": [
    "# 선형 검색 : 정렬 여부에 상관없이 값을 찾을 수 있다.\n",
    "# 이진 검색 : 정렬되어야 한다.\n",
    "\n",
    "# 선형 검색 알고리즘\n",
    "\n",
    "def linearSearch(arr, target):\n",
    "    # 찾는 값이 있는 경우, index 값을 리턴하는 함수 작성\n",
    "    # 존재하지 않으면 Fail 리턴\n",
    "\n",
    "    i = 0\n",
    "    while i < len(arr):\n",
    "        if arr[i] == target:\n",
    "            print(i)\n",
    "            # return    # 리턴문을 주석처리해야 한다 : 항목이 중복되어 있는 경우, 찾았다고 종료하면 안된다.\n",
    "\n",
    "        i += 1\n",
    "\n",
    "    return \"Linear Search Completed...\"   # 리스트 탐색을 완료했음을 알림\n",
    "\n",
    "arr = [3, 4, 5, 6, 1, 3]  # 검색 대상 리스트\n",
    "target = 3  # 찾고자 하는 항목\n",
    "\n",
    "print(linearSearch(arr, target))"
   ]
  },
  {
   "cell_type": "markdown",
   "id": "2d97d02b-1114-431a-8885-3b198968eecd",
   "metadata": {},
   "source": [
    "##### 4) 이진 검색"
   ]
  },
  {
   "cell_type": "code",
   "execution_count": 9,
   "id": "3f9a491b-3d2c-49bc-8f89-08d4dbee8cbc",
   "metadata": {},
   "outputs": [
    {
     "data": {
      "text/plain": [
       "[7, 25, 27, 27, 30, 30, 32, 32, 47, 92, 94, 94]"
      ]
     },
     "execution_count": 9,
     "metadata": {},
     "output_type": "execute_result"
    }
   ],
   "source": [
    "# 이진 검색 알고리즘\n",
    "# 오름 차순으로 정렬된 배열에서 원하는 숫자를 찾는 알고리즘\n",
    "# 빠른 것 같지만, sort 작업이 필요하다는 점에서 시간 차이가 있는가?\n",
    "\n",
    "# 리스트와 타겟 정의\n",
    "target = 25\n",
    "m_list = [30, 94, 27, 30, 32, 27, 47, 92, 94, 25, 32, 7]\n",
    "\n",
    "length = len(m_list)\n",
    "left = 0\n",
    "right = length - 1\n",
    "\n",
    "m_list.sort()      # 이진 검색은 정렬이 필요하다.\n",
    "m_list"
   ]
  },
  {
   "cell_type": "code",
   "execution_count": 10,
   "id": "e4e32649-0f67-498d-9a72-42e1a751ccc7",
   "metadata": {},
   "outputs": [
    {
     "name": "stdout",
     "output_type": "stream",
     "text": [
      "Index(sorted) is: 2\n",
      "Value is: 27\n"
     ]
    }
   ],
   "source": [
    "# 이진 검색\n",
    "\n",
    "while left <= right:\n",
    "    mid = (left+right)//2         # 나눗셈 몫 계산\n",
    "\n",
    "    if m_list[mid] == target:     # 좌우의 가웃데 값에서 찾아가기\n",
    "        print(\"Index(sorted) is:\", mid+1)\n",
    "        print(\"Value is:\", m_list[mid+1])\n",
    "        break\n",
    "\n",
    "    elif m_list[mid] > target:\n",
    "        right = mid - 1\n",
    "\n",
    "    else:\n",
    "        left = mid + 1"
   ]
  },
  {
   "cell_type": "markdown",
   "id": "5f63e270-8c42-4f0e-b6ac-dd55603e3b9d",
   "metadata": {},
   "source": [
    "### 리스트 스캔 (240507)"
   ]
  },
  {
   "cell_type": "code",
   "execution_count": 1,
   "id": "87da6714-9e4c-4f43-8963-18dd50c912bf",
   "metadata": {},
   "outputs": [
    {
     "name": "stdout",
     "output_type": "stream",
     "text": [
      "x[0] = John\n",
      "x[1] = George\n",
      "x[2] = Paul\n",
      "x[3] = Ringo\n"
     ]
    }
   ],
   "source": [
    "x = ['John', 'George', 'Paul', 'Ringo']\n",
    "\n",
    "for i in range(len(x)):\n",
    "    print(f'x[{i}] = {x[i]}')"
   ]
  },
  {
   "cell_type": "code",
   "execution_count": 2,
   "id": "fac17cf9-0aaf-4b8f-82c7-22f77fc1adac",
   "metadata": {},
   "outputs": [
    {
     "name": "stdout",
     "output_type": "stream",
     "text": [
      "x[0] = John\n",
      "x[1] = George\n",
      "x[2] = Paul\n",
      "x[3] = Ringo\n"
     ]
    }
   ],
   "source": [
    "for i, name in enumerate(x):\n",
    "    print(f'x[{i}] = {name}')      # enumerate 인덱스와 원소를 짝지어 튜플로 꺼내는 함수 :변수 name에 원소가 할당"
   ]
  },
  {
   "cell_type": "code",
   "execution_count": 4,
   "id": "a5411460-f507-4bbc-b326-c25ae622ed75",
   "metadata": {},
   "outputs": [
    {
     "name": "stdout",
     "output_type": "stream",
     "text": [
      "x[1] = John\n",
      "x[2] = George\n",
      "x[3] = Paul\n",
      "x[4] = Ringo\n"
     ]
    }
   ],
   "source": [
    "for i, name in enumerate(x, 1):    # 인덱스 번호 1부터 시작\n",
    "    print(f'x[{i}] = {name}') "
   ]
  },
  {
   "cell_type": "code",
   "execution_count": 1,
   "id": "a805ef87-d4a5-47a6-9a92-1da4668ff0cd",
   "metadata": {},
   "outputs": [
    {
     "name": "stdout",
     "output_type": "stream",
     "text": [
      "x =  [11, 22, 33, 44, 55]\n"
     ]
    },
    {
     "name": "stdin",
     "output_type": "stream",
     "text": [
      "업데이트할 인덱스 번호 : 0\n",
      "새로운 값 : 99\n"
     ]
    },
    {
     "name": "stdout",
     "output_type": "stream",
     "text": [
      "x=[99, 22, 33, 44, 55]\n"
     ]
    }
   ],
   "source": [
    "# 리스트의 임의의 원소값을 업데이트하는 메서드\n",
    "\n",
    "def change(lst, idx, val):\n",
    "    lst[idx] = val     # lst값을 리스트의 이름으로 받는 부분이 특이한 점 (240508)\n",
    "\n",
    "x = [11, 22, 33, 44, 55]\n",
    "print('x = ', x)\n",
    "\n",
    "index = int(input('업데이트할 인덱스 번호 :'))\n",
    "value = int(input('새로운 값 :'))\n",
    "\n",
    "change(x, index, value)\n",
    "print(f'x={x}')\n"
   ]
  },
  {
   "cell_type": "code",
   "execution_count": 3,
   "id": "a3a37ccb-4c31-4f54-a50f-c5a94bf9c276",
   "metadata": {},
   "outputs": [
    {
     "name": "stdout",
     "output_type": "stream",
     "text": [
      "2\n",
      "3\n",
      "5\n",
      "7\n",
      "11\n",
      "13\n",
      "17\n",
      "19\n",
      "23\n",
      "29\n",
      "31\n",
      "37\n",
      "41\n",
      "43\n",
      "47\n",
      "53\n",
      "59\n",
      "61\n",
      "67\n",
      "71\n",
      "73\n",
      "79\n",
      "83\n",
      "89\n",
      "97\n",
      "나눗셈을 실행한 횟수: 1132\n"
     ]
    }
   ],
   "source": [
    "# 100 이하의 소수를 나열하는 알고리즘\n",
    "\n",
    "counter = 0\n",
    "\n",
    "for n in range(2, 100):\n",
    "    for i in range(2, n):\n",
    "        counter += 1\n",
    "        if n % i == 0:\n",
    "            break\n",
    "\n",
    "    else:\n",
    "        print(n)\n",
    "print(f'나눗셈을 실행한 횟수: {counter}')"
   ]
  },
  {
   "cell_type": "code",
   "execution_count": null,
   "id": "018240f6-a065-40c3-86b9-1478b270168d",
   "metadata": {},
   "outputs": [],
   "source": []
  }
 ],
 "metadata": {
  "kernelspec": {
   "display_name": "base",
   "language": "python",
   "name": "base"
  },
  "language_info": {
   "codemirror_mode": {
    "name": "ipython",
    "version": 3
   },
   "file_extension": ".py",
   "mimetype": "text/x-python",
   "name": "python",
   "nbconvert_exporter": "python",
   "pygments_lexer": "ipython3",
   "version": "3.11.7"
  }
 },
 "nbformat": 4,
 "nbformat_minor": 5
}
