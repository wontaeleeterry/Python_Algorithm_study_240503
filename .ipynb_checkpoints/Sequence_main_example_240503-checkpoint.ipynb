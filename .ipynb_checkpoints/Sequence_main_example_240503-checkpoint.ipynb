{
 "cells": [
  {
   "cell_type": "markdown",
   "id": "43bc4563-4bbb-47a4-8465-c01655f59f74",
   "metadata": {},
   "source": [
    "### # 시퀀스 원소의 최댓값 출력하기"
   ]
  },
  {
   "cell_type": "code",
   "execution_count": 1,
   "id": "e05935aa-88cb-4bef-af4f-6e5520848a20",
   "metadata": {},
   "outputs": [],
   "source": [
    "from typing import Any, Sequence    # 이게 무슨 의미인지?"
   ]
  },
  {
   "cell_type": "code",
   "execution_count": 2,
   "id": "a627e130-2c67-4139-9d53-eaaada0ac295",
   "metadata": {},
   "outputs": [
    {
     "name": "stdout",
     "output_type": "stream",
     "text": [
      "배열의 최댓값을 구합니다.\n"
     ]
    },
    {
     "name": "stdin",
     "output_type": "stream",
     "text": [
      "원소 수를 입력하세요. : 3\n",
      "x[0] 값을 입력하세요.:  12\n",
      "x[1] 값을 입력하세요.:  24\n",
      "x[2] 값을 입력하세요.:  11\n"
     ]
    },
    {
     "name": "stdout",
     "output_type": "stream",
     "text": [
      "최댓값은 24 입니다.\n"
     ]
    }
   ],
   "source": [
    "def max_of(a: Sequence) -> Any:\n",
    "    # 시퀀스형 a 원소의 최댓값을 반환 \n",
    "    maximum = a[0]\n",
    "    for i in range(1, len(a)):\n",
    "        if a[i] > maximum:\n",
    "            maximum = a[i]\n",
    "\n",
    "        return maximum\n",
    "\n",
    "if __name__ == '__main__':\n",
    "    print('배열의 최댓값을 구합니다.')\n",
    "    num = int(input('원소 수를 입력하세요. :'))\n",
    "    x = [None] * num  # 원소수가 num인 빈 리스트를 생성\n",
    "\n",
    "    for i in range(num):\n",
    "        x[i] = int(input(f'x[{i}] 값을 입력하세요.: '))\n",
    "\n",
    "    print(f'최댓값은 {max_of(x)} 입니다.')"
   ]
  },
  {
   "cell_type": "markdown",
   "id": "213fd45c-a750-426c-88d3-45d2e33aaa6f",
   "metadata": {},
   "source": [
    "### if __name__ == '__main__'"
   ]
  },
  {
   "cell_type": "code",
   "execution_count": 17,
   "id": "1b9bfc29-7605-423d-bdf2-852688f72281",
   "metadata": {},
   "outputs": [
    {
     "name": "stdout",
     "output_type": "stream",
     "text": [
      "스크립트의 시작점\n"
     ]
    }
   ],
   "source": [
    "# if __name__ == '__main__': 필요한 이유\n",
    "\n",
    "# 파이썬은 C와 달리 main() 함수가 존재하지 않는다.\n",
    "# 파이썬은 main문이 없는 대신에, 들여쓰기가 되지 않은 Level0의 코드를 가장 먼저 실행시킨다.\n",
    "\n",
    "# import로 모듈을 가져오는 경우, -> 임포트된 모듈의 이름(파일명)\n",
    "# 인터프리터가 스크립트를 실행하는 경우, -> 스크립트 파일의 __name__에는 __main__이 들어간다.(프로그램의 시작점)\n",
    "\n",
    "# 모듈에 if __name__=='__main__'이라는 조건문을 넣어주고 \n",
    "#그 아래는 직접 실행시켰을 때만 실행되길 원하는 코드들을 넣어주는 것으로 생각하면 \n",
    "\n",
    "# 아래의 스크립트가 testpy.py로 정리된 경우, 결과의 차이\n",
    "\n",
    "'''\n",
    "def test():\n",
    "    if __name__ == '__main__':\n",
    "        print(\"스크립트의 시작점\")\n",
    "\n",
    "    else:\n",
    "        print(\"import의 경우\")\n",
    "'''\n",
    "\n",
    "if __name__ == '__main__':\n",
    "    print(\"스크립트의 시작점\")\n",
    "\n",
    "else:\n",
    "    print(\"import의 경우\")"
   ]
  },
  {
   "cell_type": "code",
   "execution_count": 18,
   "id": "6bd90ea2-fda2-4c33-8624-43340384986f",
   "metadata": {},
   "outputs": [
    {
     "name": "stdout",
     "output_type": "stream",
     "text": [
      "import의 경우\n"
     ]
    }
   ],
   "source": [
    "# 단순 스크립트로 작성하는 경우, 코드의 시작점이 if __name__ == '__main__'이 되고,\n",
    "# import하여 호출하는 경우, 시작점이 달라진다.\n",
    "\n",
    "# 그렇다면, 모듈로 작성한다면 __main__ 아래 부분을 공란으로 둔다는 것인가? (어짜피 사용하지 않을 것이므로)\n",
    "\n",
    "import testpy   # testpy.py 파일을 동일 폴더에 생성\n",
    "\n",
    "testpy.test()"
   ]
  },
  {
   "cell_type": "markdown",
   "id": "a4a0c3ec-e8c2-472f-9c13-1a31331dc165",
   "metadata": {},
   "source": [
    "### 반복자(Iterator), 제너레이터(Generator)"
   ]
  },
  {
   "cell_type": "code",
   "execution_count": null,
   "id": "c79fc58f-140c-4eff-b2b5-61fcbf448703",
   "metadata": {},
   "outputs": [],
   "source": [
    "# https://wikidocs.net/134909"
   ]
  }
 ],
 "metadata": {
  "kernelspec": {
   "display_name": "base",
   "language": "python",
   "name": "base"
  },
  "language_info": {
   "codemirror_mode": {
    "name": "ipython",
    "version": 3
   },
   "file_extension": ".py",
   "mimetype": "text/x-python",
   "name": "python",
   "nbconvert_exporter": "python",
   "pygments_lexer": "ipython3",
   "version": "3.11.7"
  }
 },
 "nbformat": 4,
 "nbformat_minor": 5
}
