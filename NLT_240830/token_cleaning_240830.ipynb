{
 "cells": [
  {
   "cell_type": "markdown",
   "metadata": {},
   "source": [
    "#### 자연어 처리(eKoreaTech 강의)"
   ]
  },
  {
   "cell_type": "markdown",
   "metadata": {},
   "source": [
    "#### 1) 영문 자연어 전처리"
   ]
  },
  {
   "cell_type": "code",
   "execution_count": 1,
   "metadata": {},
   "outputs": [
    {
     "name": "stderr",
     "output_type": "stream",
     "text": [
      "[nltk_data] Downloading package punkt to\n",
      "[nltk_data]     C:\\Users\\wonta\\AppData\\Roaming\\nltk_data...\n",
      "[nltk_data]   Package punkt is already up-to-date!\n"
     ]
    },
    {
     "data": {
      "text/plain": [
       "True"
      ]
     },
     "execution_count": 1,
     "metadata": {},
     "output_type": "execute_result"
    }
   ],
   "source": [
    "# nltk : 자연어 처리를 위한 파이썬 패키지\n",
    "\n",
    "import nltk\n",
    "nltk.download('punkt')     # 영문 토큰화를 위해 punkt 모듈 다운로드"
   ]
  },
  {
   "cell_type": "code",
   "execution_count": 29,
   "metadata": {},
   "outputs": [],
   "source": [
    "en_text = \"All happy families resemble one another; each unhappy family is unhappy in its own way.\""
   ]
  },
  {
   "cell_type": "code",
   "execution_count": 30,
   "metadata": {},
   "outputs": [
    {
     "name": "stdout",
     "output_type": "stream",
     "text": [
      "['All', 'happy', 'families', 'resemble', 'one', 'another', ';', 'each', 'unhappy', 'family', 'is', 'unhappy', 'in', 'its', 'own', 'way', '.']\n"
     ]
    }
   ],
   "source": [
    "from nltk.tokenize import word_tokenize\n",
    "tokens = word_tokenize(en_text)\n",
    "print(tokens)"
   ]
  },
  {
   "cell_type": "markdown",
   "metadata": {},
   "source": [
    "#### 불용어(stopword) 제거"
   ]
  },
  {
   "cell_type": "code",
   "execution_count": 59,
   "metadata": {},
   "outputs": [
    {
     "name": "stderr",
     "output_type": "stream",
     "text": [
      "[nltk_data] Downloading package stopwords to\n",
      "[nltk_data]     C:\\Users\\wonta\\AppData\\Roaming\\nltk_data...\n",
      "[nltk_data]   Package stopwords is already up-to-date!\n"
     ]
    },
    {
     "data": {
      "text/plain": [
       "True"
      ]
     },
     "execution_count": 59,
     "metadata": {},
     "output_type": "execute_result"
    }
   ],
   "source": [
    "# 패키지 다운\n",
    "nltk.download('stopwords')"
   ]
  },
  {
   "cell_type": "code",
   "execution_count": 32,
   "metadata": {},
   "outputs": [
    {
     "name": "stdout",
     "output_type": "stream",
     "text": [
      "['i', 'me', 'my', 'myself', 'we', 'our', 'ours', 'ourselves', 'you', \"you're\", \"you've\", \"you'll\", \"you'd\", 'your', 'yours', 'yourself', 'yourselves', 'he', 'him', 'his', 'himself', 'she', \"she's\", 'her', 'hers', 'herself', 'it', \"it's\", 'its', 'itself', 'they', 'them', 'their', 'theirs', 'themselves', 'what', 'which', 'who', 'whom', 'this', 'that', \"that'll\", 'these', 'those', 'am', 'is', 'are', 'was', 'were', 'be', 'been', 'being', 'have', 'has', 'had', 'having', 'do', 'does', 'did', 'doing', 'a', 'an', 'the', 'and', 'but', 'if', 'or', 'because', 'as', 'until', 'while', 'of', 'at', 'by', 'for', 'with', 'about', 'against', 'between', 'into', 'through', 'during', 'before', 'after', 'above', 'below', 'to', 'from', 'up', 'down', 'in', 'out', 'on', 'off', 'over', 'under', 'again', 'further', 'then', 'once', 'here', 'there', 'when', 'where', 'why', 'how', 'all', 'any', 'both', 'each', 'few', 'more', 'most', 'other', 'some', 'such', 'no', 'nor', 'not', 'only', 'own', 'same', 'so', 'than', 'too', 'very', 's', 't', 'can', 'will', 'just', 'don', \"don't\", 'should', \"should've\", 'now', 'd', 'll', 'm', 'o', 're', 've', 'y', 'ain', 'aren', \"aren't\", 'couldn', \"couldn't\", 'didn', \"didn't\", 'doesn', \"doesn't\", 'hadn', \"hadn't\", 'hasn', \"hasn't\", 'haven', \"haven't\", 'isn', \"isn't\", 'ma', 'mightn', \"mightn't\", 'mustn', \"mustn't\", 'needn', \"needn't\", 'shan', \"shan't\", 'shouldn', \"shouldn't\", 'wasn', \"wasn't\", 'weren', \"weren't\", 'won', \"won't\", 'wouldn', \"wouldn't\"]\n"
     ]
    }
   ],
   "source": [
    "from nltk.corpus import stopwords\n",
    "stop = stopwords.words('english')\n",
    "print(stop)        # 정의되어 있는 영문 불용어를 출력하여 확인"
   ]
  },
  {
   "cell_type": "code",
   "execution_count": 6,
   "metadata": {},
   "outputs": [],
   "source": [
    "# 대명사, 관사, 전치사 등의 여러 불용어가 포함되어 있는 것을 확인"
   ]
  },
  {
   "cell_type": "code",
   "execution_count": 33,
   "metadata": {},
   "outputs": [
    {
     "name": "stdout",
     "output_type": "stream",
     "text": [
      "['All', 'happy', 'families', 'resemble', 'one', 'another', ';', 'unhappy', 'family', 'unhappy', 'way', '.']\n"
     ]
    }
   ],
   "source": [
    "# 불용어 제거하기\n",
    "# stopword와 파이썬의 List Comprehension을 이용한 불용어 제거\n",
    "\n",
    "tokens = [token for token in tokens if token not in stop]\n",
    "print(tokens)"
   ]
  },
  {
   "cell_type": "code",
   "execution_count": 8,
   "metadata": {},
   "outputs": [],
   "source": [
    "# 불용어를 제외된 나머지 단어들이 출력됨."
   ]
  },
  {
   "cell_type": "markdown",
   "metadata": {},
   "source": [
    "#### List Comprehension에 대하여"
   ]
  },
  {
   "cell_type": "code",
   "execution_count": 9,
   "metadata": {},
   "outputs": [
    {
     "data": {
      "text/plain": [
       "[0, 1, 2, 3, 4, 5, 6, 7, 8, 9]"
      ]
     },
     "execution_count": 9,
     "metadata": {},
     "output_type": "execute_result"
    }
   ],
   "source": [
    "# List Comprehension은 대괄호 사이에 for문, 조건문 등을 사용하여,\n",
    "# 간결하게 List를 만들수 있게 해준다.\n",
    "\n",
    "# 파이썬의 리스트가 특이한 점은, 리스트 안에 for문과 if 조건문을 사용할 수 있는 점이다.\n",
    "\n",
    "# 리스트를 만드는 방법들,\n",
    "\n",
    "a = [i for i in range(10)]\n",
    "a"
   ]
  },
  {
   "cell_type": "code",
   "execution_count": 10,
   "metadata": {},
   "outputs": [],
   "source": [
    "# if ~ not in ~ : \"포함되어 있으면 제거를 하라\" 는 뜻"
   ]
  },
  {
   "cell_type": "markdown",
   "metadata": {},
   "source": [
    "#### 2글자 이하 단어 제거하기"
   ]
  },
  {
   "cell_type": "code",
   "execution_count": 34,
   "metadata": {},
   "outputs": [
    {
     "name": "stdout",
     "output_type": "stream",
     "text": [
      "['All', 'happy', 'families', 'resemble', 'one', 'another', 'unhappy', 'family', 'unhappy', 'way']\n"
     ]
    }
   ],
   "source": [
    "# 불용어 제거 후 단어의 길이가 2글자 이하인 단어를 제거\n",
    "\n",
    "tokens = [token for token in tokens if len(token)>=3]\n",
    "print(tokens)"
   ]
  },
  {
   "cell_type": "markdown",
   "metadata": {},
   "source": [
    "#### 소문자화"
   ]
  },
  {
   "cell_type": "code",
   "execution_count": 35,
   "metadata": {},
   "outputs": [
    {
     "name": "stdout",
     "output_type": "stream",
     "text": [
      "소문자화 실행 전 :  ['All', 'happy', 'families', 'resemble', 'one', 'another', 'unhappy', 'family', 'unhappy', 'way']\n",
      "소문자화 실행 후 :  ['all', 'happy', 'families', 'resemble', 'one', 'another', 'unhappy', 'family', 'unhappy', 'way']\n"
     ]
    }
   ],
   "source": [
    "print(\"소문자화 실행 전 : \", tokens)\n",
    "tokens = [token.lower() for token in tokens]\n",
    "print(\"소문자화 실행 후 : \", tokens)\n"
   ]
  },
  {
   "cell_type": "markdown",
   "metadata": {},
   "source": [
    "#### 2) 한글 자연어 전처리"
   ]
  },
  {
   "cell_type": "code",
   "execution_count": 13,
   "metadata": {},
   "outputs": [
    {
     "name": "stdout",
     "output_type": "stream",
     "text": [
      "!\"#$%&'()*+,-./:;<=>?@[\\]^_`{|}~\n"
     ]
    }
   ],
   "source": [
    "# 불용어 사전을 활용하여 제거 / 불용어 사전 관리 필요\n",
    "# 다양한 비즈니스 도메인 혹은 업무 환경에 맞는 또는 상황에 맞는 불용어를 정의하고\n",
    "# 그 불용어들을 제거하는 방식으로 전처리 진행\n",
    "\n",
    "# 정제(Cleaning) - 특수문자 제거\n",
    "\n",
    "\n",
    "import  string\n",
    "print(string.punctuation)   # 정의되어 있는 특수문자 확인 - 영문과 동일함"
   ]
  },
  {
   "cell_type": "code",
   "execution_count": 14,
   "metadata": {},
   "outputs": [
    {
     "name": "stdout",
     "output_type": "stream",
     "text": [
      "행복한 가정은 모두 비슷하게 닮았지만 불행한 가정은 저마다의 이유로 불행하다\n"
     ]
    }
   ],
   "source": [
    "# 한글 Corpus 정의\n",
    "\n",
    "import string\n",
    "import re       # re - 정규식 관련 모듈 -> 특수문자를 길이가 0인 문자로 변환(제거)\n",
    "\n",
    "text = '행복한 가정은 모두 비슷하게 닮았지만, 불행한 가정은 저마다의 이유로 불행하다.'\n",
    "\n",
    "Cleaned_text = re.sub('[^\\w\\s]', '', text)   # 단어(\\w)와 공백문자(\\s)를 제외(^)하고 모두 삭제\n",
    "print(Cleaned_text)"
   ]
  },
  {
   "cell_type": "code",
   "execution_count": 15,
   "metadata": {},
   "outputs": [
    {
     "name": "stdout",
     "output_type": "stream",
     "text": [
      "행복한가정은모두비슷하게닮았지만불행한가정은저마다의이유로불행하다\n"
     ]
    }
   ],
   "source": [
    "# 한글은 띄어쓰기를 잘하지 않더라도 의미가 잘 통하는 장점이 있다.\n",
    "# 고의적으로 띄어쓰기를 하지 않은 경우, 자연어 처리를 하는 방법 필요하다.\n",
    "#  ---> 띄어쓰기를 적용하는 과정부터 시작한다.\n",
    "\n",
    "Non_Spaced_text = re.sub('[\\s]', '', Cleaned_text)\n",
    "print(Non_Spaced_text)"
   ]
  },
  {
   "cell_type": "code",
   "execution_count": 16,
   "metadata": {},
   "outputs": [],
   "source": [
    "# 띄어쓰기를 임의로 모두 삭제"
   ]
  },
  {
   "cell_type": "code",
   "execution_count": 17,
   "metadata": {},
   "outputs": [
    {
     "name": "stdout",
     "output_type": "stream",
     "text": [
      "Collecting git+https://github.com/haven-jeon/PyKoSpacing.git\n",
      "  Cloning https://github.com/haven-jeon/PyKoSpacing.git to c:\\users\\wonta\\appdata\\local\\temp\\pip-req-build-9j5d711p\n",
      "  Resolved https://github.com/haven-jeon/PyKoSpacing.git to commit b32a889cbd10b006d2f4aba118f0cd5b677e2979\n",
      "  Preparing metadata (setup.py): started\n",
      "  Preparing metadata (setup.py): finished with status 'done'\n",
      "Requirement already satisfied: tensorflow>=2.16.2 in c:\\users\\wonta\\anaconda3\\lib\\site-packages (from pykospacing==0.5) (2.17.0)\n",
      "Requirement already satisfied: h5py>=3.10.0 in c:\\users\\wonta\\anaconda3\\lib\\site-packages (from pykospacing==0.5) (3.10.0)\n",
      "Collecting argparse>=1.1.0 (from pykospacing==0.5)\n",
      "  Using cached argparse-1.4.0-py2.py3-none-any.whl.metadata (2.8 kB)\n",
      "Requirement already satisfied: numpy>=1.17.3 in c:\\users\\wonta\\anaconda3\\lib\\site-packages (from h5py>=3.10.0->pykospacing==0.5) (1.26.4)\n",
      "Requirement already satisfied: tensorflow-intel==2.17.0 in c:\\users\\wonta\\anaconda3\\lib\\site-packages (from tensorflow>=2.16.2->pykospacing==0.5) (2.17.0)\n",
      "Requirement already satisfied: absl-py>=1.0.0 in c:\\users\\wonta\\anaconda3\\lib\\site-packages (from tensorflow-intel==2.17.0->tensorflow>=2.16.2->pykospacing==0.5) (2.1.0)\n",
      "Requirement already satisfied: astunparse>=1.6.0 in c:\\users\\wonta\\anaconda3\\lib\\site-packages (from tensorflow-intel==2.17.0->tensorflow>=2.16.2->pykospacing==0.5) (1.6.3)\n",
      "Requirement already satisfied: flatbuffers>=24.3.25 in c:\\users\\wonta\\anaconda3\\lib\\site-packages (from tensorflow-intel==2.17.0->tensorflow>=2.16.2->pykospacing==0.5) (24.3.25)\n",
      "Requirement already satisfied: gast!=0.5.0,!=0.5.1,!=0.5.2,>=0.2.1 in c:\\users\\wonta\\anaconda3\\lib\\site-packages (from tensorflow-intel==2.17.0->tensorflow>=2.16.2->pykospacing==0.5) (0.5.4)\n",
      "Requirement already satisfied: google-pasta>=0.1.1 in c:\\users\\wonta\\anaconda3\\lib\\site-packages (from tensorflow-intel==2.17.0->tensorflow>=2.16.2->pykospacing==0.5) (0.2.0)\n",
      "Requirement already satisfied: libclang>=13.0.0 in c:\\users\\wonta\\anaconda3\\lib\\site-packages (from tensorflow-intel==2.17.0->tensorflow>=2.16.2->pykospacing==0.5) (18.1.1)\n",
      "Requirement already satisfied: ml-dtypes<0.5.0,>=0.3.1 in c:\\users\\wonta\\anaconda3\\lib\\site-packages (from tensorflow-intel==2.17.0->tensorflow>=2.16.2->pykospacing==0.5) (0.3.2)\n",
      "Requirement already satisfied: opt-einsum>=2.3.2 in c:\\users\\wonta\\anaconda3\\lib\\site-packages (from tensorflow-intel==2.17.0->tensorflow>=2.16.2->pykospacing==0.5) (3.3.0)\n",
      "Requirement already satisfied: packaging in c:\\users\\wonta\\anaconda3\\lib\\site-packages (from tensorflow-intel==2.17.0->tensorflow>=2.16.2->pykospacing==0.5) (23.1)\n",
      "Requirement already satisfied: protobuf!=4.21.0,!=4.21.1,!=4.21.2,!=4.21.3,!=4.21.4,!=4.21.5,<5.0.0dev,>=3.20.3 in c:\\users\\wonta\\anaconda3\\lib\\site-packages (from tensorflow-intel==2.17.0->tensorflow>=2.16.2->pykospacing==0.5) (3.20.3)\n",
      "Requirement already satisfied: requests<3,>=2.21.0 in c:\\users\\wonta\\anaconda3\\lib\\site-packages (from tensorflow-intel==2.17.0->tensorflow>=2.16.2->pykospacing==0.5) (2.31.0)\n",
      "Requirement already satisfied: setuptools in c:\\users\\wonta\\anaconda3\\lib\\site-packages (from tensorflow-intel==2.17.0->tensorflow>=2.16.2->pykospacing==0.5) (68.2.2)\n",
      "Requirement already satisfied: six>=1.12.0 in c:\\users\\wonta\\anaconda3\\lib\\site-packages (from tensorflow-intel==2.17.0->tensorflow>=2.16.2->pykospacing==0.5) (1.16.0)\n",
      "Requirement already satisfied: termcolor>=1.1.0 in c:\\users\\wonta\\anaconda3\\lib\\site-packages (from tensorflow-intel==2.17.0->tensorflow>=2.16.2->pykospacing==0.5) (2.4.0)\n",
      "Requirement already satisfied: typing-extensions>=3.6.6 in c:\\users\\wonta\\anaconda3\\lib\\site-packages (from tensorflow-intel==2.17.0->tensorflow>=2.16.2->pykospacing==0.5) (4.9.0)\n",
      "Requirement already satisfied: wrapt>=1.11.0 in c:\\users\\wonta\\anaconda3\\lib\\site-packages (from tensorflow-intel==2.17.0->tensorflow>=2.16.2->pykospacing==0.5) (1.14.1)\n",
      "Requirement already satisfied: grpcio<2.0,>=1.24.3 in c:\\users\\wonta\\anaconda3\\lib\\site-packages (from tensorflow-intel==2.17.0->tensorflow>=2.16.2->pykospacing==0.5) (1.62.1)\n",
      "Requirement already satisfied: tensorboard<2.18,>=2.17 in c:\\users\\wonta\\anaconda3\\lib\\site-packages (from tensorflow-intel==2.17.0->tensorflow>=2.16.2->pykospacing==0.5) (2.17.1)\n",
      "Requirement already satisfied: keras>=3.2.0 in c:\\users\\wonta\\anaconda3\\lib\\site-packages (from tensorflow-intel==2.17.0->tensorflow>=2.16.2->pykospacing==0.5) (3.2.0)\n",
      "Requirement already satisfied: tensorflow-io-gcs-filesystem>=0.23.1 in c:\\users\\wonta\\anaconda3\\lib\\site-packages (from tensorflow-intel==2.17.0->tensorflow>=2.16.2->pykospacing==0.5) (0.31.0)\n",
      "Requirement already satisfied: wheel<1.0,>=0.23.0 in c:\\users\\wonta\\anaconda3\\lib\\site-packages (from astunparse>=1.6.0->tensorflow-intel==2.17.0->tensorflow>=2.16.2->pykospacing==0.5) (0.41.2)\n",
      "Requirement already satisfied: rich in c:\\users\\wonta\\anaconda3\\lib\\site-packages (from keras>=3.2.0->tensorflow-intel==2.17.0->tensorflow>=2.16.2->pykospacing==0.5) (13.3.5)\n",
      "Requirement already satisfied: namex in c:\\users\\wonta\\anaconda3\\lib\\site-packages (from keras>=3.2.0->tensorflow-intel==2.17.0->tensorflow>=2.16.2->pykospacing==0.5) (0.0.7)\n",
      "Requirement already satisfied: optree in c:\\users\\wonta\\anaconda3\\lib\\site-packages (from keras>=3.2.0->tensorflow-intel==2.17.0->tensorflow>=2.16.2->pykospacing==0.5) (0.11.0)\n",
      "Requirement already satisfied: charset-normalizer<4,>=2 in c:\\users\\wonta\\anaconda3\\lib\\site-packages (from requests<3,>=2.21.0->tensorflow-intel==2.17.0->tensorflow>=2.16.2->pykospacing==0.5) (2.0.4)\n",
      "Requirement already satisfied: idna<4,>=2.5 in c:\\users\\wonta\\anaconda3\\lib\\site-packages (from requests<3,>=2.21.0->tensorflow-intel==2.17.0->tensorflow>=2.16.2->pykospacing==0.5) (3.4)\n",
      "Requirement already satisfied: urllib3<3,>=1.21.1 in c:\\users\\wonta\\anaconda3\\lib\\site-packages (from requests<3,>=2.21.0->tensorflow-intel==2.17.0->tensorflow>=2.16.2->pykospacing==0.5) (2.0.7)\n",
      "Requirement already satisfied: certifi>=2017.4.17 in c:\\users\\wonta\\anaconda3\\lib\\site-packages (from requests<3,>=2.21.0->tensorflow-intel==2.17.0->tensorflow>=2.16.2->pykospacing==0.5) (2024.2.2)\n",
      "Requirement already satisfied: markdown>=2.6.8 in c:\\users\\wonta\\anaconda3\\lib\\site-packages (from tensorboard<2.18,>=2.17->tensorflow-intel==2.17.0->tensorflow>=2.16.2->pykospacing==0.5) (3.4.1)\n",
      "Requirement already satisfied: tensorboard-data-server<0.8.0,>=0.7.0 in c:\\users\\wonta\\anaconda3\\lib\\site-packages (from tensorboard<2.18,>=2.17->tensorflow-intel==2.17.0->tensorflow>=2.16.2->pykospacing==0.5) (0.7.2)\n",
      "Requirement already satisfied: werkzeug>=1.0.1 in c:\\users\\wonta\\anaconda3\\lib\\site-packages (from tensorboard<2.18,>=2.17->tensorflow-intel==2.17.0->tensorflow>=2.16.2->pykospacing==0.5) (2.2.3)\n",
      "Requirement already satisfied: MarkupSafe>=2.1.1 in c:\\users\\wonta\\anaconda3\\lib\\site-packages (from werkzeug>=1.0.1->tensorboard<2.18,>=2.17->tensorflow-intel==2.17.0->tensorflow>=2.16.2->pykospacing==0.5) (2.1.3)\n",
      "Requirement already satisfied: markdown-it-py<3.0.0,>=2.2.0 in c:\\users\\wonta\\anaconda3\\lib\\site-packages (from rich->keras>=3.2.0->tensorflow-intel==2.17.0->tensorflow>=2.16.2->pykospacing==0.5) (2.2.0)\n",
      "Requirement already satisfied: pygments<3.0.0,>=2.13.0 in c:\\users\\wonta\\anaconda3\\lib\\site-packages (from rich->keras>=3.2.0->tensorflow-intel==2.17.0->tensorflow>=2.16.2->pykospacing==0.5) (2.15.1)\n",
      "Requirement already satisfied: mdurl~=0.1 in c:\\users\\wonta\\anaconda3\\lib\\site-packages (from markdown-it-py<3.0.0,>=2.2.0->rich->keras>=3.2.0->tensorflow-intel==2.17.0->tensorflow>=2.16.2->pykospacing==0.5) (0.1.0)\n",
      "Using cached argparse-1.4.0-py2.py3-none-any.whl (23 kB)\n",
      "Installing collected packages: argparse\n",
      "Successfully installed argparse-1.4.0\n"
     ]
    },
    {
     "name": "stderr",
     "output_type": "stream",
     "text": [
      "  Running command git clone --filter=blob:none --quiet https://github.com/haven-jeon/PyKoSpacing.git 'C:\\Users\\wonta\\AppData\\Local\\Temp\\pip-req-build-9j5d711p'\n",
      "\n",
      "[notice] A new release of pip is available: 24.0 -> 24.2\n",
      "[notice] To update, run: python.exe -m pip install --upgrade pip\n"
     ]
    }
   ],
   "source": [
    "# PyCoSpacing 패키지를 이용한 띄어쓰기 적용 : 설치 시간 소요(5분 34초)\n",
    "\n",
    "!pip install git+https://github.com/haven-jeon/PyKoSpacing.git"
   ]
  },
  {
   "cell_type": "code",
   "execution_count": 18,
   "metadata": {},
   "outputs": [
    {
     "name": "stdout",
     "output_type": "stream",
     "text": [
      "행복한 가정은 모두 비슷하게 닮았지만 불행한 가정은 저마다의 이유로 불행하다\n"
     ]
    }
   ],
   "source": [
    "from pykospacing import Spacing\n",
    "\n",
    "spacing = Spacing()\n",
    "new_sent = spacing(Non_Spaced_text)\n",
    "\n",
    "print(new_sent)"
   ]
  },
  {
   "cell_type": "code",
   "execution_count": 19,
   "metadata": {},
   "outputs": [],
   "source": [
    "# 임의로 띄어쓰기를 제거했던 문장이 다시 정확하게 띄어쓰기가 되어 있음을 확인했다. (240901)"
   ]
  },
  {
   "cell_type": "markdown",
   "metadata": {},
   "source": [
    "#### 한글 토큰화"
   ]
  },
  {
   "cell_type": "code",
   "execution_count": 20,
   "metadata": {},
   "outputs": [
    {
     "name": "stderr",
     "output_type": "stream",
     "text": [
      "ERROR: Invalid requirement: '#'\n",
      "\n",
      "[notice] A new release of pip is available: 24.0 -> 24.2\n",
      "[notice] To update, run: python.exe -m pip install --upgrade pip\n"
     ]
    }
   ],
   "source": [
    "!pip install kss  # 문장 단위 토큰화를 위한 모듈"
   ]
  },
  {
   "cell_type": "code",
   "execution_count": 21,
   "metadata": {},
   "outputs": [
    {
     "name": "stderr",
     "output_type": "stream",
     "text": [
      "[Kss]: Oh! You have mecab in your environment. Kss will take this as a backend! :D\n",
      "\n"
     ]
    },
    {
     "name": "stdout",
     "output_type": "stream",
     "text": [
      "['행복한 가정은 모두 비슷하게 닮았지만 불행한 가정은 저마다의 이유로 불행하다']\n"
     ]
    }
   ],
   "source": [
    "import kss\n",
    "\n",
    "sent_tokens = kss.split_sentences(Cleaned_text)\n",
    "print(sent_tokens)    # 한 문장만으로 구성된 Corpus를 이용했으므로 결과는 그대로 출력된다. (여러 문장으로 구성된 예시문으로 변경해보자.)\n",
    "\n",
    "# 마침표 [.]를 삭제해버리면 문장 단위 토큰화가 진행되지 않는다.\n",
    "# 단순히 마침표만 찾아내는 기능인가? (이해 안됨)"
   ]
  },
  {
   "cell_type": "markdown",
   "metadata": {},
   "source": [
    "#### 어절 단위 토큰화(space)\n"
   ]
  },
  {
   "cell_type": "code",
   "execution_count": 22,
   "metadata": {},
   "outputs": [
    {
     "name": "stdout",
     "output_type": "stream",
     "text": [
      "['행복한', '가정은', '모두', '비슷하게', '닮았지만', '불행한', '가정은', '저마다의', '이유로', '불행하다']\n"
     ]
    }
   ],
   "source": [
    "def tokenizer(words):\n",
    "    tokens = words.split()   # 스페이스 공백 단위로 분할해서 리스트로 반환\n",
    "    return tokens\n",
    "\n",
    "tokens = tokenizer(Cleaned_text)\n",
    "print(tokens)"
   ]
  },
  {
   "cell_type": "markdown",
   "metadata": {},
   "source": [
    "#### 한글 불용어 제거 과정"
   ]
  },
  {
   "cell_type": "code",
   "execution_count": 23,
   "metadata": {},
   "outputs": [
    {
     "name": "stdout",
     "output_type": "stream",
     "text": [
      "  stopword\n",
      "0      가정은\n",
      "1      불행한\n",
      "2     비슷하게\n"
     ]
    }
   ],
   "source": [
    "# 한글 불용어 사전을 미리 작성하여 Stopword_dict.csv 로 저장함\n",
    "\n",
    "import pandas as pd\n",
    "\n",
    "stop = pd.read_csv('Stopword_dict.csv')\n",
    "print(stop[:10])\n"
   ]
  },
  {
   "cell_type": "code",
   "execution_count": 24,
   "metadata": {},
   "outputs": [
    {
     "name": "stdout",
     "output_type": "stream",
     "text": [
      "['가정은', '불행한', '비슷하게']\n"
     ]
    }
   ],
   "source": [
    "# 데이터프레임을 리스트로 변환하는 방법\n",
    "\n",
    "print(stop['stopword'].tolist())"
   ]
  },
  {
   "cell_type": "code",
   "execution_count": 25,
   "metadata": {},
   "outputs": [
    {
     "name": "stdout",
     "output_type": "stream",
     "text": [
      "['행복한', '모두', '닮았지만', '저마다의', '이유로', '불행하다']\n"
     ]
    }
   ],
   "source": [
    "# 로드한 불용어 사전을 적용하며느\n",
    "\n",
    "tokens = [token for token in tokens if token not in stop.stopword.tolist()]\n",
    "print(tokens)"
   ]
  },
  {
   "cell_type": "code",
   "execution_count": 26,
   "metadata": {},
   "outputs": [],
   "source": [
    "# 불용어 사전에 미리 정의된 리스트 항목들 (가정은, 불행한, 비슷하게)이 제외된 것을 확인 (240901)"
   ]
  },
  {
   "cell_type": "markdown",
   "metadata": {},
   "source": [
    "#### 영문, 한글 형태소 분석을 위한 전처리 (240908)\n",
    "- 형태소 분석을 위한 전처리 수행 : 특수문자 제거 -> 토큰화 -> 불용어 제거 -> 소문자화\n"
   ]
  },
  {
   "cell_type": "code",
   "execution_count": 60,
   "metadata": {},
   "outputs": [
    {
     "data": {
      "text/plain": [
       "['all',\n",
       " 'happy',\n",
       " 'families',\n",
       " 'resemble',\n",
       " 'one',\n",
       " 'another',\n",
       " 'unhappy',\n",
       " 'family',\n",
       " 'unhappy',\n",
       " 'way']"
      ]
     },
     "execution_count": 60,
     "metadata": {},
     "output_type": "execute_result"
    }
   ],
   "source": [
    "tokens # 전처리가 완료된 "
   ]
  },
  {
   "cell_type": "code",
   "execution_count": 61,
   "metadata": {},
   "outputs": [
    {
     "data": {
      "text/plain": [
       "['family',\n",
       " 'way',\n",
       " 'all',\n",
       " 'another',\n",
       " 'unhappy',\n",
       " 'happy',\n",
       " 'families',\n",
       " 'one',\n",
       " 'resemble']"
      ]
     },
     "execution_count": 61,
     "metadata": {},
     "output_type": "execute_result"
    }
   ],
   "source": [
    "list(set(tokens))"
   ]
  },
  {
   "cell_type": "code",
   "execution_count": 13,
   "metadata": {},
   "outputs": [],
   "source": [
    "# 자연어 처리를 위한 NLTK\n",
    "\n",
    "\n",
    "from nltk import pos_tag"
   ]
  },
  {
   "cell_type": "code",
   "execution_count": 14,
   "metadata": {},
   "outputs": [
    {
     "name": "stderr",
     "output_type": "stream",
     "text": [
      "[nltk_data] Downloading package averaged_perceptron_tagger to\n",
      "[nltk_data]     C:\\Users\\wonta\\AppData\\Roaming\\nltk_data...\n",
      "[nltk_data]   Package averaged_perceptron_tagger is already up-to-\n",
      "[nltk_data]       date!\n",
      "[nltk_data] Downloading package punkt to\n",
      "[nltk_data]     C:\\Users\\wonta\\AppData\\Roaming\\nltk_data...\n",
      "[nltk_data]   Package punkt is already up-to-date!\n"
     ]
    },
    {
     "data": {
      "text/plain": [
       "True"
      ]
     },
     "execution_count": 14,
     "metadata": {},
     "output_type": "execute_result"
    }
   ],
   "source": [
    "# 참고 :https://wikidocs.net/127850\n",
    "\n",
    "\n",
    "# 형태소 분석기 다운로드 (240908)\n",
    "import nltk\n",
    "nltk.download('averaged_perceptron_tagger') \n",
    "nltk.download('punkt')"
   ]
  },
  {
   "cell_type": "code",
   "execution_count": 67,
   "metadata": {},
   "outputs": [],
   "source": [
    "# 형태소 분석\n",
    "\n",
    "tagged_list = pos_tag(list(set(tokens)))   # set : 중복된 단어들을 제거 / 데이터 타입"
   ]
  },
  {
   "cell_type": "code",
   "execution_count": 68,
   "metadata": {},
   "outputs": [
    {
     "name": "stdout",
     "output_type": "stream",
     "text": [
      "[('family', 'NN'), ('way', 'NN'), ('all', 'DT'), ('another', 'DT'), ('unhappy', 'JJ'), ('happy', 'JJ'), ('families', 'NNS'), ('one', 'CD'), ('resemble', 'NN')]\n"
     ]
    }
   ],
   "source": [
    "print(tagged_list)"
   ]
  },
  {
   "cell_type": "code",
   "execution_count": null,
   "metadata": {},
   "outputs": [],
   "source": [
    "# (단어, 형태소) 의 형태로 형태소 분석 결과를 출력해준다 (240908)"
   ]
  },
  {
   "cell_type": "markdown",
   "metadata": {},
   "source": [
    "#### KoalaNLP 패키지 : 형태소 분석 사전 활용 (240908)\n",
    "- 신조어 형태소 분석 방법 : KoalaNLP 패키지 활용\n",
    "- 두 개 이상의 명사가 합성된 합성 명사의 사례\n",
    "- 새로운 형태의 단어가 생겨났을 경우, 형태소 분석을 어떻게 할 수 있는가?\n",
    "\n",
    "- 다양한 형태의 형태소 분석 방법 활용 :  SoyNLP, ETRI 형태소 분석 -> Open API 활용\n",
    "- 형태소 분석기 사전 활용 : 신조어나 도메인 특화 용어를 형태소 분석기 사전에 등록\n",
    "- 모델 학습을 통해 신조어나 도메인 특화 용어 학습"
   ]
  },
  {
   "cell_type": "code",
   "execution_count": 69,
   "metadata": {},
   "outputs": [
    {
     "name": "stdout",
     "output_type": "stream",
     "text": [
      "Collecting koalanlp\n",
      "  Downloading koalanlp-2.1.7-py3-none-any.whl.metadata (19 kB)\n",
      "Collecting py4j~=0.10 (from koalanlp)\n",
      "  Downloading py4j-0.10.9.7-py2.py3-none-any.whl.metadata (1.5 kB)\n",
      "Requirement already satisfied: requests~=2.22 in c:\\users\\wonta\\anaconda3\\lib\\site-packages (from koalanlp) (2.31.0)\n",
      "Collecting kss~=2.5.1 (from koalanlp)\n",
      "  Downloading kss-2.5.1-py3-none-any.whl.metadata (9.3 kB)\n",
      "Requirement already satisfied: charset-normalizer<4,>=2 in c:\\users\\wonta\\anaconda3\\lib\\site-packages (from requests~=2.22->koalanlp) (2.0.4)\n",
      "Requirement already satisfied: idna<4,>=2.5 in c:\\users\\wonta\\anaconda3\\lib\\site-packages (from requests~=2.22->koalanlp) (3.4)\n",
      "Requirement already satisfied: urllib3<3,>=1.21.1 in c:\\users\\wonta\\anaconda3\\lib\\site-packages (from requests~=2.22->koalanlp) (2.0.7)\n",
      "Requirement already satisfied: certifi>=2017.4.17 in c:\\users\\wonta\\anaconda3\\lib\\site-packages (from requests~=2.22->koalanlp) (2024.2.2)\n",
      "Downloading koalanlp-2.1.7-py3-none-any.whl (51 kB)\n",
      "   ---------------------------------------- 0.0/51.3 kB ? eta -:--:--\n",
      "   ---------------------------------------- 51.3/51.3 kB 1.3 MB/s eta 0:00:00\n",
      "Downloading kss-2.5.1-py3-none-any.whl (65 kB)\n",
      "   ---------------------------------------- 0.0/66.0 kB ? eta -:--:--\n",
      "   ------------------ --------------------- 30.7/66.0 kB ? eta -:--:--\n",
      "   ---------------------------------------- 66.0/66.0 kB 1.7 MB/s eta 0:00:00\n",
      "Downloading py4j-0.10.9.7-py2.py3-none-any.whl (200 kB)\n",
      "   ---------------------------------------- 0.0/200.5 kB ? eta -:--:--\n",
      "   -------- ------------------------------- 41.0/200.5 kB 1.9 MB/s eta 0:00:01\n",
      "   ------------------------ --------------- 122.9/200.5 kB 1.4 MB/s eta 0:00:01\n",
      "   ---------------------------------- ----- 174.1/200.5 kB 1.3 MB/s eta 0:00:01\n",
      "   ---------------------------------------- 200.5/200.5 kB 1.1 MB/s eta 0:00:00\n",
      "Installing collected packages: py4j, kss, koalanlp\n",
      "  Attempting uninstall: kss\n",
      "    Found existing installation: kss 6.0.4\n",
      "    Uninstalling kss-6.0.4:\n",
      "      Successfully uninstalled kss-6.0.4\n",
      "Successfully installed koalanlp-2.1.7 kss-2.5.1 py4j-0.10.9.7\n"
     ]
    },
    {
     "name": "stderr",
     "output_type": "stream",
     "text": [
      "\n",
      "[notice] A new release of pip is available: 24.0 -> 24.2\n",
      "[notice] To update, run: python.exe -m pip install --upgrade pip\n"
     ]
    }
   ],
   "source": [
    "# 한국어 형태소 및 구문 분석기 모음\n",
    "# KoNLPy, ETRI 형태소 분석, OenAPI, Khaiii, Kiwi 등\n",
    "\n",
    "!pip install koalanlp"
   ]
  },
  {
   "cell_type": "code",
   "execution_count": 1,
   "metadata": {},
   "outputs": [],
   "source": [
    "# KoalaNLP 지원 분석기 패키지 목록 참조\n",
    "# https://wikidocs.net/127850\n",
    "\n",
    "# 형태소 분석기 사용\n",
    "# import > initialize > 형태소 분석 > finalize\n",
    "\n",
    "# 신조어를 포함한 한글 예제\n",
    "\n",
    "text = \"\"\"최근 정부 주도 디지털뉴딜 사업인 확장현실(XR) 메타버스 프로젝트는 증강현실(AR) 플랫폼 분야의 주도 기업이 추진할 것으로 예상된다.\"\"\""
   ]
  },
  {
   "cell_type": "code",
   "execution_count": 31,
   "metadata": {},
   "outputs": [],
   "source": [
    "# 파이썬에서 사용하기 위한 모듈, 클래스, 함수 import\n",
    "from koalanlp.Util import initialize, finalize\n",
    "from koalanlp.proc import *\n",
    "from koalanlp import API "
   ]
  },
  {
   "cell_type": "code",
   "execution_count": 32,
   "metadata": {},
   "outputs": [
    {
     "ename": "Exception",
     "evalue": "JVM cannot be initialized more than once.Please call koalanlp.Util.finalize() when you want to re-init the JVM with other options.",
     "output_type": "error",
     "traceback": [
      "\u001b[1;31m---------------------------------------------------------------------------\u001b[0m",
      "\u001b[1;31mException\u001b[0m                                 Traceback (most recent call last)",
      "Cell \u001b[1;32mIn[32], line 4\u001b[0m\n\u001b[0;32m      1\u001b[0m \u001b[38;5;66;03m# 다운로드 및 자원 설정 초기화\u001b[39;00m\n\u001b[0;32m      2\u001b[0m \u001b[38;5;66;03m# https://koalanlp.github.io/koalanlp/usage/installation.html\u001b[39;00m\n\u001b[1;32m----> 4\u001b[0m initialize(java_options\u001b[38;5;241m=\u001b[39m\u001b[38;5;124m\"\u001b[39m\u001b[38;5;124m-Xmx4g -Dfile.encoding=utf-8\u001b[39m\u001b[38;5;124m\"\u001b[39m, EUNJEON\u001b[38;5;241m=\u001b[39m\u001b[38;5;124m\"\u001b[39m\u001b[38;5;124m2.0.4\u001b[39m\u001b[38;5;124m\"\u001b[39m, ETRI\u001b[38;5;241m=\u001b[39m\u001b[38;5;124m\"\u001b[39m\u001b[38;5;124m2.0.4\u001b[39m\u001b[38;5;124m\"\u001b[39m)\n",
      "File \u001b[1;32mc:\\Users\\wonta\\anaconda3\\Lib\\site-packages\\koalanlp\\Util.py:199\u001b[0m, in \u001b[0;36minitialize\u001b[1;34m(java_options, lib_path, force_download, port, **packages)\u001b[0m\n\u001b[0;32m    197\u001b[0m     logger\u001b[38;5;241m.\u001b[39minfo(\u001b[38;5;124m\"\u001b[39m\u001b[38;5;124mJVM initialization procedure is completed.\u001b[39m\u001b[38;5;124m\"\u001b[39m)\n\u001b[0;32m    198\u001b[0m \u001b[38;5;28;01melse\u001b[39;00m:\n\u001b[1;32m--> 199\u001b[0m     \u001b[38;5;28;01mraise\u001b[39;00m \u001b[38;5;167;01mException\u001b[39;00m(\u001b[38;5;124m\"\u001b[39m\u001b[38;5;124mJVM cannot be initialized more than once.\u001b[39m\u001b[38;5;124m\"\u001b[39m\n\u001b[0;32m    200\u001b[0m                     \u001b[38;5;124m\"\u001b[39m\u001b[38;5;124mPlease call koalanlp.Util.finalize() when you want to re-init the JVM with other options.\u001b[39m\u001b[38;5;124m\"\u001b[39m)\n",
      "\u001b[1;31mException\u001b[0m: JVM cannot be initialized more than once.Please call koalanlp.Util.finalize() when you want to re-init the JVM with other options."
     ]
    }
   ],
   "source": [
    "# 다운로드 및 자원 설정 초기화\n",
    "# https://koalanlp.github.io/koalanlp/usage/installation.html\n",
    "\n",
    "initialize(java_options=\"-Xmx4g -Dfile.encoding=utf-8\", EUNJEON=\"2.0.4\", ETRI=\"2.0.4\")\n",
    "#initialize(java_options=\"-Xmx4g\", KKMA=\"2.0.4\", ETRI=\"2.0.4\")\n",
    "#initialize(java_options=\"-Xmx4g -Dfile.encoding=utf-8\", KKMA=\"2.0.2\", EUNJEON=\"2.0.2\", ETRI=\"2.0.2\")\n",
    "\n",
    "\n",
    "# 에러 발생 대처 방법 (240908)\n",
    "# https://github.com/koalanlp/koalanlp/issues/32"
   ]
  },
  {
   "cell_type": "code",
   "execution_count": 33,
   "metadata": {},
   "outputs": [],
   "source": [
    "# 형태소 분석을 위한 코퍼스(Corpus)\n",
    "\n",
    "tagger = Tagger(API.EUNJEON)"
   ]
  },
  {
   "cell_type": "code",
   "execution_count": 34,
   "metadata": {},
   "outputs": [
    {
     "ename": "Py4JError",
     "evalue": "An error occurred while calling o229.hasNext. Trace:\njava.lang.reflect.InaccessibleObjectException: Unable to make public boolean java.util.ArrayList$Itr.hasNext() accessible: module java.base does not \"opens java.util\" to unnamed module @4421575e\r\n\tat java.base/java.lang.reflect.AccessibleObject.throwInaccessibleObjectException(AccessibleObject.java:388)\r\n\tat java.base/java.lang.reflect.AccessibleObject.checkCanSetAccessible(AccessibleObject.java:364)\r\n\tat java.base/java.lang.reflect.AccessibleObject.checkCanSetAccessible(AccessibleObject.java:312)\r\n\tat java.base/java.lang.reflect.Method.checkCanSetAccessible(Method.java:203)\r\n\tat java.base/java.lang.reflect.Method.setAccessible(Method.java:197)\r\n\tat py4j.reflection.MethodInvoker$1.run(MethodInvoker.java:240)\r\n\tat java.base/java.security.AccessController.doPrivileged(AccessController.java:319)\r\n\tat py4j.reflection.MethodInvoker.invoke(MethodInvoker.java:238)\r\n\tat py4j.reflection.ReflectionEngine.invoke(ReflectionEngine.java:357)\r\n\tat py4j.Gateway.invoke(Gateway.java:282)\r\n\tat py4j.commands.AbstractCommand.invokeMethod(AbstractCommand.java:132)\r\n\tat py4j.commands.CallCommand.execute(CallCommand.java:79)\r\n\tat py4j.GatewayConnection.run(GatewayConnection.java:238)\r\n\tat java.base/java.lang.Thread.run(Thread.java:1570)\r\n\n",
     "output_type": "error",
     "traceback": [
      "\u001b[1;31m---------------------------------------------------------------------------\u001b[0m",
      "\u001b[1;31mPy4JError\u001b[0m                                 Traceback (most recent call last)",
      "Cell \u001b[1;32mIn[34], line 1\u001b[0m\n\u001b[1;32m----> 1\u001b[0m tagged \u001b[38;5;241m=\u001b[39m tagger\u001b[38;5;241m.\u001b[39mtag(text)\n",
      "File \u001b[1;32mc:\\Users\\wonta\\anaconda3\\Lib\\site-packages\\koalanlp\\proc.py:146\u001b[0m, in \u001b[0;36mTagger.tag\u001b[1;34m(self, *text)\u001b[0m\n\u001b[0;32m    144\u001b[0m \u001b[38;5;28;01melse\u001b[39;00m:\n\u001b[0;32m    145\u001b[0m     \u001b[38;5;28;01mtry\u001b[39;00m:\n\u001b[1;32m--> 146\u001b[0m         result \u001b[38;5;241m+\u001b[39m\u001b[38;5;241m=\u001b[39m py_list(\u001b[38;5;28mself\u001b[39m\u001b[38;5;241m.\u001b[39m__api\u001b[38;5;241m.\u001b[39mtag(string(paragraph)), item_converter\u001b[38;5;241m=\u001b[39mSentence\u001b[38;5;241m.\u001b[39mfromJava)\n\u001b[0;32m    147\u001b[0m     \u001b[38;5;28;01mexcept\u001b[39;00m JavaError \u001b[38;5;28;01mas\u001b[39;00m e:\n\u001b[0;32m    148\u001b[0m         error_handler(e)\n",
      "File \u001b[1;32mc:\\Users\\wonta\\anaconda3\\Lib\\site-packages\\koalanlp\\jvm.py:119\u001b[0m, in \u001b[0;36mpy_list\u001b[1;34m(result, item_converter)\u001b[0m\n\u001b[0;32m    116\u001b[0m items \u001b[38;5;241m=\u001b[39m []\n\u001b[0;32m    118\u001b[0m it \u001b[38;5;241m=\u001b[39m result\u001b[38;5;241m.\u001b[39miterator()\n\u001b[1;32m--> 119\u001b[0m \u001b[38;5;28;01mwhile\u001b[39;00m it\u001b[38;5;241m.\u001b[39mhasNext():\n\u001b[0;32m    120\u001b[0m     items\u001b[38;5;241m.\u001b[39mappend(it\u001b[38;5;241m.\u001b[39mnext())\n\u001b[0;32m    122\u001b[0m result \u001b[38;5;241m=\u001b[39m items\n",
      "File \u001b[1;32mc:\\Users\\wonta\\anaconda3\\Lib\\site-packages\\py4j\\java_gateway.py:1322\u001b[0m, in \u001b[0;36mJavaMember.__call__\u001b[1;34m(self, *args)\u001b[0m\n\u001b[0;32m   1316\u001b[0m command \u001b[38;5;241m=\u001b[39m proto\u001b[38;5;241m.\u001b[39mCALL_COMMAND_NAME \u001b[38;5;241m+\u001b[39m\\\n\u001b[0;32m   1317\u001b[0m     \u001b[38;5;28mself\u001b[39m\u001b[38;5;241m.\u001b[39mcommand_header \u001b[38;5;241m+\u001b[39m\\\n\u001b[0;32m   1318\u001b[0m     args_command \u001b[38;5;241m+\u001b[39m\\\n\u001b[0;32m   1319\u001b[0m     proto\u001b[38;5;241m.\u001b[39mEND_COMMAND_PART\n\u001b[0;32m   1321\u001b[0m answer \u001b[38;5;241m=\u001b[39m \u001b[38;5;28mself\u001b[39m\u001b[38;5;241m.\u001b[39mgateway_client\u001b[38;5;241m.\u001b[39msend_command(command)\n\u001b[1;32m-> 1322\u001b[0m return_value \u001b[38;5;241m=\u001b[39m get_return_value(\n\u001b[0;32m   1323\u001b[0m     answer, \u001b[38;5;28mself\u001b[39m\u001b[38;5;241m.\u001b[39mgateway_client, \u001b[38;5;28mself\u001b[39m\u001b[38;5;241m.\u001b[39mtarget_id, \u001b[38;5;28mself\u001b[39m\u001b[38;5;241m.\u001b[39mname)\n\u001b[0;32m   1325\u001b[0m \u001b[38;5;28;01mfor\u001b[39;00m temp_arg \u001b[38;5;129;01min\u001b[39;00m temp_args:\n\u001b[0;32m   1326\u001b[0m     \u001b[38;5;28;01mif\u001b[39;00m \u001b[38;5;28mhasattr\u001b[39m(temp_arg, \u001b[38;5;124m\"\u001b[39m\u001b[38;5;124m_detach\u001b[39m\u001b[38;5;124m\"\u001b[39m):\n",
      "File \u001b[1;32mc:\\Users\\wonta\\anaconda3\\Lib\\site-packages\\py4j\\protocol.py:330\u001b[0m, in \u001b[0;36mget_return_value\u001b[1;34m(answer, gateway_client, target_id, name)\u001b[0m\n\u001b[0;32m    326\u001b[0m         \u001b[38;5;28;01mraise\u001b[39;00m Py4JJavaError(\n\u001b[0;32m    327\u001b[0m             \u001b[38;5;124m\"\u001b[39m\u001b[38;5;124mAn error occurred while calling \u001b[39m\u001b[38;5;132;01m{0}\u001b[39;00m\u001b[38;5;132;01m{1}\u001b[39;00m\u001b[38;5;132;01m{2}\u001b[39;00m\u001b[38;5;124m.\u001b[39m\u001b[38;5;130;01m\\n\u001b[39;00m\u001b[38;5;124m\"\u001b[39m\u001b[38;5;241m.\u001b[39m\n\u001b[0;32m    328\u001b[0m             \u001b[38;5;28mformat\u001b[39m(target_id, \u001b[38;5;124m\"\u001b[39m\u001b[38;5;124m.\u001b[39m\u001b[38;5;124m\"\u001b[39m, name), value)\n\u001b[0;32m    329\u001b[0m     \u001b[38;5;28;01melse\u001b[39;00m:\n\u001b[1;32m--> 330\u001b[0m         \u001b[38;5;28;01mraise\u001b[39;00m Py4JError(\n\u001b[0;32m    331\u001b[0m             \u001b[38;5;124m\"\u001b[39m\u001b[38;5;124mAn error occurred while calling \u001b[39m\u001b[38;5;132;01m{0}\u001b[39;00m\u001b[38;5;132;01m{1}\u001b[39;00m\u001b[38;5;132;01m{2}\u001b[39;00m\u001b[38;5;124m. Trace:\u001b[39m\u001b[38;5;130;01m\\n\u001b[39;00m\u001b[38;5;132;01m{3}\u001b[39;00m\u001b[38;5;130;01m\\n\u001b[39;00m\u001b[38;5;124m\"\u001b[39m\u001b[38;5;241m.\u001b[39m\n\u001b[0;32m    332\u001b[0m             \u001b[38;5;28mformat\u001b[39m(target_id, \u001b[38;5;124m\"\u001b[39m\u001b[38;5;124m.\u001b[39m\u001b[38;5;124m\"\u001b[39m, name, value))\n\u001b[0;32m    333\u001b[0m \u001b[38;5;28;01melse\u001b[39;00m:\n\u001b[0;32m    334\u001b[0m     \u001b[38;5;28;01mraise\u001b[39;00m Py4JError(\n\u001b[0;32m    335\u001b[0m         \u001b[38;5;124m\"\u001b[39m\u001b[38;5;124mAn error occurred while calling \u001b[39m\u001b[38;5;132;01m{0}\u001b[39;00m\u001b[38;5;132;01m{1}\u001b[39;00m\u001b[38;5;132;01m{2}\u001b[39;00m\u001b[38;5;124m\"\u001b[39m\u001b[38;5;241m.\u001b[39m\n\u001b[0;32m    336\u001b[0m         \u001b[38;5;28mformat\u001b[39m(target_id, \u001b[38;5;124m\"\u001b[39m\u001b[38;5;124m.\u001b[39m\u001b[38;5;124m\"\u001b[39m, name))\n",
      "\u001b[1;31mPy4JError\u001b[0m: An error occurred while calling o229.hasNext. Trace:\njava.lang.reflect.InaccessibleObjectException: Unable to make public boolean java.util.ArrayList$Itr.hasNext() accessible: module java.base does not \"opens java.util\" to unnamed module @4421575e\r\n\tat java.base/java.lang.reflect.AccessibleObject.throwInaccessibleObjectException(AccessibleObject.java:388)\r\n\tat java.base/java.lang.reflect.AccessibleObject.checkCanSetAccessible(AccessibleObject.java:364)\r\n\tat java.base/java.lang.reflect.AccessibleObject.checkCanSetAccessible(AccessibleObject.java:312)\r\n\tat java.base/java.lang.reflect.Method.checkCanSetAccessible(Method.java:203)\r\n\tat java.base/java.lang.reflect.Method.setAccessible(Method.java:197)\r\n\tat py4j.reflection.MethodInvoker$1.run(MethodInvoker.java:240)\r\n\tat java.base/java.security.AccessController.doPrivileged(AccessController.java:319)\r\n\tat py4j.reflection.MethodInvoker.invoke(MethodInvoker.java:238)\r\n\tat py4j.reflection.ReflectionEngine.invoke(ReflectionEngine.java:357)\r\n\tat py4j.Gateway.invoke(Gateway.java:282)\r\n\tat py4j.commands.AbstractCommand.invokeMethod(AbstractCommand.java:132)\r\n\tat py4j.commands.CallCommand.execute(CallCommand.java:79)\r\n\tat py4j.GatewayConnection.run(GatewayConnection.java:238)\r\n\tat java.base/java.lang.Thread.run(Thread.java:1570)\r\n\n"
     ]
    }
   ],
   "source": [
    "tagged = tagger.tag(text)"
   ]
  },
  {
   "cell_type": "code",
   "execution_count": null,
   "metadata": {},
   "outputs": [],
   "source": [
    "# ETRI 사용\n",
    "\n",
    "tagger = Tagger(API.ETRI, etri_key ='발급받은 키 입력')\n",
    "\n",
    "tagged = tagger.tag(text)\n",
    "\n",
    "print(tagged[0].singleLineString())"
   ]
  },
  {
   "cell_type": "code",
   "execution_count": null,
   "metadata": {},
   "outputs": [],
   "source": [
    "print(tagged[0].singleLineString())"
   ]
  },
  {
   "cell_type": "code",
   "execution_count": 36,
   "metadata": {},
   "outputs": [
    {
     "name": "stdout",
     "output_type": "stream",
     "text": [
      "Collecting konlpy\n",
      "  Downloading konlpy-0.6.0-py2.py3-none-any.whl.metadata (1.9 kB)\n",
      "Collecting JPype1>=0.7.0 (from konlpy)\n",
      "  Downloading JPype1-1.5.0-cp311-cp311-win_amd64.whl.metadata (5.0 kB)\n",
      "Requirement already satisfied: lxml>=4.1.0 in c:\\users\\wonta\\anaconda3\\lib\\site-packages (from konlpy) (4.9.3)\n",
      "Requirement already satisfied: numpy>=1.6 in c:\\users\\wonta\\anaconda3\\lib\\site-packages (from konlpy) (1.26.4)\n",
      "Requirement already satisfied: packaging in c:\\users\\wonta\\anaconda3\\lib\\site-packages (from JPype1>=0.7.0->konlpy) (23.1)\n",
      "Downloading konlpy-0.6.0-py2.py3-none-any.whl (19.4 MB)\n",
      "   ---------------------------------------- 0.0/19.4 MB ? eta -:--:--\n",
      "   ---------------------------------------- 0.0/19.4 MB 640.0 kB/s eta 0:00:31\n",
      "   ---------------------------------------- 0.1/19.4 MB 1.3 MB/s eta 0:00:15\n",
      "   ---------------------------------------- 0.2/19.4 MB 2.0 MB/s eta 0:00:10\n",
      "    --------------------------------------- 0.3/19.4 MB 1.7 MB/s eta 0:00:12\n",
      "    --------------------------------------- 0.3/19.4 MB 1.7 MB/s eta 0:00:12\n",
      "    --------------------------------------- 0.3/19.4 MB 1.7 MB/s eta 0:00:12\n",
      "    --------------------------------------- 0.3/19.4 MB 1.1 MB/s eta 0:00:17\n",
      "    --------------------------------------- 0.4/19.4 MB 1.2 MB/s eta 0:00:17\n",
      "   - -------------------------------------- 0.5/19.4 MB 1.3 MB/s eta 0:00:16\n",
      "   - -------------------------------------- 0.6/19.4 MB 1.3 MB/s eta 0:00:15\n",
      "   - -------------------------------------- 0.7/19.4 MB 1.4 MB/s eta 0:00:14\n",
      "   - -------------------------------------- 0.7/19.4 MB 1.4 MB/s eta 0:00:14\n",
      "   - -------------------------------------- 0.7/19.4 MB 1.4 MB/s eta 0:00:14\n",
      "   - -------------------------------------- 0.7/19.4 MB 1.4 MB/s eta 0:00:14\n",
      "   - -------------------------------------- 0.7/19.4 MB 1.4 MB/s eta 0:00:14\n",
      "   - -------------------------------------- 0.7/19.4 MB 1.4 MB/s eta 0:00:14\n",
      "   - -------------------------------------- 0.7/19.4 MB 1.4 MB/s eta 0:00:14\n",
      "   - -------------------------------------- 0.8/19.4 MB 950.8 kB/s eta 0:00:20\n",
      "   - -------------------------------------- 0.8/19.4 MB 927.5 kB/s eta 0:00:21\n",
      "   - -------------------------------------- 0.8/19.4 MB 907.9 kB/s eta 0:00:21\n",
      "   - -------------------------------------- 0.9/19.4 MB 966.2 kB/s eta 0:00:20\n",
      "   - -------------------------------------- 0.9/19.4 MB 967.1 kB/s eta 0:00:20\n",
      "   -- ------------------------------------- 1.0/19.4 MB 997.8 kB/s eta 0:00:19\n",
      "   -- ------------------------------------- 1.1/19.4 MB 1.1 MB/s eta 0:00:18\n",
      "   -- ------------------------------------- 1.2/19.4 MB 1.0 MB/s eta 0:00:18\n",
      "   -- ------------------------------------- 1.2/19.4 MB 1.1 MB/s eta 0:00:18\n",
      "   -- ------------------------------------- 1.3/19.4 MB 1.1 MB/s eta 0:00:17\n",
      "   -- ------------------------------------- 1.4/19.4 MB 1.1 MB/s eta 0:00:16\n",
      "   --- ------------------------------------ 1.5/19.4 MB 1.2 MB/s eta 0:00:16\n",
      "   --- ------------------------------------ 1.6/19.4 MB 1.2 MB/s eta 0:00:15\n",
      "   --- ------------------------------------ 1.7/19.4 MB 1.2 MB/s eta 0:00:15\n",
      "   --- ------------------------------------ 1.8/19.4 MB 1.2 MB/s eta 0:00:15\n",
      "   --- ------------------------------------ 1.9/19.4 MB 1.3 MB/s eta 0:00:14\n",
      "   ---- ----------------------------------- 2.0/19.4 MB 1.3 MB/s eta 0:00:14\n",
      "   ---- ----------------------------------- 2.1/19.4 MB 1.3 MB/s eta 0:00:14\n",
      "   ---- ----------------------------------- 2.1/19.4 MB 1.3 MB/s eta 0:00:13\n",
      "   ---- ----------------------------------- 2.1/19.4 MB 1.3 MB/s eta 0:00:13\n",
      "   ---- ----------------------------------- 2.1/19.4 MB 1.3 MB/s eta 0:00:13\n",
      "   ---- ----------------------------------- 2.1/19.4 MB 1.3 MB/s eta 0:00:13\n",
      "   ---- ----------------------------------- 2.1/19.4 MB 1.3 MB/s eta 0:00:13\n",
      "   ---- ----------------------------------- 2.2/19.4 MB 1.2 MB/s eta 0:00:15\n",
      "   ---- ----------------------------------- 2.2/19.4 MB 1.2 MB/s eta 0:00:15\n",
      "   ---- ----------------------------------- 2.3/19.4 MB 1.2 MB/s eta 0:00:15\n",
      "   ---- ----------------------------------- 2.3/19.4 MB 1.2 MB/s eta 0:00:15\n",
      "   ---- ----------------------------------- 2.4/19.4 MB 1.2 MB/s eta 0:00:15\n",
      "   ----- ---------------------------------- 2.5/19.4 MB 1.2 MB/s eta 0:00:15\n",
      "   ----- ---------------------------------- 2.6/19.4 MB 1.2 MB/s eta 0:00:14\n",
      "   ----- ---------------------------------- 2.7/19.4 MB 1.2 MB/s eta 0:00:14\n",
      "   ----- ---------------------------------- 2.7/19.4 MB 1.2 MB/s eta 0:00:14\n",
      "   ----- ---------------------------------- 2.8/19.4 MB 1.3 MB/s eta 0:00:14\n",
      "   ----- ---------------------------------- 2.9/19.4 MB 1.3 MB/s eta 0:00:14\n",
      "   ------ --------------------------------- 3.0/19.4 MB 1.3 MB/s eta 0:00:14\n",
      "   ------ --------------------------------- 3.0/19.4 MB 1.3 MB/s eta 0:00:13\n",
      "   ------ --------------------------------- 3.1/19.4 MB 1.3 MB/s eta 0:00:13\n",
      "   ------ --------------------------------- 3.2/19.4 MB 1.3 MB/s eta 0:00:13\n",
      "   ------ --------------------------------- 3.3/19.4 MB 1.3 MB/s eta 0:00:13\n",
      "   ------ --------------------------------- 3.4/19.4 MB 1.3 MB/s eta 0:00:13\n",
      "   ------- -------------------------------- 3.5/19.4 MB 1.3 MB/s eta 0:00:13\n",
      "   ------- -------------------------------- 3.6/19.4 MB 1.3 MB/s eta 0:00:12\n",
      "   ------- -------------------------------- 3.6/19.4 MB 1.3 MB/s eta 0:00:12\n",
      "   ------- -------------------------------- 3.7/19.4 MB 1.3 MB/s eta 0:00:12\n",
      "   ------- -------------------------------- 3.8/19.4 MB 1.3 MB/s eta 0:00:12\n",
      "   ------- -------------------------------- 3.9/19.4 MB 1.3 MB/s eta 0:00:12\n",
      "   -------- ------------------------------- 4.0/19.4 MB 1.4 MB/s eta 0:00:12\n",
      "   -------- ------------------------------- 4.1/19.4 MB 1.4 MB/s eta 0:00:12\n",
      "   -------- ------------------------------- 4.1/19.4 MB 1.4 MB/s eta 0:00:12\n",
      "   -------- ------------------------------- 4.2/19.4 MB 1.4 MB/s eta 0:00:12\n",
      "   -------- ------------------------------- 4.4/19.4 MB 1.4 MB/s eta 0:00:11\n",
      "   --------- ------------------------------ 4.5/19.4 MB 1.4 MB/s eta 0:00:11\n",
      "   --------- ------------------------------ 4.5/19.4 MB 1.4 MB/s eta 0:00:11\n",
      "   --------- ------------------------------ 4.6/19.4 MB 1.4 MB/s eta 0:00:11\n",
      "   --------- ------------------------------ 4.6/19.4 MB 1.4 MB/s eta 0:00:11\n",
      "   --------- ------------------------------ 4.6/19.4 MB 1.4 MB/s eta 0:00:11\n",
      "   --------- ------------------------------ 4.6/19.4 MB 1.4 MB/s eta 0:00:11\n",
      "   --------- ------------------------------ 4.6/19.4 MB 1.4 MB/s eta 0:00:11\n",
      "   --------- ------------------------------ 4.6/19.4 MB 1.4 MB/s eta 0:00:11\n",
      "   --------- ------------------------------ 4.6/19.4 MB 1.4 MB/s eta 0:00:11\n",
      "   --------- ------------------------------ 4.6/19.4 MB 1.4 MB/s eta 0:00:11\n",
      "   --------- ------------------------------ 4.6/19.4 MB 1.4 MB/s eta 0:00:11\n",
      "   --------- ------------------------------ 4.7/19.4 MB 1.3 MB/s eta 0:00:12\n",
      "   --------- ------------------------------ 4.7/19.4 MB 1.3 MB/s eta 0:00:12\n",
      "   --------- ------------------------------ 4.7/19.4 MB 1.3 MB/s eta 0:00:12\n",
      "   --------- ------------------------------ 4.8/19.4 MB 1.3 MB/s eta 0:00:12\n",
      "   ---------- ----------------------------- 4.9/19.4 MB 1.3 MB/s eta 0:00:12\n",
      "   ---------- ----------------------------- 4.9/19.4 MB 1.3 MB/s eta 0:00:12\n",
      "   ---------- ----------------------------- 5.1/19.4 MB 1.3 MB/s eta 0:00:12\n",
      "   ---------- ----------------------------- 5.2/19.4 MB 1.3 MB/s eta 0:00:12\n",
      "   ---------- ----------------------------- 5.3/19.4 MB 1.3 MB/s eta 0:00:11\n",
      "   ----------- ---------------------------- 5.4/19.4 MB 1.3 MB/s eta 0:00:11\n",
      "   ----------- ---------------------------- 5.4/19.4 MB 1.3 MB/s eta 0:00:11\n",
      "   ----------- ---------------------------- 5.5/19.4 MB 1.3 MB/s eta 0:00:11\n",
      "   ----------- ---------------------------- 5.6/19.4 MB 1.3 MB/s eta 0:00:11\n",
      "   ----------- ---------------------------- 5.7/19.4 MB 1.3 MB/s eta 0:00:11\n",
      "   ----------- ---------------------------- 5.7/19.4 MB 1.3 MB/s eta 0:00:11\n",
      "   ----------- ---------------------------- 5.8/19.4 MB 1.3 MB/s eta 0:00:11\n",
      "   ------------ --------------------------- 5.9/19.4 MB 1.3 MB/s eta 0:00:11\n",
      "   ------------ --------------------------- 6.0/19.4 MB 1.3 MB/s eta 0:00:10\n",
      "   ------------ --------------------------- 6.1/19.4 MB 1.4 MB/s eta 0:00:10\n",
      "   ------------ --------------------------- 6.2/19.4 MB 1.4 MB/s eta 0:00:10\n",
      "   ------------ --------------------------- 6.3/19.4 MB 1.4 MB/s eta 0:00:10\n",
      "   ------------- -------------------------- 6.4/19.4 MB 1.4 MB/s eta 0:00:10\n",
      "   ------------- -------------------------- 6.4/19.4 MB 1.4 MB/s eta 0:00:10\n",
      "   ------------- -------------------------- 6.5/19.4 MB 1.4 MB/s eta 0:00:10\n",
      "   ------------- -------------------------- 6.6/19.4 MB 1.4 MB/s eta 0:00:10\n",
      "   ------------- -------------------------- 6.7/19.4 MB 1.4 MB/s eta 0:00:10\n",
      "   -------------- ------------------------- 6.8/19.4 MB 1.4 MB/s eta 0:00:09\n",
      "   -------------- ------------------------- 6.9/19.4 MB 1.4 MB/s eta 0:00:09\n",
      "   -------------- ------------------------- 7.0/19.4 MB 1.4 MB/s eta 0:00:09\n",
      "   -------------- ------------------------- 7.0/19.4 MB 1.4 MB/s eta 0:00:09\n",
      "   -------------- ------------------------- 7.0/19.4 MB 1.4 MB/s eta 0:00:09\n",
      "   -------------- ------------------------- 7.0/19.4 MB 1.4 MB/s eta 0:00:09\n",
      "   -------------- ------------------------- 7.0/19.4 MB 1.4 MB/s eta 0:00:09\n",
      "   -------------- ------------------------- 7.0/19.4 MB 1.4 MB/s eta 0:00:10\n",
      "   -------------- ------------------------- 7.1/19.4 MB 1.4 MB/s eta 0:00:10\n",
      "   -------------- ------------------------- 7.2/19.4 MB 1.4 MB/s eta 0:00:09\n",
      "   -------------- ------------------------- 7.3/19.4 MB 1.4 MB/s eta 0:00:09\n",
      "   --------------- ------------------------ 7.3/19.4 MB 1.4 MB/s eta 0:00:09\n",
      "   --------------- ------------------------ 7.4/19.4 MB 1.4 MB/s eta 0:00:09\n",
      "   --------------- ------------------------ 7.5/19.4 MB 1.4 MB/s eta 0:00:09\n",
      "   --------------- ------------------------ 7.6/19.4 MB 1.4 MB/s eta 0:00:09\n",
      "   --------------- ------------------------ 7.8/19.4 MB 1.4 MB/s eta 0:00:09\n",
      "   ---------------- ----------------------- 7.8/19.4 MB 1.4 MB/s eta 0:00:09\n",
      "   ---------------- ----------------------- 7.9/19.4 MB 1.4 MB/s eta 0:00:09\n",
      "   ---------------- ----------------------- 8.0/19.4 MB 1.4 MB/s eta 0:00:09\n",
      "   ---------------- ----------------------- 8.1/19.4 MB 1.4 MB/s eta 0:00:09\n",
      "   ---------------- ----------------------- 8.2/19.4 MB 1.4 MB/s eta 0:00:08\n",
      "   ----------------- ---------------------- 8.3/19.4 MB 1.4 MB/s eta 0:00:08\n",
      "   ----------------- ---------------------- 8.4/19.4 MB 1.4 MB/s eta 0:00:08\n",
      "   ----------------- ---------------------- 8.4/19.4 MB 1.4 MB/s eta 0:00:08\n",
      "   ----------------- ---------------------- 8.5/19.4 MB 1.4 MB/s eta 0:00:08\n",
      "   ----------------- ---------------------- 8.6/19.4 MB 1.4 MB/s eta 0:00:08\n",
      "   ----------------- ---------------------- 8.7/19.4 MB 1.4 MB/s eta 0:00:08\n",
      "   ----------------- ---------------------- 8.7/19.4 MB 1.4 MB/s eta 0:00:08\n",
      "   ------------------ --------------------- 8.9/19.4 MB 1.4 MB/s eta 0:00:08\n",
      "   ------------------ --------------------- 8.9/19.4 MB 1.4 MB/s eta 0:00:08\n",
      "   ------------------ --------------------- 9.0/19.4 MB 1.5 MB/s eta 0:00:08\n",
      "   ------------------ --------------------- 9.1/19.4 MB 1.5 MB/s eta 0:00:08\n",
      "   ------------------ --------------------- 9.2/19.4 MB 1.5 MB/s eta 0:00:08\n",
      "   ------------------- -------------------- 9.3/19.4 MB 1.5 MB/s eta 0:00:07\n",
      "   ------------------- -------------------- 9.3/19.4 MB 1.5 MB/s eta 0:00:07\n",
      "   ------------------- -------------------- 9.4/19.4 MB 1.5 MB/s eta 0:00:07\n",
      "   ------------------- -------------------- 9.5/19.4 MB 1.5 MB/s eta 0:00:07\n",
      "   ------------------- -------------------- 9.5/19.4 MB 1.5 MB/s eta 0:00:07\n",
      "   ------------------- -------------------- 9.6/19.4 MB 1.5 MB/s eta 0:00:07\n",
      "   -------------------- ------------------- 9.7/19.4 MB 1.5 MB/s eta 0:00:07\n",
      "   -------------------- ------------------- 9.8/19.4 MB 1.5 MB/s eta 0:00:07\n",
      "   -------------------- ------------------- 9.9/19.4 MB 1.5 MB/s eta 0:00:07\n",
      "   -------------------- ------------------- 10.0/19.4 MB 1.5 MB/s eta 0:00:07\n",
      "   -------------------- ------------------- 10.1/19.4 MB 1.5 MB/s eta 0:00:07\n",
      "   -------------------- ------------------- 10.2/19.4 MB 1.5 MB/s eta 0:00:07\n",
      "   --------------------- ------------------ 10.3/19.4 MB 1.5 MB/s eta 0:00:07\n",
      "   --------------------- ------------------ 10.4/19.4 MB 1.5 MB/s eta 0:00:07\n",
      "   --------------------- ------------------ 10.4/19.4 MB 1.5 MB/s eta 0:00:07\n",
      "   --------------------- ------------------ 10.5/19.4 MB 1.5 MB/s eta 0:00:06\n",
      "   --------------------- ------------------ 10.7/19.4 MB 1.5 MB/s eta 0:00:06\n",
      "   ---------------------- ----------------- 10.8/19.4 MB 1.5 MB/s eta 0:00:06\n",
      "   ---------------------- ----------------- 11.0/19.4 MB 1.6 MB/s eta 0:00:06\n",
      "   ---------------------- ----------------- 11.1/19.4 MB 1.6 MB/s eta 0:00:06\n",
      "   ----------------------- ---------------- 11.2/19.4 MB 1.6 MB/s eta 0:00:06\n",
      "   ----------------------- ---------------- 11.3/19.4 MB 1.6 MB/s eta 0:00:05\n",
      "   ----------------------- ---------------- 11.5/19.4 MB 1.7 MB/s eta 0:00:05\n",
      "   ----------------------- ---------------- 11.6/19.4 MB 1.7 MB/s eta 0:00:05\n",
      "   ------------------------ --------------- 11.7/19.4 MB 1.7 MB/s eta 0:00:05\n",
      "   ------------------------ --------------- 11.8/19.4 MB 1.7 MB/s eta 0:00:05\n",
      "   ------------------------ --------------- 12.1/19.4 MB 1.7 MB/s eta 0:00:05\n",
      "   ------------------------- -------------- 12.2/19.4 MB 1.7 MB/s eta 0:00:05\n",
      "   ------------------------- -------------- 12.3/19.4 MB 1.7 MB/s eta 0:00:05\n",
      "   ------------------------- -------------- 12.4/19.4 MB 1.8 MB/s eta 0:00:04\n",
      "   ------------------------- -------------- 12.5/19.4 MB 1.8 MB/s eta 0:00:04\n",
      "   ------------------------- -------------- 12.6/19.4 MB 1.8 MB/s eta 0:00:04\n",
      "   -------------------------- ------------- 12.8/19.4 MB 1.8 MB/s eta 0:00:04\n",
      "   -------------------------- ------------- 12.8/19.4 MB 1.8 MB/s eta 0:00:04\n",
      "   -------------------------- ------------- 12.9/19.4 MB 1.8 MB/s eta 0:00:04\n",
      "   -------------------------- ------------- 13.1/19.4 MB 1.8 MB/s eta 0:00:04\n",
      "   --------------------------- ------------ 13.2/19.4 MB 1.8 MB/s eta 0:00:04\n",
      "   --------------------------- ------------ 13.3/19.4 MB 1.8 MB/s eta 0:00:04\n",
      "   --------------------------- ------------ 13.5/19.4 MB 1.8 MB/s eta 0:00:04\n",
      "   ---------------------------- ----------- 13.6/19.4 MB 1.8 MB/s eta 0:00:04\n",
      "   ---------------------------- ----------- 13.8/19.4 MB 1.9 MB/s eta 0:00:04\n",
      "   ---------------------------- ----------- 13.9/19.4 MB 1.9 MB/s eta 0:00:03\n",
      "   ---------------------------- ----------- 14.1/19.4 MB 1.9 MB/s eta 0:00:03\n",
      "   ----------------------------- ---------- 14.2/19.4 MB 1.9 MB/s eta 0:00:03\n",
      "   ----------------------------- ---------- 14.4/19.4 MB 1.9 MB/s eta 0:00:03\n",
      "   ----------------------------- ---------- 14.5/19.4 MB 1.9 MB/s eta 0:00:03\n",
      "   ------------------------------ --------- 14.7/19.4 MB 1.9 MB/s eta 0:00:03\n",
      "   ------------------------------ --------- 14.8/19.4 MB 1.9 MB/s eta 0:00:03\n",
      "   ------------------------------ --------- 14.9/19.4 MB 2.1 MB/s eta 0:00:03\n",
      "   ------------------------------ --------- 15.0/19.4 MB 2.1 MB/s eta 0:00:03\n",
      "   ------------------------------- -------- 15.1/19.4 MB 2.1 MB/s eta 0:00:03\n",
      "   ------------------------------- -------- 15.2/19.4 MB 2.2 MB/s eta 0:00:02\n",
      "   ------------------------------- -------- 15.3/19.4 MB 2.2 MB/s eta 0:00:02\n",
      "   ------------------------------- -------- 15.4/19.4 MB 2.2 MB/s eta 0:00:02\n",
      "   -------------------------------- ------- 15.6/19.4 MB 2.2 MB/s eta 0:00:02\n",
      "   -------------------------------- ------- 15.7/19.4 MB 2.2 MB/s eta 0:00:02\n",
      "   -------------------------------- ------- 15.9/19.4 MB 2.2 MB/s eta 0:00:02\n",
      "   -------------------------------- ------- 16.0/19.4 MB 2.2 MB/s eta 0:00:02\n",
      "   --------------------------------- ------ 16.1/19.4 MB 2.2 MB/s eta 0:00:02\n",
      "   --------------------------------- ------ 16.3/19.4 MB 2.2 MB/s eta 0:00:02\n",
      "   --------------------------------- ------ 16.4/19.4 MB 2.3 MB/s eta 0:00:02\n",
      "   ---------------------------------- ----- 16.6/19.4 MB 2.3 MB/s eta 0:00:02\n",
      "   ---------------------------------- ----- 16.7/19.4 MB 2.3 MB/s eta 0:00:02\n",
      "   ---------------------------------- ----- 16.9/19.4 MB 2.3 MB/s eta 0:00:02\n",
      "   ----------------------------------- ---- 17.0/19.4 MB 2.3 MB/s eta 0:00:02\n",
      "   ----------------------------------- ---- 17.1/19.4 MB 2.3 MB/s eta 0:00:02\n",
      "   ----------------------------------- ---- 17.2/19.4 MB 2.3 MB/s eta 0:00:01\n",
      "   ----------------------------------- ---- 17.4/19.4 MB 2.5 MB/s eta 0:00:01\n",
      "   ----------------------------------- ---- 17.5/19.4 MB 2.5 MB/s eta 0:00:01\n",
      "   ------------------------------------ --- 17.6/19.4 MB 2.5 MB/s eta 0:00:01\n",
      "   ------------------------------------ --- 17.7/19.4 MB 2.5 MB/s eta 0:00:01\n",
      "   ------------------------------------ --- 17.8/19.4 MB 2.5 MB/s eta 0:00:01\n",
      "   ------------------------------------ --- 17.9/19.4 MB 2.5 MB/s eta 0:00:01\n",
      "   ------------------------------------- -- 18.0/19.4 MB 2.5 MB/s eta 0:00:01\n",
      "   ------------------------------------- -- 18.1/19.4 MB 2.5 MB/s eta 0:00:01\n",
      "   ------------------------------------- -- 18.3/19.4 MB 2.5 MB/s eta 0:00:01\n",
      "   ------------------------------------- -- 18.4/19.4 MB 2.5 MB/s eta 0:00:01\n",
      "   -------------------------------------- - 18.5/19.4 MB 2.5 MB/s eta 0:00:01\n",
      "   -------------------------------------- - 18.6/19.4 MB 2.5 MB/s eta 0:00:01\n",
      "   -------------------------------------- - 18.7/19.4 MB 2.6 MB/s eta 0:00:01\n",
      "   -------------------------------------- - 18.9/19.4 MB 2.6 MB/s eta 0:00:01\n",
      "   ---------------------------------------  19.0/19.4 MB 2.6 MB/s eta 0:00:01\n",
      "   ---------------------------------------  19.1/19.4 MB 2.6 MB/s eta 0:00:01\n",
      "   ---------------------------------------  19.3/19.4 MB 2.7 MB/s eta 0:00:01\n",
      "   ---------------------------------------  19.4/19.4 MB 2.6 MB/s eta 0:00:01\n",
      "   ---------------------------------------  19.4/19.4 MB 2.6 MB/s eta 0:00:01\n",
      "   ---------------------------------------- 19.4/19.4 MB 2.6 MB/s eta 0:00:00\n",
      "Downloading JPype1-1.5.0-cp311-cp311-win_amd64.whl (351 kB)\n",
      "   ---------------------------------------- 0.0/351.5 kB ? eta -:--:--\n",
      "   ------------------- -------------------- 174.1/351.5 kB 3.6 MB/s eta 0:00:01\n",
      "   ------------------- -------------------- 174.1/351.5 kB 3.6 MB/s eta 0:00:01\n",
      "   ---------------------------------------- 351.5/351.5 kB 2.7 MB/s eta 0:00:00\n",
      "Installing collected packages: JPype1, konlpy\n",
      "Successfully installed JPype1-1.5.0 konlpy-0.6.0\n"
     ]
    },
    {
     "name": "stderr",
     "output_type": "stream",
     "text": [
      "\n",
      "[notice] A new release of pip is available: 24.0 -> 24.2\n",
      "[notice] To update, run: python.exe -m pip install --upgrade pip\n"
     ]
    }
   ],
   "source": [
    "!pip install konlpy"
   ]
  },
  {
   "cell_type": "code",
   "execution_count": 37,
   "metadata": {},
   "outputs": [
    {
     "name": "stdout",
     "output_type": "stream",
     "text": [
      "형태소: 최근, 품사: NNG\n",
      "형태소: 정부, 품사: NNG\n",
      "형태소: 주도, 품사: NNG\n",
      "형태소: 디지털, 품사: NNG\n",
      "형태소: 뉴딜, 품사: NNG\n",
      "형태소: 사업, 품사: NNG\n",
      "형태소: 이, 품사: VCP\n",
      "형태소: ㄴ, 품사: ETD\n",
      "형태소: 확장, 품사: NNG\n",
      "형태소: 현실, 품사: NNG\n",
      "형태소: (, 품사: SS\n",
      "형태소: XR, 품사: OL\n",
      "형태소: ), 품사: SS\n",
      "형태소: 메타, 품사: NNG\n",
      "형태소: 버스, 품사: NNG\n",
      "형태소: 프로젝트, 품사: NNG\n",
      "형태소: 는, 품사: JX\n",
      "형태소: 증강, 품사: NNG\n",
      "형태소: 현실, 품사: NNG\n",
      "형태소: (, 품사: SS\n",
      "형태소: AR, 품사: OL\n",
      "형태소: ), 품사: SS\n",
      "형태소: 플랫폼, 품사: NNG\n",
      "형태소: 분야, 품사: NNG\n",
      "형태소: 의, 품사: JKG\n",
      "형태소: 주도, 품사: NNG\n",
      "형태소: 기업, 품사: NNG\n",
      "형태소: 이, 품사: JKS\n",
      "형태소: 추진, 품사: NNG\n",
      "형태소: 하, 품사: XSV\n",
      "형태소: ㄹ, 품사: ETD\n",
      "형태소: 것, 품사: NNB\n",
      "형태소: 으로, 품사: JKM\n",
      "형태소: 예상, 품사: NNG\n",
      "형태소: 되, 품사: XSV\n",
      "형태소: ㄴ다, 품사: EFN\n",
      "형태소: ., 품사: SF\n"
     ]
    }
   ],
   "source": [
    "# ollama가 추천해준 코드 (240908)\n",
    "\n",
    "import nltk\n",
    "from konlpy.tag import Kkma\n",
    "\n",
    "# 한글 문장 입력\n",
    "sentence = \"최근 정부 주도 디지털뉴딜 사업인 확장현실(XR) 메타버스 프로젝트는 증강현실(AR) 플랫폼 분야의 주도 기업이 추진할 것으로 예상된다.\"\n",
    "\n",
    "# 형태소 분석을 위한 모델 로딩\n",
    "kkma = Kkma()\n",
    "\n",
    "# 형태소 분석\n",
    "morphs = kkma.pos(sentence)\n",
    "\n",
    "# 결과 출력\n",
    "for morph in morphs:\n",
    "    print(f\"형태소: {morph[0]}, 품사: {morph[1]}\")"
   ]
  },
  {
   "cell_type": "code",
   "execution_count": null,
   "metadata": {},
   "outputs": [],
   "source": []
  },
  {
   "cell_type": "code",
   "execution_count": null,
   "metadata": {},
   "outputs": [],
   "source": []
  }
 ],
 "metadata": {
  "kernelspec": {
   "display_name": "base",
   "language": "python",
   "name": "python3"
  },
  "language_info": {
   "codemirror_mode": {
    "name": "ipython",
    "version": 3
   },
   "file_extension": ".py",
   "mimetype": "text/x-python",
   "name": "python",
   "nbconvert_exporter": "python",
   "pygments_lexer": "ipython3",
   "version": "3.11.7"
  }
 },
 "nbformat": 4,
 "nbformat_minor": 2
}
