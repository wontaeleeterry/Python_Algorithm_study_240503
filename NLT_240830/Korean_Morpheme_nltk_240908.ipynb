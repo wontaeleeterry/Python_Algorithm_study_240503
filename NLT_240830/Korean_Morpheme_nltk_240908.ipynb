{
 "cells": [
  {
   "cell_type": "code",
   "execution_count": 2,
   "metadata": {},
   "outputs": [],
   "source": [
    "# 출처 : 고 노무현 대통령 연설문 중\n",
    "\n",
    "text = '''저는 스스로에게 묻습니다. 이들은 아홉 시 뉴스도 보지 못하고 일찍 잠자리에 들어야 하는 분들입니다. \n",
    "그래서 이 분들이 유시민을 모르고 심상정을 모르고 이 노회찬을 모를 수 있습니다. \n",
    "그러나 그렇다고 이 분들의 삶이 고단하지 않았던 순간이 있었겠습니까. \n",
    "이분들이 그 어려움 속에서 우리 같은 사람들을 찾을 때 우리는 어디 있었습니까. \n",
    "그들 눈 앞에 있었습니까. 그들의 손이 닿는 곳에 있었습니까. 그들의 목소리가 들리는 곳에 과연 있었습니까.'''"
   ]
  },
  {
   "cell_type": "code",
   "execution_count": 3,
   "metadata": {},
   "outputs": [
    {
     "name": "stdout",
     "output_type": "stream",
     "text": [
      "저는 스스로에게 묻습니다 이들은 아홉 시 뉴스도 보지 못하고 일찍 잠자리에 들어야 하는 분들입니다 \n",
      "그래서 이 분들이 유시민을 모르고 심상정을 모르고 이 노회찬을 모를 수 있습니다 \n",
      "그러나 그렇다고 이 분들의 삶이 고단하지 않았던 순간이 있었겠습니까 \n",
      "이분들이 그 어려움 속에서 우리 같은 사람들을 찾을 때 우리는 어디 있었습니까 \n",
      "그들 눈 앞에 있었습니까 그들의 손이 닿는 곳에 있었습니까 그들의 목소리가 들리는 곳에 과연 있었습니까\n"
     ]
    }
   ],
   "source": [
    "import string\n",
    "import re\n",
    "\n",
    "Cleaned_text = re.sub('[^\\w\\s]', '', text)\n",
    "print(Cleaned_text)"
   ]
  },
  {
   "cell_type": "code",
   "execution_count": 4,
   "metadata": {},
   "outputs": [
    {
     "name": "stdout",
     "output_type": "stream",
     "text": [
      "저는 스스로에게 묻습니다 이들은 아홉 시 뉴스도 보지 못하고 일찍 잠자리에 들어야 하는 분들입니다 그래서 이 분들이 유시민을 모르고 심상정을 모르고 이 노회찬을 모를 수 있습니다 그러나 그렇다고 이 분들의 삶이 고단하지 않았던 순간이 있었겠습니까 이분들이 그 어려움 속에서 우리 같은 사람들을 찾을 때 우리는 어디 있었습니까 그들 눈 앞에 있었습니까 그들의 손이 닿는 곳에 있었습니까 그들의 목소리가 들리는 곳에 과연 있었습니까\n"
     ]
    }
   ],
   "source": [
    "Cleaned_text = re.sub('\\n', '', Cleaned_text)\n",
    "print(Cleaned_text)"
   ]
  },
  {
   "cell_type": "code",
   "execution_count": 6,
   "metadata": {},
   "outputs": [
    {
     "name": "stdout",
     "output_type": "stream",
     "text": [
      "['저는', '스스로에게', '묻습니다', '이들은', '아홉', '시', '뉴스도', '보지', '못하고', '일찍', '잠자리에', '들어야', '하는', '분들입니다', '그래서', '이', '분들이', '유시민을', '모르고', '심상정을', '모르고', '이', '노회찬을', '모를', '수', '있습니다', '그러나', '그렇다고', '이', '분들의', '삶이', '고단하지', '않았던', '순간이', '있었겠습니까', '이분들이', '그', '어려움', '속에서', '우리', '같은', '사람들을', '찾을', '때', '우리는', '어디', '있었습니까', '그들', '눈', '앞에', '있었습니까', '그들의', '손이', '닿는', '곳에', '있었습니까', '그들의', '목소리가', '들리는', '곳에', '과연', '있었습니까']\n"
     ]
    }
   ],
   "source": [
    "# 사용자 정의 토크나이저 - 띄어쓰기 단위로 토큰화를 수행하는 함수를 정의\n",
    "\n",
    "def tokenizer(words):\n",
    "    tokens = words.split()  # 띄어쓰기 단위로 분할\n",
    "    return tokens\n",
    "\n",
    "tokens = tokenizer(Cleaned_text)\n",
    "print(tokens)"
   ]
  },
  {
   "cell_type": "code",
   "execution_count": 9,
   "metadata": {},
   "outputs": [
    {
     "name": "stdout",
     "output_type": "stream",
     "text": [
      "[('저', 'NP'), ('는', 'JX'), ('스스로', 'NNG'), ('에게', 'JKM'), ('묻', 'VV'), ('습니다', 'EFN'), ('이', 'NNG'), ('들', 'XSN'), ('은', 'JX'), ('아홉', 'NR'), ('시', 'NNB'), ('뉴스', 'NNG'), ('도', 'JX'), ('보', 'VV'), ('지', 'ECD'), ('못하', 'VX'), ('고', 'ECE'), ('일찍', 'MAG'), ('잠', 'NNG'), ('자리', 'NNG'), ('에', 'JKM'), ('듣', 'VV'), ('어야', 'ECD'), ('하', 'VV'), ('는', 'ETD'), ('분', 'NNG'), ('들', 'XSN'), ('이', 'VCP'), ('ㅂ니다', 'EFN'), ('그래서', 'MAC'), ('이', 'MDT'), ('분', 'NNG'), ('들', 'XSN'), ('이', 'JKS'), ('유', 'NNG'), ('시민', 'NNG'), ('을', 'JKO'), ('모르', 'VV'), ('고', 'ECE'), ('심상', 'NNG'), ('정', 'NNG'), ('을', 'JKO'), ('모르', 'VV'), ('고', 'ECE'), ('이', 'MDT'), ('노회', 'NNG'), ('찬', 'NNG'), ('을', 'JKO'), ('모르', 'VV'), ('ㄹ', 'ETD'), ('수', 'NNB'), ('있', 'VV'), ('습니다', 'EFN'), ('그러', 'VV'), ('나', 'ECE'), ('그렇', 'VA'), ('다고', 'EFN'), ('이', 'MDT'), ('분', 'NNG'), ('들', 'XSN'), ('의', 'JKG'), ('삶이', 'NNG'), ('고단', 'NNG'), ('하', 'XSV'), ('지', 'ECD'), ('않', 'VXV'), ('았', 'EPT'), ('더', 'EPT'), ('ㄴ', 'ETD'), ('순간', 'NNG'), ('이', 'JKS'), ('있', 'VV'), ('었', 'EPT'), ('겠', 'EPT'), ('습니까', 'EFQ'), ('이분', 'NNG'), ('들', 'XSN'), ('이', 'JKS'), ('그', 'MDT'), ('어려움', 'NNG'), ('속', 'NNG'), ('에서', 'JKM'), ('우리', 'NP'), ('같', 'VA'), ('은', 'ETD'), ('사람', 'NNG'), ('들', 'XSN'), ('을', 'JKO'), ('찾', 'VV'), ('을', 'ETD'), ('때', 'NNG'), ('우리', 'NP'), ('는', 'JX'), ('어디', 'NP'), ('있', 'VV'), ('었', 'EPT'), ('습니까', 'EFQ'), ('그', 'NP'), ('들', 'XSN'), ('눈', 'NNG'), ('앞', 'NNG'), ('에', 'JKM'), ('있', 'VV'), ('었', 'EPT'), ('습니까', 'EFQ'), ('그', 'NP'), ('들', 'XSN'), ('의', 'JKG'), ('손', 'NNG'), ('이', 'JKS'), ('닿', 'VV'), ('는', 'ETD'), ('곳', 'NNG'), ('에', 'JKM'), ('있', 'VV'), ('었', 'EPT'), ('습니까', 'EFQ'), ('그', 'NP'), ('들', 'XSN'), ('의', 'JKG'), ('목소리', 'NNG'), ('가', 'JKS'), ('들리', 'VV'), ('는', 'ETD'), ('곳', 'NNG'), ('에', 'JKM'), ('과연', 'MAG'), ('있', 'VV'), ('었', 'EPT'), ('습니까', 'EFQ')]\n"
     ]
    }
   ],
   "source": [
    "# 한글 형태소 분석을 위해\n",
    "# JPype1 과 KonNLpy 설치\n",
    "\n",
    "# !pip install JPype1\n",
    "# !pip install konlpy\n",
    "\n",
    "# 형태소 분석을 위한 다양한 방법이 있다. (240908)\n",
    "from konlpy.tag import Kkma\n",
    "\n",
    "kkma = Kkma()\n",
    "morphs = kkma.pos(Cleaned_text)\n",
    "print(morphs)"
   ]
  },
  {
   "cell_type": "code",
   "execution_count": 11,
   "metadata": {},
   "outputs": [
    {
     "name": "stdout",
     "output_type": "stream",
     "text": [
      "['저', '스스로', '이', '아홉', '시', '뉴스', '잠', '잠자리', '자리', '분', '유', '유시민', '시민', '심상', '심상정', '정', '노회', '노회찬', '찬', '수', '삶이', '고단', '순간', '이분', '어려움', '속', '우리', '사람', '때', '어디', '그', '눈', '앞', '손', '곳', '목소리']\n"
     ]
    }
   ],
   "source": [
    "# 형태소 분석 가운데 명사만을 추출할 필요가 있는 경우,\n",
    "\n",
    "noun_list = kkma.nouns(Cleaned_text)\n",
    "print(noun_list)"
   ]
  },
  {
   "cell_type": "code",
   "execution_count": 12,
   "metadata": {},
   "outputs": [],
   "source": [
    "# 신조어나 합성어를 잘 사용하기 위한 방법\n",
    "# 형태소 분석기의 사전을 사용하는 방법\n",
    "# koalanlp를 사용,\n",
    "\n",
    "from koalanlp.Util import initialize, finalize\n",
    "from koalanlp.proc import *\n",
    "from koalanlp import API"
   ]
  },
  {
   "cell_type": "code",
   "execution_count": 13,
   "metadata": {},
   "outputs": [
    {
     "name": "stderr",
     "output_type": "stream",
     "text": [
      "[root] Java gateway started with port number 52383\n",
      "[root] Callback server will use port number 25334\n",
      "[koalanlp.jip] JVM initialization procedure is completed.\n"
     ]
    }
   ],
   "source": [
    "# 형태소 번역기 설정\n",
    "\n",
    "initialize(java_options=\"-Xmx4g -Dfile.encoding=utf-8\", EUNJEON=\"2.0.2\", ETRI=\"2.0.2\")"
   ]
  },
  {
   "cell_type": "code",
   "execution_count": 17,
   "metadata": {},
   "outputs": [
    {
     "ename": "Py4JError",
     "evalue": "An error occurred while calling o220.hasNext. Trace:\njava.lang.reflect.InaccessibleObjectException: Unable to make public boolean java.util.ArrayList$Itr.hasNext() accessible: module java.base does not \"opens java.util\" to unnamed module @3849295b\r\n\tat java.base/java.lang.reflect.AccessibleObject.throwInaccessibleObjectException(AccessibleObject.java:388)\r\n\tat java.base/java.lang.reflect.AccessibleObject.checkCanSetAccessible(AccessibleObject.java:364)\r\n\tat java.base/java.lang.reflect.AccessibleObject.checkCanSetAccessible(AccessibleObject.java:312)\r\n\tat java.base/java.lang.reflect.Method.checkCanSetAccessible(Method.java:203)\r\n\tat java.base/java.lang.reflect.Method.setAccessible(Method.java:197)\r\n\tat py4j.reflection.MethodInvoker$1.run(MethodInvoker.java:240)\r\n\tat java.base/java.security.AccessController.doPrivileged(AccessController.java:319)\r\n\tat py4j.reflection.MethodInvoker.invoke(MethodInvoker.java:238)\r\n\tat py4j.reflection.ReflectionEngine.invoke(ReflectionEngine.java:357)\r\n\tat py4j.Gateway.invoke(Gateway.java:282)\r\n\tat py4j.commands.AbstractCommand.invokeMethod(AbstractCommand.java:132)\r\n\tat py4j.commands.CallCommand.execute(CallCommand.java:79)\r\n\tat py4j.GatewayConnection.run(GatewayConnection.java:238)\r\n\tat java.base/java.lang.Thread.run(Thread.java:1570)\r\n\n",
     "output_type": "error",
     "traceback": [
      "\u001b[1;31m---------------------------------------------------------------------------\u001b[0m",
      "\u001b[1;31mPy4JError\u001b[0m                                 Traceback (most recent call last)",
      "Cell \u001b[1;32mIn[17], line 2\u001b[0m\n\u001b[0;32m      1\u001b[0m tagger \u001b[38;5;241m=\u001b[39m Tagger(API\u001b[38;5;241m.\u001b[39mEUNJEON)\n\u001b[1;32m----> 2\u001b[0m tagged \u001b[38;5;241m=\u001b[39m tagger\u001b[38;5;241m.\u001b[39mtag(Cleaned_text)\n\u001b[0;32m      3\u001b[0m \u001b[38;5;28mprint\u001b[39m(tagged[\u001b[38;5;241m0\u001b[39m]\u001b[38;5;241m.\u001b[39msingleLineString())\n",
      "File \u001b[1;32mc:\\Users\\wonta\\anaconda3\\Lib\\site-packages\\koalanlp\\proc.py:146\u001b[0m, in \u001b[0;36mTagger.tag\u001b[1;34m(self, *text)\u001b[0m\n\u001b[0;32m    144\u001b[0m \u001b[38;5;28;01melse\u001b[39;00m:\n\u001b[0;32m    145\u001b[0m     \u001b[38;5;28;01mtry\u001b[39;00m:\n\u001b[1;32m--> 146\u001b[0m         result \u001b[38;5;241m+\u001b[39m\u001b[38;5;241m=\u001b[39m py_list(\u001b[38;5;28mself\u001b[39m\u001b[38;5;241m.\u001b[39m__api\u001b[38;5;241m.\u001b[39mtag(string(paragraph)), item_converter\u001b[38;5;241m=\u001b[39mSentence\u001b[38;5;241m.\u001b[39mfromJava)\n\u001b[0;32m    147\u001b[0m     \u001b[38;5;28;01mexcept\u001b[39;00m JavaError \u001b[38;5;28;01mas\u001b[39;00m e:\n\u001b[0;32m    148\u001b[0m         error_handler(e)\n",
      "File \u001b[1;32mc:\\Users\\wonta\\anaconda3\\Lib\\site-packages\\koalanlp\\jvm.py:119\u001b[0m, in \u001b[0;36mpy_list\u001b[1;34m(result, item_converter)\u001b[0m\n\u001b[0;32m    116\u001b[0m items \u001b[38;5;241m=\u001b[39m []\n\u001b[0;32m    118\u001b[0m it \u001b[38;5;241m=\u001b[39m result\u001b[38;5;241m.\u001b[39miterator()\n\u001b[1;32m--> 119\u001b[0m \u001b[38;5;28;01mwhile\u001b[39;00m it\u001b[38;5;241m.\u001b[39mhasNext():\n\u001b[0;32m    120\u001b[0m     items\u001b[38;5;241m.\u001b[39mappend(it\u001b[38;5;241m.\u001b[39mnext())\n\u001b[0;32m    122\u001b[0m result \u001b[38;5;241m=\u001b[39m items\n",
      "File \u001b[1;32mc:\\Users\\wonta\\anaconda3\\Lib\\site-packages\\py4j\\java_gateway.py:1322\u001b[0m, in \u001b[0;36mJavaMember.__call__\u001b[1;34m(self, *args)\u001b[0m\n\u001b[0;32m   1316\u001b[0m command \u001b[38;5;241m=\u001b[39m proto\u001b[38;5;241m.\u001b[39mCALL_COMMAND_NAME \u001b[38;5;241m+\u001b[39m\\\n\u001b[0;32m   1317\u001b[0m     \u001b[38;5;28mself\u001b[39m\u001b[38;5;241m.\u001b[39mcommand_header \u001b[38;5;241m+\u001b[39m\\\n\u001b[0;32m   1318\u001b[0m     args_command \u001b[38;5;241m+\u001b[39m\\\n\u001b[0;32m   1319\u001b[0m     proto\u001b[38;5;241m.\u001b[39mEND_COMMAND_PART\n\u001b[0;32m   1321\u001b[0m answer \u001b[38;5;241m=\u001b[39m \u001b[38;5;28mself\u001b[39m\u001b[38;5;241m.\u001b[39mgateway_client\u001b[38;5;241m.\u001b[39msend_command(command)\n\u001b[1;32m-> 1322\u001b[0m return_value \u001b[38;5;241m=\u001b[39m get_return_value(\n\u001b[0;32m   1323\u001b[0m     answer, \u001b[38;5;28mself\u001b[39m\u001b[38;5;241m.\u001b[39mgateway_client, \u001b[38;5;28mself\u001b[39m\u001b[38;5;241m.\u001b[39mtarget_id, \u001b[38;5;28mself\u001b[39m\u001b[38;5;241m.\u001b[39mname)\n\u001b[0;32m   1325\u001b[0m \u001b[38;5;28;01mfor\u001b[39;00m temp_arg \u001b[38;5;129;01min\u001b[39;00m temp_args:\n\u001b[0;32m   1326\u001b[0m     \u001b[38;5;28;01mif\u001b[39;00m \u001b[38;5;28mhasattr\u001b[39m(temp_arg, \u001b[38;5;124m\"\u001b[39m\u001b[38;5;124m_detach\u001b[39m\u001b[38;5;124m\"\u001b[39m):\n",
      "File \u001b[1;32mc:\\Users\\wonta\\anaconda3\\Lib\\site-packages\\py4j\\protocol.py:330\u001b[0m, in \u001b[0;36mget_return_value\u001b[1;34m(answer, gateway_client, target_id, name)\u001b[0m\n\u001b[0;32m    326\u001b[0m         \u001b[38;5;28;01mraise\u001b[39;00m Py4JJavaError(\n\u001b[0;32m    327\u001b[0m             \u001b[38;5;124m\"\u001b[39m\u001b[38;5;124mAn error occurred while calling \u001b[39m\u001b[38;5;132;01m{0}\u001b[39;00m\u001b[38;5;132;01m{1}\u001b[39;00m\u001b[38;5;132;01m{2}\u001b[39;00m\u001b[38;5;124m.\u001b[39m\u001b[38;5;130;01m\\n\u001b[39;00m\u001b[38;5;124m\"\u001b[39m\u001b[38;5;241m.\u001b[39m\n\u001b[0;32m    328\u001b[0m             \u001b[38;5;28mformat\u001b[39m(target_id, \u001b[38;5;124m\"\u001b[39m\u001b[38;5;124m.\u001b[39m\u001b[38;5;124m\"\u001b[39m, name), value)\n\u001b[0;32m    329\u001b[0m     \u001b[38;5;28;01melse\u001b[39;00m:\n\u001b[1;32m--> 330\u001b[0m         \u001b[38;5;28;01mraise\u001b[39;00m Py4JError(\n\u001b[0;32m    331\u001b[0m             \u001b[38;5;124m\"\u001b[39m\u001b[38;5;124mAn error occurred while calling \u001b[39m\u001b[38;5;132;01m{0}\u001b[39;00m\u001b[38;5;132;01m{1}\u001b[39;00m\u001b[38;5;132;01m{2}\u001b[39;00m\u001b[38;5;124m. Trace:\u001b[39m\u001b[38;5;130;01m\\n\u001b[39;00m\u001b[38;5;132;01m{3}\u001b[39;00m\u001b[38;5;130;01m\\n\u001b[39;00m\u001b[38;5;124m\"\u001b[39m\u001b[38;5;241m.\u001b[39m\n\u001b[0;32m    332\u001b[0m             \u001b[38;5;28mformat\u001b[39m(target_id, \u001b[38;5;124m\"\u001b[39m\u001b[38;5;124m.\u001b[39m\u001b[38;5;124m\"\u001b[39m, name, value))\n\u001b[0;32m    333\u001b[0m \u001b[38;5;28;01melse\u001b[39;00m:\n\u001b[0;32m    334\u001b[0m     \u001b[38;5;28;01mraise\u001b[39;00m Py4JError(\n\u001b[0;32m    335\u001b[0m         \u001b[38;5;124m\"\u001b[39m\u001b[38;5;124mAn error occurred while calling \u001b[39m\u001b[38;5;132;01m{0}\u001b[39;00m\u001b[38;5;132;01m{1}\u001b[39;00m\u001b[38;5;132;01m{2}\u001b[39;00m\u001b[38;5;124m\"\u001b[39m\u001b[38;5;241m.\u001b[39m\n\u001b[0;32m    336\u001b[0m         \u001b[38;5;28mformat\u001b[39m(target_id, \u001b[38;5;124m\"\u001b[39m\u001b[38;5;124m.\u001b[39m\u001b[38;5;124m\"\u001b[39m, name))\n",
      "\u001b[1;31mPy4JError\u001b[0m: An error occurred while calling o220.hasNext. Trace:\njava.lang.reflect.InaccessibleObjectException: Unable to make public boolean java.util.ArrayList$Itr.hasNext() accessible: module java.base does not \"opens java.util\" to unnamed module @3849295b\r\n\tat java.base/java.lang.reflect.AccessibleObject.throwInaccessibleObjectException(AccessibleObject.java:388)\r\n\tat java.base/java.lang.reflect.AccessibleObject.checkCanSetAccessible(AccessibleObject.java:364)\r\n\tat java.base/java.lang.reflect.AccessibleObject.checkCanSetAccessible(AccessibleObject.java:312)\r\n\tat java.base/java.lang.reflect.Method.checkCanSetAccessible(Method.java:203)\r\n\tat java.base/java.lang.reflect.Method.setAccessible(Method.java:197)\r\n\tat py4j.reflection.MethodInvoker$1.run(MethodInvoker.java:240)\r\n\tat java.base/java.security.AccessController.doPrivileged(AccessController.java:319)\r\n\tat py4j.reflection.MethodInvoker.invoke(MethodInvoker.java:238)\r\n\tat py4j.reflection.ReflectionEngine.invoke(ReflectionEngine.java:357)\r\n\tat py4j.Gateway.invoke(Gateway.java:282)\r\n\tat py4j.commands.AbstractCommand.invokeMethod(AbstractCommand.java:132)\r\n\tat py4j.commands.CallCommand.execute(CallCommand.java:79)\r\n\tat py4j.GatewayConnection.run(GatewayConnection.java:238)\r\n\tat java.base/java.lang.Thread.run(Thread.java:1570)\r\n\n"
     ]
    }
   ],
   "source": [
    "# Java 에러 발생\n",
    "\n",
    "tagger = Tagger(API.EUNJEON)\n",
    "tagged = tagger.tag(Cleaned_text)\n",
    "print(tagged[0].singleLineString())"
   ]
  },
  {
   "cell_type": "code",
   "execution_count": null,
   "metadata": {},
   "outputs": [],
   "source": []
  }
 ],
 "metadata": {
  "kernelspec": {
   "display_name": "base",
   "language": "python",
   "name": "python3"
  },
  "language_info": {
   "codemirror_mode": {
    "name": "ipython",
    "version": 3
   },
   "file_extension": ".py",
   "mimetype": "text/x-python",
   "name": "python",
   "nbconvert_exporter": "python",
   "pygments_lexer": "ipython3",
   "version": "3.11.7"
  }
 },
 "nbformat": 4,
 "nbformat_minor": 2
}
